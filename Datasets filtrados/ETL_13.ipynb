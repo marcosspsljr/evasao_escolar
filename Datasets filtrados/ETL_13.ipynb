{
 "cells": [
  {
   "cell_type": "markdown",
   "metadata": {},
   "source": [
    "# Modelo para ETL"
   ]
  },
  {
   "cell_type": "markdown",
   "metadata": {},
   "source": [
    "## Objetivos:\n",
    "\n",
    "- Remover as colunas desnecessárias para a análise;\n",
    "- Filtrar o dataset considerando somente o município de Curitiba e ensino fundamental;\n",
    "- Tratamento de duplicatas e NAs;\n",
    "- Comparação de dois anos consecutivos para criação da coluna target evasão."
   ]
  },
  {
   "cell_type": "markdown",
   "metadata": {},
   "source": [
    "Carregar a biblioteca Pandas"
   ]
  },
  {
   "cell_type": "code",
   "execution_count": 1,
   "metadata": {},
   "outputs": [],
   "source": [
    "import pandas as pd"
   ]
  },
  {
   "cell_type": "markdown",
   "metadata": {},
   "source": [
    "Carregar os dados do primeiro ano de análise, já filtrando as colunas de interesse"
   ]
  },
  {
   "cell_type": "code",
   "execution_count": 2,
   "metadata": {},
   "outputs": [
    {
     "name": "stderr",
     "output_type": "stream",
     "text": [
      "C:\\Users\\rafae\\anaconda3\\lib\\site-packages\\IPython\\core\\interactiveshell.py:3146: DtypeWarning: Columns (40,43,45,48,49) have mixed types.Specify dtype option on import or set low_memory=False.\n",
      "  has_raised = await self.run_ast_nodes(code_ast.body, cell_name,\n"
     ]
    }
   ],
   "source": [
    "matr_2013 = pd.read_csv('MATRICULA_SUL_2013.CSV', sep='|', usecols=\n",
    "                        ['FK_COD_ALUNO',\n",
    "                        'NUM_IDADE',\n",
    "                        'TP_SEXO',\n",
    "                        'TP_COR_RACA',\n",
    "                        'TP_NACIONALIDADE',\n",
    "                        'ID_ZONA_RESIDENCIAL',\n",
    "                        'ID_TIPO_ATENDIMENTO',\n",
    "                        'ID_POSSUI_NEC_ESPECIAL',\n",
    "                        'ID_TIPO_NEC_ESP_CEGUEIRA',\n",
    "                        'ID_TIPO_NEC_ESP_BAIXA_VISAO',\n",
    "                        'ID_TIPO_NEC_ESP_SURDEZ',\n",
    "                        'ID_TIPO_NEC_ESP_DEF_AUDITIVA',\n",
    "                        'ID_TIPO_NEC_ESP_SURDO_CEGUEIRA',\n",
    "                        'ID_TIPO_NEC_ESP_DEF_FISICA',\n",
    "                        'ID_TIPO_NEC_ESP_DEF_MENTAL',\n",
    "                        'ID_TIPO_NEC_ESP_DEF_MULTIPLAS',\n",
    "                        'ID_TIPO_NEC_ESP_AUTISMO',\n",
    "                        'ID_TIPO_NEC_ESP_ASPERGER',\n",
    "                        'ID_TIPO_NEC_ESP_RETT',\n",
    "                        'ID_TIPO_NEC_ESP_TDI',\n",
    "                        'ID_TIPO_NEC_ESP_SUPERDOTACAO',\n",
    "                        'FK_COD_ETAPA_ENSINO',\n",
    "                        'COD_UNIFICADA',\n",
    "                        'FK_COD_TIPO_TURMA',\n",
    "                        'PK_COD_ENTIDADE',\n",
    "                        'ID_DEPENDENCIA_ADM_ESC',\n",
    "                        'ID_LOCALIZACAO_ESC',\n",
    "                        'FK_COD_MUNICIPIO_END'])"
   ]
  },
  {
   "cell_type": "code",
   "execution_count": 3,
   "metadata": {},
   "outputs": [],
   "source": [
    "matr_2013.rename(columns={'FK_COD_ALUNO': 'CO_PESSOA_FISICA',\n",
    "                        'NUM_IDADE': 'NU_IDADE',\n",
    "                        'TP_SEXO': 'TP_SEXO',\n",
    "                        'TP_COR_RACA': 'TP_COR_RACA',\n",
    "                        'TP_NACIONALIDADE': 'TP_NACIONALIDADE',\n",
    "                        'ID_ZONA_RESIDENCIAL': 'TP_ZONA_RESIDENCIAL',\n",
    "                        'ID_TIPO_ATENDIMENTO': 'TP_OUTRO_LOCAL_AULA',\n",
    "                        'ID_POSSUI_NEC_ESPECIAL': 'IN_NECESSIDADE_ESPECIAL',\n",
    "                        'ID_TIPO_NEC_ESP_CEGUEIRA': 'IN_CEGUEIRA',\n",
    "                        'ID_TIPO_NEC_ESP_BAIXA_VISAO': 'IN_BAIXA_VISAO',\n",
    "                        'ID_TIPO_NEC_ESP_SURDEZ': 'IN_SURDEZ',\n",
    "                        'ID_TIPO_NEC_ESP_DEF_AUDITIVA': 'IN_DEF_AUDITIVA',\n",
    "                        'ID_TIPO_NEC_ESP_SURDO_CEGUEIRA': 'IN_SURDOCEGUEIRA',\n",
    "                        'ID_TIPO_NEC_ESP_DEF_FISICA': 'IN_DEF_FISICA',\n",
    "                        'ID_TIPO_NEC_ESP_DEF_MENTAL': 'IN_DEF_INTELECTUAL',\n",
    "                        'ID_TIPO_NEC_ESP_DEF_MULTIPLAS': 'IN_DEF_MULTIPLA',\n",
    "                        'ID_TIPO_NEC_ESP_AUTISMO': 'IN_AUTISMO',\n",
    "                        'ID_TIPO_NEC_ESP_ASPERGER': 'IN_SINDROME_ASPERGER',\n",
    "                        'ID_TIPO_NEC_ESP_RETT': 'IN_SINDROME_RETT',\n",
    "                        'ID_TIPO_NEC_ESP_TDI': 'IN_TRANSTORNO_DI',\n",
    "                        'ID_TIPO_NEC_ESP_SUPERDOTACAO': 'IN_SUPERDOTACAO',\n",
    "                        'FK_COD_ETAPA_ENSINO': 'TP_ETAPA_ENSINO',\n",
    "                        'COD_UNIFICADA': 'TP_UNIFICADA',\n",
    "                        'FK_COD_TIPO_TURMA': 'TP_TIPO_TURMA',\n",
    "                        'PK_COD_ENTIDADE': 'CO_ENTIDADE',\n",
    "                        'ID_DEPENDENCIA_ADM_ESC': 'TP_DEPENDENCIA',\n",
    "                        'ID_LOCALIZACAO_ESC': 'TP_LOCALIZACAO',\n",
    "                        'FK_COD_MUNICIPIO_END': 'CO_MUNICIPIO_END'}, inplace=True)"
   ]
  },
  {
   "cell_type": "markdown",
   "metadata": {},
   "source": [
    "Filtro para o município de Curitiba (cód 4106902)"
   ]
  },
  {
   "cell_type": "code",
   "execution_count": 4,
   "metadata": {},
   "outputs": [],
   "source": [
    "matr_2013 = matr_2013.query('CO_MUNICIPIO_END == 4106902')"
   ]
  },
  {
   "cell_type": "markdown",
   "metadata": {},
   "source": [
    "Filtro para ensino fundamental (1° a 7° série e 1° ao 8° ano)"
   ]
  },
  {
   "cell_type": "code",
   "execution_count": 5,
   "metadata": {},
   "outputs": [],
   "source": [
    "filtro = [4, 5, 6, 7, 8, 9, 10, 14, 15, 16, 17, 18, 19, 20,\n",
    "                21]"
   ]
  },
  {
   "cell_type": "code",
   "execution_count": 6,
   "metadata": {},
   "outputs": [],
   "source": [
    "matr_2013 = matr_2013[matr_2013.TP_ETAPA_ENSINO.isin(filtro)]"
   ]
  },
  {
   "cell_type": "markdown",
   "metadata": {},
   "source": [
    "Conferindo a dimensão resultante dos filtros"
   ]
  },
  {
   "cell_type": "code",
   "execution_count": 7,
   "metadata": {},
   "outputs": [
    {
     "data": {
      "text/plain": [
       "(172798, 28)"
      ]
     },
     "execution_count": 7,
     "metadata": {},
     "output_type": "execute_result"
    }
   ],
   "source": [
    "matr_2013.shape"
   ]
  },
  {
   "cell_type": "markdown",
   "metadata": {},
   "source": [
    "Verificando registros duplicados"
   ]
  },
  {
   "cell_type": "code",
   "execution_count": 8,
   "metadata": {},
   "outputs": [
    {
     "data": {
      "text/html": [
       "<div>\n",
       "<style scoped>\n",
       "    .dataframe tbody tr th:only-of-type {\n",
       "        vertical-align: middle;\n",
       "    }\n",
       "\n",
       "    .dataframe tbody tr th {\n",
       "        vertical-align: top;\n",
       "    }\n",
       "\n",
       "    .dataframe thead th {\n",
       "        text-align: right;\n",
       "    }\n",
       "</style>\n",
       "<table border=\"1\" class=\"dataframe\">\n",
       "  <thead>\n",
       "    <tr style=\"text-align: right;\">\n",
       "      <th></th>\n",
       "      <th>CO_PESSOA_FISICA</th>\n",
       "      <th>NU_IDADE</th>\n",
       "      <th>TP_SEXO</th>\n",
       "      <th>TP_COR_RACA</th>\n",
       "      <th>TP_NACIONALIDADE</th>\n",
       "      <th>CO_MUNICIPIO_END</th>\n",
       "      <th>TP_ZONA_RESIDENCIAL</th>\n",
       "      <th>TP_OUTRO_LOCAL_AULA</th>\n",
       "      <th>IN_NECESSIDADE_ESPECIAL</th>\n",
       "      <th>IN_CEGUEIRA</th>\n",
       "      <th>...</th>\n",
       "      <th>IN_SINDROME_ASPERGER</th>\n",
       "      <th>IN_SINDROME_RETT</th>\n",
       "      <th>IN_TRANSTORNO_DI</th>\n",
       "      <th>IN_SUPERDOTACAO</th>\n",
       "      <th>TP_ETAPA_ENSINO</th>\n",
       "      <th>TP_UNIFICADA</th>\n",
       "      <th>TP_TIPO_TURMA</th>\n",
       "      <th>CO_ENTIDADE</th>\n",
       "      <th>TP_LOCALIZACAO</th>\n",
       "      <th>TP_DEPENDENCIA</th>\n",
       "    </tr>\n",
       "  </thead>\n",
       "  <tbody>\n",
       "    <tr>\n",
       "      <th>441980</th>\n",
       "      <td>119050575802</td>\n",
       "      <td>9</td>\n",
       "      <td>M</td>\n",
       "      <td>3</td>\n",
       "      <td>1</td>\n",
       "      <td>4106902.0</td>\n",
       "      <td>1.0</td>\n",
       "      <td>3.0</td>\n",
       "      <td>0.0</td>\n",
       "      <td>0.0</td>\n",
       "      <td>...</td>\n",
       "      <td>0.0</td>\n",
       "      <td>0.0</td>\n",
       "      <td>0</td>\n",
       "      <td>0</td>\n",
       "      <td>17.0</td>\n",
       "      <td>0.0</td>\n",
       "      <td>0.0</td>\n",
       "      <td>41130111.0</td>\n",
       "      <td>1.0</td>\n",
       "      <td>3.0</td>\n",
       "    </tr>\n",
       "    <tr>\n",
       "      <th>1987659</th>\n",
       "      <td>120517140968</td>\n",
       "      <td>9</td>\n",
       "      <td>F</td>\n",
       "      <td>1</td>\n",
       "      <td>1</td>\n",
       "      <td>4106902.0</td>\n",
       "      <td>1.0</td>\n",
       "      <td>3.0</td>\n",
       "      <td>0.0</td>\n",
       "      <td>0.0</td>\n",
       "      <td>...</td>\n",
       "      <td>0.0</td>\n",
       "      <td>0.0</td>\n",
       "      <td>0</td>\n",
       "      <td>0</td>\n",
       "      <td>15.0</td>\n",
       "      <td>0.0</td>\n",
       "      <td>0.0</td>\n",
       "      <td>41133749.0</td>\n",
       "      <td>1.0</td>\n",
       "      <td>3.0</td>\n",
       "    </tr>\n",
       "    <tr>\n",
       "      <th>2764940</th>\n",
       "      <td>120517140968</td>\n",
       "      <td>9</td>\n",
       "      <td>F</td>\n",
       "      <td>1</td>\n",
       "      <td>1</td>\n",
       "      <td>4106902.0</td>\n",
       "      <td>1.0</td>\n",
       "      <td>3.0</td>\n",
       "      <td>0.0</td>\n",
       "      <td>0.0</td>\n",
       "      <td>...</td>\n",
       "      <td>0.0</td>\n",
       "      <td>0.0</td>\n",
       "      <td>0</td>\n",
       "      <td>0</td>\n",
       "      <td>16.0</td>\n",
       "      <td>0.0</td>\n",
       "      <td>0.0</td>\n",
       "      <td>41357744.0</td>\n",
       "      <td>1.0</td>\n",
       "      <td>3.0</td>\n",
       "    </tr>\n",
       "    <tr>\n",
       "      <th>2991939</th>\n",
       "      <td>124191165428</td>\n",
       "      <td>6</td>\n",
       "      <td>F</td>\n",
       "      <td>3</td>\n",
       "      <td>1</td>\n",
       "      <td>4106902.0</td>\n",
       "      <td>1.0</td>\n",
       "      <td>3.0</td>\n",
       "      <td>0.0</td>\n",
       "      <td>0.0</td>\n",
       "      <td>...</td>\n",
       "      <td>0.0</td>\n",
       "      <td>0.0</td>\n",
       "      <td>0</td>\n",
       "      <td>0</td>\n",
       "      <td>14.0</td>\n",
       "      <td>0.0</td>\n",
       "      <td>0.0</td>\n",
       "      <td>41357850.0</td>\n",
       "      <td>1.0</td>\n",
       "      <td>3.0</td>\n",
       "    </tr>\n",
       "    <tr>\n",
       "      <th>3072859</th>\n",
       "      <td>119050575802</td>\n",
       "      <td>9</td>\n",
       "      <td>M</td>\n",
       "      <td>3</td>\n",
       "      <td>1</td>\n",
       "      <td>4106902.0</td>\n",
       "      <td>1.0</td>\n",
       "      <td>3.0</td>\n",
       "      <td>0.0</td>\n",
       "      <td>0.0</td>\n",
       "      <td>...</td>\n",
       "      <td>0.0</td>\n",
       "      <td>0.0</td>\n",
       "      <td>0</td>\n",
       "      <td>0</td>\n",
       "      <td>17.0</td>\n",
       "      <td>0.0</td>\n",
       "      <td>0.0</td>\n",
       "      <td>41004035.0</td>\n",
       "      <td>1.0</td>\n",
       "      <td>3.0</td>\n",
       "    </tr>\n",
       "    <tr>\n",
       "      <th>6100282</th>\n",
       "      <td>124191165428</td>\n",
       "      <td>6</td>\n",
       "      <td>F</td>\n",
       "      <td>3</td>\n",
       "      <td>1</td>\n",
       "      <td>4106902.0</td>\n",
       "      <td>1.0</td>\n",
       "      <td>3.0</td>\n",
       "      <td>0.0</td>\n",
       "      <td>0.0</td>\n",
       "      <td>...</td>\n",
       "      <td>0.0</td>\n",
       "      <td>0.0</td>\n",
       "      <td>0</td>\n",
       "      <td>0</td>\n",
       "      <td>14.0</td>\n",
       "      <td>0.0</td>\n",
       "      <td>0.0</td>\n",
       "      <td>41385950.0</td>\n",
       "      <td>1.0</td>\n",
       "      <td>3.0</td>\n",
       "    </tr>\n",
       "  </tbody>\n",
       "</table>\n",
       "<p>6 rows × 28 columns</p>\n",
       "</div>"
      ],
      "text/plain": [
       "         CO_PESSOA_FISICA  NU_IDADE TP_SEXO  TP_COR_RACA  TP_NACIONALIDADE  \\\n",
       "441980       119050575802         9       M            3                 1   \n",
       "1987659      120517140968         9       F            1                 1   \n",
       "2764940      120517140968         9       F            1                 1   \n",
       "2991939      124191165428         6       F            3                 1   \n",
       "3072859      119050575802         9       M            3                 1   \n",
       "6100282      124191165428         6       F            3                 1   \n",
       "\n",
       "         CO_MUNICIPIO_END  TP_ZONA_RESIDENCIAL  TP_OUTRO_LOCAL_AULA  \\\n",
       "441980          4106902.0                  1.0                  3.0   \n",
       "1987659         4106902.0                  1.0                  3.0   \n",
       "2764940         4106902.0                  1.0                  3.0   \n",
       "2991939         4106902.0                  1.0                  3.0   \n",
       "3072859         4106902.0                  1.0                  3.0   \n",
       "6100282         4106902.0                  1.0                  3.0   \n",
       "\n",
       "         IN_NECESSIDADE_ESPECIAL  IN_CEGUEIRA  ...  IN_SINDROME_ASPERGER  \\\n",
       "441980                       0.0          0.0  ...                   0.0   \n",
       "1987659                      0.0          0.0  ...                   0.0   \n",
       "2764940                      0.0          0.0  ...                   0.0   \n",
       "2991939                      0.0          0.0  ...                   0.0   \n",
       "3072859                      0.0          0.0  ...                   0.0   \n",
       "6100282                      0.0          0.0  ...                   0.0   \n",
       "\n",
       "         IN_SINDROME_RETT IN_TRANSTORNO_DI  IN_SUPERDOTACAO  TP_ETAPA_ENSINO  \\\n",
       "441980                0.0                0                0             17.0   \n",
       "1987659               0.0                0                0             15.0   \n",
       "2764940               0.0                0                0             16.0   \n",
       "2991939               0.0                0                0             14.0   \n",
       "3072859               0.0                0                0             17.0   \n",
       "6100282               0.0                0                0             14.0   \n",
       "\n",
       "        TP_UNIFICADA  TP_TIPO_TURMA CO_ENTIDADE  TP_LOCALIZACAO  \\\n",
       "441980           0.0            0.0  41130111.0             1.0   \n",
       "1987659          0.0            0.0  41133749.0             1.0   \n",
       "2764940          0.0            0.0  41357744.0             1.0   \n",
       "2991939          0.0            0.0  41357850.0             1.0   \n",
       "3072859          0.0            0.0  41004035.0             1.0   \n",
       "6100282          0.0            0.0  41385950.0             1.0   \n",
       "\n",
       "         TP_DEPENDENCIA  \n",
       "441980              3.0  \n",
       "1987659             3.0  \n",
       "2764940             3.0  \n",
       "2991939             3.0  \n",
       "3072859             3.0  \n",
       "6100282             3.0  \n",
       "\n",
       "[6 rows x 28 columns]"
      ]
     },
     "execution_count": 8,
     "metadata": {},
     "output_type": "execute_result"
    }
   ],
   "source": [
    "matr_2013[matr_2013.duplicated(subset='CO_PESSOA_FISICA', keep=False)]"
   ]
  },
  {
   "cell_type": "markdown",
   "metadata": {},
   "source": [
    "Como os registros duplicados representam uma quantidade muito pequena dos dados, optamos por fazer a remoção dessas linhas"
   ]
  },
  {
   "cell_type": "code",
   "execution_count": 9,
   "metadata": {},
   "outputs": [],
   "source": [
    "matr_2013.drop_duplicates(subset=['CO_PESSOA_FISICA'], keep=False, inplace=True, ignore_index=True)"
   ]
  },
  {
   "cell_type": "markdown",
   "metadata": {},
   "source": [
    "Dimensão final da tabela do primeiro ano de análise"
   ]
  },
  {
   "cell_type": "code",
   "execution_count": 10,
   "metadata": {},
   "outputs": [
    {
     "data": {
      "text/plain": [
       "(172792, 28)"
      ]
     },
     "execution_count": 10,
     "metadata": {},
     "output_type": "execute_result"
    }
   ],
   "source": [
    "matr_2013.shape"
   ]
  },
  {
   "cell_type": "markdown",
   "metadata": {},
   "source": [
    "Recodificando os anos escolares para facilitar a análise posterior"
   ]
  },
  {
   "cell_type": "code",
   "execution_count": 11,
   "metadata": {},
   "outputs": [],
   "source": [
    "matr_2013['TP_ETAPA_ENSINO'].replace(14, 1, inplace=True) # 1° ano\n",
    "matr_2013['TP_ETAPA_ENSINO'].replace([4, 15], 2, inplace=True) # 2° ano\n",
    "matr_2013['TP_ETAPA_ENSINO'].replace([5, 16], 3, inplace=True) # 3° ano\n",
    "matr_2013['TP_ETAPA_ENSINO'].replace([6, 17], 4, inplace=True) # 4° ano\n",
    "matr_2013['TP_ETAPA_ENSINO'].replace([7, 18], 5, inplace=True) # 5° ano\n",
    "matr_2013['TP_ETAPA_ENSINO'].replace([8, 19], 6, inplace=True) # 6° ano\n",
    "matr_2013['TP_ETAPA_ENSINO'].replace([9, 20], 7, inplace=True) # 7° ano\n",
    "matr_2013['TP_ETAPA_ENSINO'].replace([10, 21], 8, inplace=True) # 8° ano\n",
    "matr_2013['TP_ETAPA_ENSINO'].replace([11, 41], 9, inplace=True) # 9° ano"
   ]
  },
  {
   "cell_type": "markdown",
   "metadata": {},
   "source": [
    "Carregando a base do segundo ano de análise"
   ]
  },
  {
   "cell_type": "code",
   "execution_count": 12,
   "metadata": {},
   "outputs": [],
   "source": [
    "matr_2014 = pd.read_csv('MATRICULA_SUL_2014.CSV', sep='|', usecols=\n",
    "                                ['FK_COD_ALUNO', 'FK_COD_ETAPA_ENSINO'])"
   ]
  },
  {
   "cell_type": "code",
   "execution_count": 13,
   "metadata": {},
   "outputs": [],
   "source": [
    "matr_2014.rename(columns={'FK_COD_ALUNO': 'CO_PESSOA_FISICA',\n",
    "                        'FK_COD_ETAPA_ENSINO': 'TP_ETAPA_ENSINO'}, inplace=True)"
   ]
  },
  {
   "cell_type": "markdown",
   "metadata": {},
   "source": [
    "Filtrando para somente ensino fundamental"
   ]
  },
  {
   "cell_type": "code",
   "execution_count": 14,
   "metadata": {},
   "outputs": [],
   "source": [
    "filtro2 = [4, 5, 6, 7, 8, 9, 10, 11, 14, 15, 16, 17, 18, 19, 20,\n",
    "                21, 41]"
   ]
  },
  {
   "cell_type": "code",
   "execution_count": 15,
   "metadata": {},
   "outputs": [],
   "source": [
    "matr_2014 = matr_2014[matr_2014.TP_ETAPA_ENSINO.isin(filtro2)]"
   ]
  },
  {
   "cell_type": "markdown",
   "metadata": {},
   "source": [
    "Conferindo a dimensão da base de dados"
   ]
  },
  {
   "cell_type": "code",
   "execution_count": 16,
   "metadata": {},
   "outputs": [
    {
     "data": {
      "text/plain": [
       "(3668104, 2)"
      ]
     },
     "execution_count": 16,
     "metadata": {},
     "output_type": "execute_result"
    }
   ],
   "source": [
    "matr_2014.shape"
   ]
  },
  {
   "cell_type": "markdown",
   "metadata": {},
   "source": [
    "Verificando duplicatas de alunos"
   ]
  },
  {
   "cell_type": "code",
   "execution_count": 17,
   "metadata": {},
   "outputs": [
    {
     "data": {
      "text/html": [
       "<div>\n",
       "<style scoped>\n",
       "    .dataframe tbody tr th:only-of-type {\n",
       "        vertical-align: middle;\n",
       "    }\n",
       "\n",
       "    .dataframe tbody tr th {\n",
       "        vertical-align: top;\n",
       "    }\n",
       "\n",
       "    .dataframe thead th {\n",
       "        text-align: right;\n",
       "    }\n",
       "</style>\n",
       "<table border=\"1\" class=\"dataframe\">\n",
       "  <thead>\n",
       "    <tr style=\"text-align: right;\">\n",
       "      <th></th>\n",
       "      <th>CO_PESSOA_FISICA</th>\n",
       "      <th>TP_ETAPA_ENSINO</th>\n",
       "    </tr>\n",
       "  </thead>\n",
       "  <tbody>\n",
       "    <tr>\n",
       "      <th>5544</th>\n",
       "      <td>110034323014</td>\n",
       "      <td>14.0</td>\n",
       "    </tr>\n",
       "    <tr>\n",
       "      <th>5545</th>\n",
       "      <td>110034323014</td>\n",
       "      <td>20.0</td>\n",
       "    </tr>\n",
       "    <tr>\n",
       "      <th>18751</th>\n",
       "      <td>110109212230</td>\n",
       "      <td>21.0</td>\n",
       "    </tr>\n",
       "    <tr>\n",
       "      <th>18752</th>\n",
       "      <td>110109212230</td>\n",
       "      <td>14.0</td>\n",
       "    </tr>\n",
       "    <tr>\n",
       "      <th>21069</th>\n",
       "      <td>110114029473</td>\n",
       "      <td>17.0</td>\n",
       "    </tr>\n",
       "    <tr>\n",
       "      <th>...</th>\n",
       "      <td>...</td>\n",
       "      <td>...</td>\n",
       "    </tr>\n",
       "    <tr>\n",
       "      <th>3618506</th>\n",
       "      <td>125054261558</td>\n",
       "      <td>17.0</td>\n",
       "    </tr>\n",
       "    <tr>\n",
       "      <th>3622641</th>\n",
       "      <td>125166378961</td>\n",
       "      <td>14.0</td>\n",
       "    </tr>\n",
       "    <tr>\n",
       "      <th>3622642</th>\n",
       "      <td>125166378961</td>\n",
       "      <td>14.0</td>\n",
       "    </tr>\n",
       "    <tr>\n",
       "      <th>3645848</th>\n",
       "      <td>126118128536</td>\n",
       "      <td>15.0</td>\n",
       "    </tr>\n",
       "    <tr>\n",
       "      <th>3645849</th>\n",
       "      <td>126118128536</td>\n",
       "      <td>15.0</td>\n",
       "    </tr>\n",
       "  </tbody>\n",
       "</table>\n",
       "<p>1602 rows × 2 columns</p>\n",
       "</div>"
      ],
      "text/plain": [
       "         CO_PESSOA_FISICA  TP_ETAPA_ENSINO\n",
       "5544         110034323014             14.0\n",
       "5545         110034323014             20.0\n",
       "18751        110109212230             21.0\n",
       "18752        110109212230             14.0\n",
       "21069        110114029473             17.0\n",
       "...                   ...              ...\n",
       "3618506      125054261558             17.0\n",
       "3622641      125166378961             14.0\n",
       "3622642      125166378961             14.0\n",
       "3645848      126118128536             15.0\n",
       "3645849      126118128536             15.0\n",
       "\n",
       "[1602 rows x 2 columns]"
      ]
     },
     "execution_count": 17,
     "metadata": {},
     "output_type": "execute_result"
    }
   ],
   "source": [
    "matr_2014.sort_values(by='CO_PESSOA_FISICA', ignore_index=True, inplace=True)\n",
    "matr_2014[matr_2014.duplicated(subset='CO_PESSOA_FISICA', keep=False)]"
   ]
  },
  {
   "cell_type": "markdown",
   "metadata": {},
   "source": [
    "Remoção dos valores duplicados"
   ]
  },
  {
   "cell_type": "code",
   "execution_count": 18,
   "metadata": {},
   "outputs": [],
   "source": [
    "matr_2014.drop_duplicates(subset=['CO_PESSOA_FISICA'], keep=False, inplace=True, ignore_index=True)"
   ]
  },
  {
   "cell_type": "markdown",
   "metadata": {},
   "source": [
    "Recodificando os anos escolares para facilitar a análise posterior"
   ]
  },
  {
   "cell_type": "code",
   "execution_count": 19,
   "metadata": {},
   "outputs": [],
   "source": [
    "matr_2014['TP_ETAPA_ENSINO'].replace(14, 1, inplace=True) # 1° ano\n",
    "matr_2014['TP_ETAPA_ENSINO'].replace([4, 15], 2, inplace=True) # 2° ano\n",
    "matr_2014['TP_ETAPA_ENSINO'].replace([5, 16], 3, inplace=True) # 3° ano\n",
    "matr_2014['TP_ETAPA_ENSINO'].replace([6, 17], 4, inplace=True) # 4° ano\n",
    "matr_2014['TP_ETAPA_ENSINO'].replace([7, 18], 5, inplace=True) # 5° ano\n",
    "matr_2014['TP_ETAPA_ENSINO'].replace([8, 19], 6, inplace=True) # 6° ano\n",
    "matr_2014['TP_ETAPA_ENSINO'].replace([9, 20], 7, inplace=True) # 7° ano\n",
    "matr_2014['TP_ETAPA_ENSINO'].replace([10, 21], 8, inplace=True) # 8° ano\n",
    "matr_2014['TP_ETAPA_ENSINO'].replace([11, 41], 9, inplace=True) # 9° ano"
   ]
  },
  {
   "cell_type": "markdown",
   "metadata": {},
   "source": [
    "Unificando os datasets pelo código do aluno, usando o primeiro dataset como referência e renomeando as colunas com os anos respectivos"
   ]
  },
  {
   "cell_type": "code",
   "execution_count": 20,
   "metadata": {},
   "outputs": [],
   "source": [
    "matr = pd.merge(matr_2013, matr_2014, how='left', on='CO_PESSOA_FISICA', suffixes=('', '_2014'))"
   ]
  },
  {
   "cell_type": "markdown",
   "metadata": {},
   "source": [
    "Substituindo NA na etapa de ensino do segundo ano para zeros"
   ]
  },
  {
   "cell_type": "code",
   "execution_count": 21,
   "metadata": {},
   "outputs": [],
   "source": [
    "matr.TP_ETAPA_ENSINO_2014.fillna(value=0, inplace=True)"
   ]
  },
  {
   "cell_type": "markdown",
   "metadata": {},
   "source": [
    "Dimensão final do dataset (deve ser igual à dimensão do primeiro dataset tratado)"
   ]
  },
  {
   "cell_type": "code",
   "execution_count": 22,
   "metadata": {},
   "outputs": [
    {
     "data": {
      "text/plain": [
       "(172792, 29)"
      ]
     },
     "execution_count": 22,
     "metadata": {},
     "output_type": "execute_result"
    }
   ],
   "source": [
    "matr.shape"
   ]
  },
  {
   "cell_type": "markdown",
   "metadata": {},
   "source": [
    "Verificando se sobraram duplicatas no dataset unificado"
   ]
  },
  {
   "cell_type": "code",
   "execution_count": 23,
   "metadata": {},
   "outputs": [
    {
     "data": {
      "text/plain": [
       "(0, 29)"
      ]
     },
     "execution_count": 23,
     "metadata": {},
     "output_type": "execute_result"
    }
   ],
   "source": [
    "matr.sort_values(by='CO_PESSOA_FISICA', ignore_index=True, inplace=True)\n",
    "matr[matr.duplicated(subset='CO_PESSOA_FISICA', keep=False)].shape"
   ]
  },
  {
   "cell_type": "markdown",
   "metadata": {},
   "source": [
    "Excluir as bases iniciais para aliviar a memória"
   ]
  },
  {
   "cell_type": "code",
   "execution_count": 24,
   "metadata": {},
   "outputs": [],
   "source": [
    "del matr_2013\n",
    "del matr_2014"
   ]
  },
  {
   "cell_type": "markdown",
   "metadata": {},
   "source": [
    "Função lambda para classificação do status de cada aluno (repetente, evadido, aprovado ou erro)"
   ]
  },
  {
   "cell_type": "code",
   "execution_count": 25,
   "metadata": {},
   "outputs": [
    {
     "data": {
      "text/html": [
       "<div>\n",
       "<style scoped>\n",
       "    .dataframe tbody tr th:only-of-type {\n",
       "        vertical-align: middle;\n",
       "    }\n",
       "\n",
       "    .dataframe tbody tr th {\n",
       "        vertical-align: top;\n",
       "    }\n",
       "\n",
       "    .dataframe thead th {\n",
       "        text-align: right;\n",
       "    }\n",
       "</style>\n",
       "<table border=\"1\" class=\"dataframe\">\n",
       "  <thead>\n",
       "    <tr style=\"text-align: right;\">\n",
       "      <th></th>\n",
       "      <th>CO_PESSOA_FISICA</th>\n",
       "      <th>NU_IDADE</th>\n",
       "      <th>TP_SEXO</th>\n",
       "      <th>TP_COR_RACA</th>\n",
       "      <th>TP_NACIONALIDADE</th>\n",
       "      <th>CO_MUNICIPIO_END</th>\n",
       "      <th>TP_ZONA_RESIDENCIAL</th>\n",
       "      <th>TP_OUTRO_LOCAL_AULA</th>\n",
       "      <th>IN_NECESSIDADE_ESPECIAL</th>\n",
       "      <th>IN_CEGUEIRA</th>\n",
       "      <th>...</th>\n",
       "      <th>IN_TRANSTORNO_DI</th>\n",
       "      <th>IN_SUPERDOTACAO</th>\n",
       "      <th>TP_ETAPA_ENSINO</th>\n",
       "      <th>TP_UNIFICADA</th>\n",
       "      <th>TP_TIPO_TURMA</th>\n",
       "      <th>CO_ENTIDADE</th>\n",
       "      <th>TP_LOCALIZACAO</th>\n",
       "      <th>TP_DEPENDENCIA</th>\n",
       "      <th>TP_ETAPA_ENSINO_2014</th>\n",
       "      <th>Status</th>\n",
       "    </tr>\n",
       "  </thead>\n",
       "  <tbody>\n",
       "    <tr>\n",
       "      <th>0</th>\n",
       "      <td>110015809314</td>\n",
       "      <td>12</td>\n",
       "      <td>F</td>\n",
       "      <td>0</td>\n",
       "      <td>1</td>\n",
       "      <td>4106902.0</td>\n",
       "      <td>1.0</td>\n",
       "      <td>3.0</td>\n",
       "      <td>0.0</td>\n",
       "      <td>0.0</td>\n",
       "      <td>...</td>\n",
       "      <td>0</td>\n",
       "      <td>0</td>\n",
       "      <td>7.0</td>\n",
       "      <td>0.0</td>\n",
       "      <td>0.0</td>\n",
       "      <td>41128648.0</td>\n",
       "      <td>1.0</td>\n",
       "      <td>4.0</td>\n",
       "      <td>8.0</td>\n",
       "      <td>aprovado</td>\n",
       "    </tr>\n",
       "    <tr>\n",
       "      <th>1</th>\n",
       "      <td>110016658999</td>\n",
       "      <td>13</td>\n",
       "      <td>F</td>\n",
       "      <td>1</td>\n",
       "      <td>1</td>\n",
       "      <td>4106902.0</td>\n",
       "      <td>1.0</td>\n",
       "      <td>3.0</td>\n",
       "      <td>0.0</td>\n",
       "      <td>0.0</td>\n",
       "      <td>...</td>\n",
       "      <td>0</td>\n",
       "      <td>0</td>\n",
       "      <td>8.0</td>\n",
       "      <td>0.0</td>\n",
       "      <td>0.0</td>\n",
       "      <td>41370627.0</td>\n",
       "      <td>1.0</td>\n",
       "      <td>2.0</td>\n",
       "      <td>0.0</td>\n",
       "      <td>evadido</td>\n",
       "    </tr>\n",
       "    <tr>\n",
       "      <th>2</th>\n",
       "      <td>110019238206</td>\n",
       "      <td>12</td>\n",
       "      <td>F</td>\n",
       "      <td>0</td>\n",
       "      <td>1</td>\n",
       "      <td>4106902.0</td>\n",
       "      <td>1.0</td>\n",
       "      <td>3.0</td>\n",
       "      <td>0.0</td>\n",
       "      <td>0.0</td>\n",
       "      <td>...</td>\n",
       "      <td>0</td>\n",
       "      <td>0</td>\n",
       "      <td>7.0</td>\n",
       "      <td>0.0</td>\n",
       "      <td>0.0</td>\n",
       "      <td>41132602.0</td>\n",
       "      <td>1.0</td>\n",
       "      <td>4.0</td>\n",
       "      <td>8.0</td>\n",
       "      <td>aprovado</td>\n",
       "    </tr>\n",
       "    <tr>\n",
       "      <th>3</th>\n",
       "      <td>110019915674</td>\n",
       "      <td>14</td>\n",
       "      <td>F</td>\n",
       "      <td>1</td>\n",
       "      <td>1</td>\n",
       "      <td>4106902.0</td>\n",
       "      <td>1.0</td>\n",
       "      <td>3.0</td>\n",
       "      <td>0.0</td>\n",
       "      <td>0.0</td>\n",
       "      <td>...</td>\n",
       "      <td>0</td>\n",
       "      <td>0</td>\n",
       "      <td>6.0</td>\n",
       "      <td>0.0</td>\n",
       "      <td>0.0</td>\n",
       "      <td>41130634.0</td>\n",
       "      <td>1.0</td>\n",
       "      <td>2.0</td>\n",
       "      <td>7.0</td>\n",
       "      <td>aprovado</td>\n",
       "    </tr>\n",
       "    <tr>\n",
       "      <th>4</th>\n",
       "      <td>110020051246</td>\n",
       "      <td>12</td>\n",
       "      <td>M</td>\n",
       "      <td>0</td>\n",
       "      <td>1</td>\n",
       "      <td>4106902.0</td>\n",
       "      <td>1.0</td>\n",
       "      <td>3.0</td>\n",
       "      <td>0.0</td>\n",
       "      <td>0.0</td>\n",
       "      <td>...</td>\n",
       "      <td>0</td>\n",
       "      <td>0</td>\n",
       "      <td>6.0</td>\n",
       "      <td>0.0</td>\n",
       "      <td>0.0</td>\n",
       "      <td>41133463.0</td>\n",
       "      <td>1.0</td>\n",
       "      <td>4.0</td>\n",
       "      <td>7.0</td>\n",
       "      <td>aprovado</td>\n",
       "    </tr>\n",
       "  </tbody>\n",
       "</table>\n",
       "<p>5 rows × 30 columns</p>\n",
       "</div>"
      ],
      "text/plain": [
       "   CO_PESSOA_FISICA  NU_IDADE TP_SEXO  TP_COR_RACA  TP_NACIONALIDADE  \\\n",
       "0      110015809314        12       F            0                 1   \n",
       "1      110016658999        13       F            1                 1   \n",
       "2      110019238206        12       F            0                 1   \n",
       "3      110019915674        14       F            1                 1   \n",
       "4      110020051246        12       M            0                 1   \n",
       "\n",
       "   CO_MUNICIPIO_END  TP_ZONA_RESIDENCIAL  TP_OUTRO_LOCAL_AULA  \\\n",
       "0         4106902.0                  1.0                  3.0   \n",
       "1         4106902.0                  1.0                  3.0   \n",
       "2         4106902.0                  1.0                  3.0   \n",
       "3         4106902.0                  1.0                  3.0   \n",
       "4         4106902.0                  1.0                  3.0   \n",
       "\n",
       "   IN_NECESSIDADE_ESPECIAL  IN_CEGUEIRA  ...  IN_TRANSTORNO_DI  \\\n",
       "0                      0.0          0.0  ...                 0   \n",
       "1                      0.0          0.0  ...                 0   \n",
       "2                      0.0          0.0  ...                 0   \n",
       "3                      0.0          0.0  ...                 0   \n",
       "4                      0.0          0.0  ...                 0   \n",
       "\n",
       "   IN_SUPERDOTACAO TP_ETAPA_ENSINO  TP_UNIFICADA  TP_TIPO_TURMA CO_ENTIDADE  \\\n",
       "0                0             7.0           0.0            0.0  41128648.0   \n",
       "1                0             8.0           0.0            0.0  41370627.0   \n",
       "2                0             7.0           0.0            0.0  41132602.0   \n",
       "3                0             6.0           0.0            0.0  41130634.0   \n",
       "4                0             6.0           0.0            0.0  41133463.0   \n",
       "\n",
       "   TP_LOCALIZACAO TP_DEPENDENCIA  TP_ETAPA_ENSINO_2014    Status  \n",
       "0             1.0            4.0                   8.0  aprovado  \n",
       "1             1.0            2.0                   0.0   evadido  \n",
       "2             1.0            4.0                   8.0  aprovado  \n",
       "3             1.0            2.0                   7.0  aprovado  \n",
       "4             1.0            4.0                   7.0  aprovado  \n",
       "\n",
       "[5 rows x 30 columns]"
      ]
     },
     "execution_count": 25,
     "metadata": {},
     "output_type": "execute_result"
    }
   ],
   "source": [
    "matr['Status'] = matr.apply(lambda x: 'repetente' if (x['TP_ETAPA_ENSINO'] == x['TP_ETAPA_ENSINO_2014']) \n",
    "                            else ('aprovado' if x['TP_ETAPA_ENSINO_2014'] == x['TP_ETAPA_ENSINO']+1 \n",
    "                                  else ('evadido' if x['TP_ETAPA_ENSINO_2014'] == 0 else 'erro')), axis=1)\n",
    "matr.head()"
   ]
  },
  {
   "cell_type": "markdown",
   "metadata": {},
   "source": [
    "Contagem de dados das categorias criadas acima"
   ]
  },
  {
   "cell_type": "code",
   "execution_count": 26,
   "metadata": {},
   "outputs": [
    {
     "data": {
      "text/plain": [
       "Status\n",
       "aprovado     147937\n",
       "repetente     12283\n",
       "evadido       11414\n",
       "erro           1158\n",
       "dtype: int64"
      ]
     },
     "execution_count": 26,
     "metadata": {},
     "output_type": "execute_result"
    }
   ],
   "source": [
    "matr.value_counts(subset='Status')"
   ]
  },
  {
   "cell_type": "markdown",
   "metadata": {},
   "source": [
    "Valores classificados como erro são inconsistências dos dados que devem removidas da análise:\n",
    "- Aluno que pulou 1 etapa de ensino;\n",
    "- Aluno que regrediu etapa de ensino."
   ]
  },
  {
   "cell_type": "code",
   "execution_count": 27,
   "metadata": {},
   "outputs": [
    {
     "data": {
      "text/html": [
       "<div>\n",
       "<style scoped>\n",
       "    .dataframe tbody tr th:only-of-type {\n",
       "        vertical-align: middle;\n",
       "    }\n",
       "\n",
       "    .dataframe tbody tr th {\n",
       "        vertical-align: top;\n",
       "    }\n",
       "\n",
       "    .dataframe thead th {\n",
       "        text-align: right;\n",
       "    }\n",
       "</style>\n",
       "<table border=\"1\" class=\"dataframe\">\n",
       "  <thead>\n",
       "    <tr style=\"text-align: right;\">\n",
       "      <th></th>\n",
       "      <th>CO_PESSOA_FISICA</th>\n",
       "      <th>NU_IDADE</th>\n",
       "      <th>TP_SEXO</th>\n",
       "      <th>TP_COR_RACA</th>\n",
       "      <th>TP_NACIONALIDADE</th>\n",
       "      <th>CO_MUNICIPIO_END</th>\n",
       "      <th>TP_ZONA_RESIDENCIAL</th>\n",
       "      <th>TP_OUTRO_LOCAL_AULA</th>\n",
       "      <th>IN_NECESSIDADE_ESPECIAL</th>\n",
       "      <th>IN_CEGUEIRA</th>\n",
       "      <th>...</th>\n",
       "      <th>IN_TRANSTORNO_DI</th>\n",
       "      <th>IN_SUPERDOTACAO</th>\n",
       "      <th>TP_ETAPA_ENSINO</th>\n",
       "      <th>TP_UNIFICADA</th>\n",
       "      <th>TP_TIPO_TURMA</th>\n",
       "      <th>CO_ENTIDADE</th>\n",
       "      <th>TP_LOCALIZACAO</th>\n",
       "      <th>TP_DEPENDENCIA</th>\n",
       "      <th>TP_ETAPA_ENSINO_2014</th>\n",
       "      <th>Status</th>\n",
       "    </tr>\n",
       "  </thead>\n",
       "  <tbody>\n",
       "    <tr>\n",
       "      <th>8</th>\n",
       "      <td>110025700501</td>\n",
       "      <td>10</td>\n",
       "      <td>M</td>\n",
       "      <td>1</td>\n",
       "      <td>1</td>\n",
       "      <td>4106902.0</td>\n",
       "      <td>1.0</td>\n",
       "      <td>3.0</td>\n",
       "      <td>1.0</td>\n",
       "      <td>0.0</td>\n",
       "      <td>...</td>\n",
       "      <td>0</td>\n",
       "      <td>0</td>\n",
       "      <td>3.0</td>\n",
       "      <td>0.0</td>\n",
       "      <td>0.0</td>\n",
       "      <td>41146131.0</td>\n",
       "      <td>1.0</td>\n",
       "      <td>3.0</td>\n",
       "      <td>1.0</td>\n",
       "      <td>erro</td>\n",
       "    </tr>\n",
       "    <tr>\n",
       "      <th>62</th>\n",
       "      <td>110025995803</td>\n",
       "      <td>13</td>\n",
       "      <td>F</td>\n",
       "      <td>0</td>\n",
       "      <td>1</td>\n",
       "      <td>4106902.0</td>\n",
       "      <td>1.0</td>\n",
       "      <td>3.0</td>\n",
       "      <td>1.0</td>\n",
       "      <td>0.0</td>\n",
       "      <td>...</td>\n",
       "      <td>0</td>\n",
       "      <td>0</td>\n",
       "      <td>2.0</td>\n",
       "      <td>0.0</td>\n",
       "      <td>0.0</td>\n",
       "      <td>41132645.0</td>\n",
       "      <td>1.0</td>\n",
       "      <td>4.0</td>\n",
       "      <td>1.0</td>\n",
       "      <td>erro</td>\n",
       "    </tr>\n",
       "    <tr>\n",
       "      <th>413</th>\n",
       "      <td>110057018579</td>\n",
       "      <td>12</td>\n",
       "      <td>F</td>\n",
       "      <td>0</td>\n",
       "      <td>1</td>\n",
       "      <td>4106902.0</td>\n",
       "      <td>1.0</td>\n",
       "      <td>3.0</td>\n",
       "      <td>1.0</td>\n",
       "      <td>0.0</td>\n",
       "      <td>...</td>\n",
       "      <td>0</td>\n",
       "      <td>0</td>\n",
       "      <td>3.0</td>\n",
       "      <td>0.0</td>\n",
       "      <td>0.0</td>\n",
       "      <td>41146131.0</td>\n",
       "      <td>1.0</td>\n",
       "      <td>3.0</td>\n",
       "      <td>1.0</td>\n",
       "      <td>erro</td>\n",
       "    </tr>\n",
       "    <tr>\n",
       "      <th>414</th>\n",
       "      <td>110057144795</td>\n",
       "      <td>16</td>\n",
       "      <td>F</td>\n",
       "      <td>1</td>\n",
       "      <td>1</td>\n",
       "      <td>4106902.0</td>\n",
       "      <td>1.0</td>\n",
       "      <td>3.0</td>\n",
       "      <td>1.0</td>\n",
       "      <td>0.0</td>\n",
       "      <td>...</td>\n",
       "      <td>0</td>\n",
       "      <td>0</td>\n",
       "      <td>2.0</td>\n",
       "      <td>0.0</td>\n",
       "      <td>0.0</td>\n",
       "      <td>41361970.0</td>\n",
       "      <td>1.0</td>\n",
       "      <td>4.0</td>\n",
       "      <td>1.0</td>\n",
       "      <td>erro</td>\n",
       "    </tr>\n",
       "    <tr>\n",
       "      <th>474</th>\n",
       "      <td>110101403703</td>\n",
       "      <td>11</td>\n",
       "      <td>F</td>\n",
       "      <td>1</td>\n",
       "      <td>1</td>\n",
       "      <td>4106902.0</td>\n",
       "      <td>1.0</td>\n",
       "      <td>3.0</td>\n",
       "      <td>1.0</td>\n",
       "      <td>0.0</td>\n",
       "      <td>...</td>\n",
       "      <td>0</td>\n",
       "      <td>0</td>\n",
       "      <td>2.0</td>\n",
       "      <td>0.0</td>\n",
       "      <td>0.0</td>\n",
       "      <td>41129008.0</td>\n",
       "      <td>1.0</td>\n",
       "      <td>4.0</td>\n",
       "      <td>1.0</td>\n",
       "      <td>erro</td>\n",
       "    </tr>\n",
       "    <tr>\n",
       "      <th>...</th>\n",
       "      <td>...</td>\n",
       "      <td>...</td>\n",
       "      <td>...</td>\n",
       "      <td>...</td>\n",
       "      <td>...</td>\n",
       "      <td>...</td>\n",
       "      <td>...</td>\n",
       "      <td>...</td>\n",
       "      <td>...</td>\n",
       "      <td>...</td>\n",
       "      <td>...</td>\n",
       "      <td>...</td>\n",
       "      <td>...</td>\n",
       "      <td>...</td>\n",
       "      <td>...</td>\n",
       "      <td>...</td>\n",
       "      <td>...</td>\n",
       "      <td>...</td>\n",
       "      <td>...</td>\n",
       "      <td>...</td>\n",
       "      <td>...</td>\n",
       "    </tr>\n",
       "    <tr>\n",
       "      <th>172233</th>\n",
       "      <td>124333361981</td>\n",
       "      <td>12</td>\n",
       "      <td>F</td>\n",
       "      <td>1</td>\n",
       "      <td>1</td>\n",
       "      <td>4106902.0</td>\n",
       "      <td>1.0</td>\n",
       "      <td>3.0</td>\n",
       "      <td>0.0</td>\n",
       "      <td>0.0</td>\n",
       "      <td>...</td>\n",
       "      <td>0</td>\n",
       "      <td>0</td>\n",
       "      <td>7.0</td>\n",
       "      <td>0.0</td>\n",
       "      <td>0.0</td>\n",
       "      <td>41152425.0</td>\n",
       "      <td>1.0</td>\n",
       "      <td>4.0</td>\n",
       "      <td>9.0</td>\n",
       "      <td>erro</td>\n",
       "    </tr>\n",
       "    <tr>\n",
       "      <th>172234</th>\n",
       "      <td>124333392194</td>\n",
       "      <td>12</td>\n",
       "      <td>M</td>\n",
       "      <td>1</td>\n",
       "      <td>1</td>\n",
       "      <td>4106902.0</td>\n",
       "      <td>1.0</td>\n",
       "      <td>3.0</td>\n",
       "      <td>0.0</td>\n",
       "      <td>0.0</td>\n",
       "      <td>...</td>\n",
       "      <td>0</td>\n",
       "      <td>0</td>\n",
       "      <td>7.0</td>\n",
       "      <td>0.0</td>\n",
       "      <td>0.0</td>\n",
       "      <td>41152425.0</td>\n",
       "      <td>1.0</td>\n",
       "      <td>4.0</td>\n",
       "      <td>9.0</td>\n",
       "      <td>erro</td>\n",
       "    </tr>\n",
       "    <tr>\n",
       "      <th>172239</th>\n",
       "      <td>124333647443</td>\n",
       "      <td>11</td>\n",
       "      <td>M</td>\n",
       "      <td>1</td>\n",
       "      <td>1</td>\n",
       "      <td>4106902.0</td>\n",
       "      <td>1.0</td>\n",
       "      <td>3.0</td>\n",
       "      <td>0.0</td>\n",
       "      <td>0.0</td>\n",
       "      <td>...</td>\n",
       "      <td>0</td>\n",
       "      <td>0</td>\n",
       "      <td>7.0</td>\n",
       "      <td>0.0</td>\n",
       "      <td>0.0</td>\n",
       "      <td>41152425.0</td>\n",
       "      <td>1.0</td>\n",
       "      <td>4.0</td>\n",
       "      <td>9.0</td>\n",
       "      <td>erro</td>\n",
       "    </tr>\n",
       "    <tr>\n",
       "      <th>172591</th>\n",
       "      <td>124342129301</td>\n",
       "      <td>7</td>\n",
       "      <td>F</td>\n",
       "      <td>1</td>\n",
       "      <td>1</td>\n",
       "      <td>4106902.0</td>\n",
       "      <td>1.0</td>\n",
       "      <td>3.0</td>\n",
       "      <td>0.0</td>\n",
       "      <td>0.0</td>\n",
       "      <td>...</td>\n",
       "      <td>0</td>\n",
       "      <td>0</td>\n",
       "      <td>1.0</td>\n",
       "      <td>0.0</td>\n",
       "      <td>0.0</td>\n",
       "      <td>41150732.0</td>\n",
       "      <td>1.0</td>\n",
       "      <td>4.0</td>\n",
       "      <td>3.0</td>\n",
       "      <td>erro</td>\n",
       "    </tr>\n",
       "    <tr>\n",
       "      <th>172705</th>\n",
       "      <td>124359340680</td>\n",
       "      <td>7</td>\n",
       "      <td>F</td>\n",
       "      <td>1</td>\n",
       "      <td>1</td>\n",
       "      <td>4106902.0</td>\n",
       "      <td>1.0</td>\n",
       "      <td>3.0</td>\n",
       "      <td>0.0</td>\n",
       "      <td>0.0</td>\n",
       "      <td>...</td>\n",
       "      <td>0</td>\n",
       "      <td>0</td>\n",
       "      <td>1.0</td>\n",
       "      <td>0.0</td>\n",
       "      <td>0.0</td>\n",
       "      <td>41152425.0</td>\n",
       "      <td>1.0</td>\n",
       "      <td>4.0</td>\n",
       "      <td>3.0</td>\n",
       "      <td>erro</td>\n",
       "    </tr>\n",
       "  </tbody>\n",
       "</table>\n",
       "<p>1158 rows × 30 columns</p>\n",
       "</div>"
      ],
      "text/plain": [
       "        CO_PESSOA_FISICA  NU_IDADE TP_SEXO  TP_COR_RACA  TP_NACIONALIDADE  \\\n",
       "8           110025700501        10       M            1                 1   \n",
       "62          110025995803        13       F            0                 1   \n",
       "413         110057018579        12       F            0                 1   \n",
       "414         110057144795        16       F            1                 1   \n",
       "474         110101403703        11       F            1                 1   \n",
       "...                  ...       ...     ...          ...               ...   \n",
       "172233      124333361981        12       F            1                 1   \n",
       "172234      124333392194        12       M            1                 1   \n",
       "172239      124333647443        11       M            1                 1   \n",
       "172591      124342129301         7       F            1                 1   \n",
       "172705      124359340680         7       F            1                 1   \n",
       "\n",
       "        CO_MUNICIPIO_END  TP_ZONA_RESIDENCIAL  TP_OUTRO_LOCAL_AULA  \\\n",
       "8              4106902.0                  1.0                  3.0   \n",
       "62             4106902.0                  1.0                  3.0   \n",
       "413            4106902.0                  1.0                  3.0   \n",
       "414            4106902.0                  1.0                  3.0   \n",
       "474            4106902.0                  1.0                  3.0   \n",
       "...                  ...                  ...                  ...   \n",
       "172233         4106902.0                  1.0                  3.0   \n",
       "172234         4106902.0                  1.0                  3.0   \n",
       "172239         4106902.0                  1.0                  3.0   \n",
       "172591         4106902.0                  1.0                  3.0   \n",
       "172705         4106902.0                  1.0                  3.0   \n",
       "\n",
       "        IN_NECESSIDADE_ESPECIAL  IN_CEGUEIRA  ...  IN_TRANSTORNO_DI  \\\n",
       "8                           1.0          0.0  ...                 0   \n",
       "62                          1.0          0.0  ...                 0   \n",
       "413                         1.0          0.0  ...                 0   \n",
       "414                         1.0          0.0  ...                 0   \n",
       "474                         1.0          0.0  ...                 0   \n",
       "...                         ...          ...  ...               ...   \n",
       "172233                      0.0          0.0  ...                 0   \n",
       "172234                      0.0          0.0  ...                 0   \n",
       "172239                      0.0          0.0  ...                 0   \n",
       "172591                      0.0          0.0  ...                 0   \n",
       "172705                      0.0          0.0  ...                 0   \n",
       "\n",
       "        IN_SUPERDOTACAO TP_ETAPA_ENSINO  TP_UNIFICADA  TP_TIPO_TURMA  \\\n",
       "8                     0             3.0           0.0            0.0   \n",
       "62                    0             2.0           0.0            0.0   \n",
       "413                   0             3.0           0.0            0.0   \n",
       "414                   0             2.0           0.0            0.0   \n",
       "474                   0             2.0           0.0            0.0   \n",
       "...                 ...             ...           ...            ...   \n",
       "172233                0             7.0           0.0            0.0   \n",
       "172234                0             7.0           0.0            0.0   \n",
       "172239                0             7.0           0.0            0.0   \n",
       "172591                0             1.0           0.0            0.0   \n",
       "172705                0             1.0           0.0            0.0   \n",
       "\n",
       "       CO_ENTIDADE  TP_LOCALIZACAO TP_DEPENDENCIA  TP_ETAPA_ENSINO_2014  \\\n",
       "8       41146131.0             1.0            3.0                   1.0   \n",
       "62      41132645.0             1.0            4.0                   1.0   \n",
       "413     41146131.0             1.0            3.0                   1.0   \n",
       "414     41361970.0             1.0            4.0                   1.0   \n",
       "474     41129008.0             1.0            4.0                   1.0   \n",
       "...            ...             ...            ...                   ...   \n",
       "172233  41152425.0             1.0            4.0                   9.0   \n",
       "172234  41152425.0             1.0            4.0                   9.0   \n",
       "172239  41152425.0             1.0            4.0                   9.0   \n",
       "172591  41150732.0             1.0            4.0                   3.0   \n",
       "172705  41152425.0             1.0            4.0                   3.0   \n",
       "\n",
       "        Status  \n",
       "8         erro  \n",
       "62        erro  \n",
       "413       erro  \n",
       "414       erro  \n",
       "474       erro  \n",
       "...        ...  \n",
       "172233    erro  \n",
       "172234    erro  \n",
       "172239    erro  \n",
       "172591    erro  \n",
       "172705    erro  \n",
       "\n",
       "[1158 rows x 30 columns]"
      ]
     },
     "execution_count": 27,
     "metadata": {},
     "output_type": "execute_result"
    }
   ],
   "source": [
    "matr[matr.Status=='erro']"
   ]
  },
  {
   "cell_type": "markdown",
   "metadata": {},
   "source": [
    "Removendo as linhas com erros"
   ]
  },
  {
   "cell_type": "code",
   "execution_count": 28,
   "metadata": {},
   "outputs": [],
   "source": [
    "matr = matr[matr.Status!='erro']"
   ]
  },
  {
   "cell_type": "markdown",
   "metadata": {},
   "source": [
    "Conferindo o resultado final"
   ]
  },
  {
   "cell_type": "code",
   "execution_count": 29,
   "metadata": {},
   "outputs": [
    {
     "data": {
      "text/plain": [
       "Status\n",
       "aprovado     147937\n",
       "repetente     12283\n",
       "evadido       11414\n",
       "dtype: int64"
      ]
     },
     "execution_count": 29,
     "metadata": {},
     "output_type": "execute_result"
    }
   ],
   "source": [
    "matr.value_counts(subset='Status')"
   ]
  },
  {
   "cell_type": "markdown",
   "metadata": {},
   "source": [
    "Removendo os dados do segundo ano e a coluna de município que não serão mias úteis."
   ]
  },
  {
   "cell_type": "code",
   "execution_count": 30,
   "metadata": {},
   "outputs": [],
   "source": [
    "matr.drop(columns=['CO_MUNICIPIO_END', 'TP_ETAPA_ENSINO_2014'], inplace=True)"
   ]
  },
  {
   "cell_type": "markdown",
   "metadata": {},
   "source": [
    "Renomeando colunas para facilitar a análise posterior"
   ]
  },
  {
   "cell_type": "code",
   "execution_count": 31,
   "metadata": {},
   "outputs": [],
   "source": [
    "matr.rename(columns={'CO_PESSOA_FISICA': 'ID',\n",
    "                         'NU_IDADE': 'Idade',\n",
    "                         'TP_SEXO': 'Sexo',\n",
    "                         'TP_COR_RACA': 'Etnia',\n",
    "                         'TP_NACIONALIDADE': 'Nacionalidade',\n",
    "                         'TP_ZONA_RESIDENCIAL': 'Zona_res',\n",
    "                         'TP_OUTRO_LOCAL_AULA': 'Outro_local_aula',\n",
    "                         'IN_NECESSIDADE_ESPECIAL': 'Necessidade_especial',\n",
    "                         'IN_CEGUEIRA': 'Cegueira',\n",
    "                         'IN_BAIXA_VISAO': 'Baixa_visao',\n",
    "                         'IN_SURDEZ': 'Surdez',\n",
    "                         'IN_DEF_AUDITIVA': 'Def_auditiva',\n",
    "                         'IN_SURDOCEGUEIRA': 'Surdocegueira',\n",
    "                         'IN_DEF_FISICA': 'Def_fisica',\n",
    "                         'IN_DEF_INTELECTUAL': 'Def_intelectual',\n",
    "                         'IN_DEF_MULTIPLA': 'Def_multipla',\n",
    "                         'IN_AUTISMO': 'Autismo',\n",
    "                         'IN_SINDROME_ASPERGER': 'Asperger',\n",
    "                         'IN_SINDROME_RETT': 'Rett',\n",
    "                         'IN_TRANSTORNO_DI': 'Transtorno_DI',\n",
    "                         'IN_SUPERDOTACAO': 'Superdotacao',\n",
    "                         'TP_ETAPA_ENSINO': 'Etapa_ensino',\n",
    "                         'TP_UNIFICADA': 'Unificada',\n",
    "                         'TP_TIPO_TURMA': 'Tipo_turma',\n",
    "                         'CO_ENTIDADE': 'ID_escola',\n",
    "                         'TP_LOCALIZACAO': 'Localizacao',\n",
    "                         'TP_DEPENDENCIA': 'Administracao'}, inplace=True)"
   ]
  },
  {
   "cell_type": "markdown",
   "metadata": {},
   "source": [
    "Aplicando os labels nos dados codificados"
   ]
  },
  {
   "cell_type": "code",
   "execution_count": 32,
   "metadata": {},
   "outputs": [],
   "source": [
    "matr.Sexo = matr.Sexo.map({1:'M', 2:'F'})\n",
    "matr.Etnia = matr.Etnia.map({0:'Não Declarada', 1:'Branca', 2:'Preta', 3:'Parda', 4:'Amarela', 5:'Indígena'})\n",
    "matr.Nacionalidade = matr.Nacionalidade.map({1:'Brasileiro', 2:'Naturalizado', 3:'Extrangeiro'})\n",
    "matr.Zona_res = matr.Zona_res.map({1:'Urbana', 2:'Rural'})\n",
    "matr.Outro_local_aula = matr.Outro_local_aula.map({1:'Hospital', 2:'Domicilio', 3:'Não recebe'})\n",
    "matr.Unificada = matr.Unificada.map({0:'Não', 1:'Unificada', 2:'Multietapa', 3:'Multi', 4:'Correção de fluxo', 5:'Mista'})\n",
    "matr.Tipo_turma = matr.Tipo_turma.map({0:'Não se aplica', 1:'Classe Hospitalar', 2:'Unidade Socioeducativa',\n",
    "                                           3:'Unidade prisional', 4:'Atividade complementar', 5:'At educacional especializado'})\n",
    "matr.Localizacao = matr.Localizacao.map({1:'Urbana', 2:'Rural'})\n",
    "matr.Administracao = matr.Administracao.map({1:'Federal', 2:'Estadual', 3:'Municipal', 4:'Privada'})"
   ]
  },
  {
   "cell_type": "markdown",
   "metadata": {},
   "source": [
    "As colunas de necessidade especial específicas deixaram de ser preenchidos quando o aluno não possui necessidade especial, também algumas linhas da etnia não tem informação.\n",
    "Dessa maneira vamos preencher etnia como não declarada (valor 0) e as necessidades especiais também como ausentes (valor 0)."
   ]
  },
  {
   "cell_type": "code",
   "execution_count": 33,
   "metadata": {},
   "outputs": [],
   "source": [
    "matr = matr.fillna(0)"
   ]
  },
  {
   "cell_type": "markdown",
   "metadata": {},
   "source": [
    "Aplicando one hot encoding"
   ]
  },
  {
   "cell_type": "code",
   "execution_count": 34,
   "metadata": {},
   "outputs": [],
   "source": [
    "matr = pd.get_dummies(matr, columns=\n",
    "                        ['Sexo', 'Etnia', 'Nacionalidade', 'Zona_res', 'Outro_local_aula', \n",
    "                         'Unificada', 'Tipo_turma', 'Localizacao', 'Administracao'], \n",
    "                        drop_first=True)"
   ]
  },
  {
   "cell_type": "markdown",
   "metadata": {},
   "source": [
    "Gerando arquivo CSV do resultado"
   ]
  },
  {
   "cell_type": "code",
   "execution_count": 35,
   "metadata": {},
   "outputs": [],
   "source": [
    "matr.to_csv('evasão_13.csv')"
   ]
  },
  {
   "cell_type": "code",
   "execution_count": null,
   "metadata": {},
   "outputs": [],
   "source": []
  }
 ],
 "metadata": {
  "kernelspec": {
   "display_name": "Python 3",
   "language": "python",
   "name": "python3"
  },
  "language_info": {
   "codemirror_mode": {
    "name": "ipython",
    "version": 3
   },
   "file_extension": ".py",
   "mimetype": "text/x-python",
   "name": "python",
   "nbconvert_exporter": "python",
   "pygments_lexer": "ipython3",
   "version": "3.8.5"
  }
 },
 "nbformat": 4,
 "nbformat_minor": 4
}

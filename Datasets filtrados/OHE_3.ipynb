{
 "cells": [
  {
   "cell_type": "code",
   "execution_count": 1,
   "metadata": {
    "colab": {
     "base_uri": "https://localhost:8080/"
    },
    "executionInfo": {
     "elapsed": 233,
     "status": "ok",
     "timestamp": 1624142399031,
     "user": {
      "displayName": "Marcos Pacheco Jr",
      "photoUrl": "",
      "userId": "13463696138139050654"
     },
     "user_tz": 180
    },
    "id": "uxugo9qqybBE",
    "outputId": "7cc6f50b-2423-4f64-faf7-77f5b199e0dd"
   },
   "outputs": [],
   "source": [
    "import pandas as pd"
   ]
  },
  {
   "cell_type": "code",
   "execution_count": 2,
   "metadata": {
    "id": "AIzm3Kn1yyRB"
   },
   "outputs": [],
   "source": [
    "m12 = pd.read_csv('evasão_12.csv')\n",
    "m13 = pd.read_csv('evasão_13.csv')\n",
    "m14 = pd.read_csv('evasão_14.csv')\n",
    "m15 = pd.read_csv('evasão_15.csv')\n",
    "m16 = pd.read_csv('evasão_16.csv')"
   ]
  },
  {
   "cell_type": "code",
   "execution_count": 3,
   "metadata": {
    "id": "O0S8sObaybBH"
   },
   "outputs": [],
   "source": [
    "m12.drop(columns=['Unnamed: 0'], inplace=True)\n",
    "m13.drop(columns=['Unnamed: 0'], inplace=True)\n",
    "m14.drop(columns=['Unnamed: 0'], inplace=True)\n",
    "m15.drop(columns=['Unnamed: 0'], inplace=True)\n",
    "m16.drop(columns=['Unnamed: 0'], inplace=True)"
   ]
  },
  {
   "cell_type": "code",
   "execution_count": 4,
   "metadata": {
    "executionInfo": {
     "elapsed": 254,
     "status": "ok",
     "timestamp": 1624142419413,
     "user": {
      "displayName": "Marcos Pacheco Jr",
      "photoUrl": "",
      "userId": "13463696138139050654"
     },
     "user_tz": 180
    },
    "id": "RjrygYzdybBI"
   },
   "outputs": [],
   "source": [
    "m12['Ano']=2012\n",
    "m13['Ano']=2013\n",
    "m14['Ano']=2014\n",
    "m15['Ano']=2015\n",
    "m16['Ano']=2016"
   ]
  },
  {
   "cell_type": "code",
   "execution_count": 5,
   "metadata": {
    "executionInfo": {
     "elapsed": 591,
     "status": "ok",
     "timestamp": 1624142422081,
     "user": {
      "displayName": "Marcos Pacheco Jr",
      "photoUrl": "",
      "userId": "13463696138139050654"
     },
     "user_tz": 180
    },
    "id": "7Q1pIRPgybBI"
   },
   "outputs": [],
   "source": [
    "evasao = pd.concat([m12, m13, m14, m15, m16])"
   ]
  },
  {
   "cell_type": "code",
   "execution_count": 6,
   "metadata": {
    "colab": {
     "base_uri": "https://localhost:8080/"
    },
    "executionInfo": {
     "elapsed": 227,
     "status": "ok",
     "timestamp": 1624142423775,
     "user": {
      "displayName": "Marcos Pacheco Jr",
      "photoUrl": "",
      "userId": "13463696138139050654"
     },
     "user_tz": 180
    },
    "id": "dmkegwLaybBJ",
    "outputId": "b623e5dd-ae30-448d-dae1-1f26a483f32b"
   },
   "outputs": [
    {
     "data": {
      "text/plain": [
       "['CO_PESSOA_FISICA',\n",
       " 'NU_IDADE',\n",
       " 'TP_COR_RACA',\n",
       " 'TP_NACIONALIDADE',\n",
       " 'CO_UF_NASC',\n",
       " 'TP_ZONA_RESIDENCIAL',\n",
       " 'TP_OUTRO_LOCAL_AULA',\n",
       " 'IN_NECESSIDADE_ESPECIAL',\n",
       " 'IN_CEGUEIRA',\n",
       " 'IN_BAIXA_VISAO',\n",
       " 'IN_SURDEZ',\n",
       " 'IN_DEF_AUDITIVA',\n",
       " 'IN_SURDOCEGUEIRA',\n",
       " 'IN_DEF_FISICA',\n",
       " 'IN_DEF_INTELECTUAL',\n",
       " 'IN_DEF_MULTIPLA',\n",
       " 'IN_AUTISMO',\n",
       " 'IN_SINDROME_ASPERGER',\n",
       " 'IN_SINDROME_RETT',\n",
       " 'IN_TRANSTORNO_DI',\n",
       " 'IN_SUPERDOTACAO',\n",
       " 'TP_ETAPA_ENSINO',\n",
       " 'TP_UNIFICADA',\n",
       " 'TP_TIPO_TURMA',\n",
       " 'CO_ENTIDADE',\n",
       " 'TP_LOCALIZACAO',\n",
       " 'TP_DEPENDENCIA',\n",
       " 'TP_SEXO_F',\n",
       " 'TP_SEXO_M',\n",
       " 'Status_aprovado',\n",
       " 'Status_evadido',\n",
       " 'Status_repetente',\n",
       " 'Ano',\n",
       " 'TP_SEXO']"
      ]
     },
     "execution_count": 6,
     "metadata": {},
     "output_type": "execute_result"
    }
   ],
   "source": [
    "evasao.columns.tolist()"
   ]
  },
  {
   "cell_type": "code",
   "execution_count": 7,
   "metadata": {
    "executionInfo": {
     "elapsed": 426,
     "status": "ok",
     "timestamp": 1624142426462,
     "user": {
      "displayName": "Marcos Pacheco Jr",
      "photoUrl": "",
      "userId": "13463696138139050654"
     },
     "user_tz": 180
    },
    "id": "CcaCbhETybBK"
   },
   "outputs": [],
   "source": [
    "evasao.rename(columns={'CO_PESSOA_FISICA': 'ID',\n",
    "                         'NU_IDADE': 'Idade',\n",
    "                         'TP_SEXO': 'Sexo',\n",
    "                         'TP_COR_RACA': 'Etnia',\n",
    "                         'TP_NACIONALIDADE': 'Nacionalidade',\n",
    "                         'CO_UF_NASC': 'UF_nasc',\n",
    "                         'TP_ZONA_RESIDENCIAL': 'Zona_res',\n",
    "                         'TP_OUTRO_LOCAL_AULA': 'Outro_local_aula',\n",
    "                         'IN_NECESSIDADE_ESPECIAL': 'Necessidade_especial',\n",
    "                         'IN_CEGUEIRA': 'Cegueira',\n",
    "                         'IN_BAIXA_VISAO': 'Baixa_visao',\n",
    "                         'IN_SURDEZ': 'Surdez',\n",
    "                         'IN_DEF_AUDITIVA': 'Def_auditiva',\n",
    "                         'IN_SURDOCEGUEIRA': 'Surdocegueira',\n",
    "                         'IN_DEF_FISICA': 'Def_fisica',\n",
    "                         'IN_DEF_INTELECTUAL': 'Def_intelectual',\n",
    "                         'IN_DEF_MULTIPLA': 'Def_multipla',\n",
    "                         'IN_AUTISMO': 'Autismo',\n",
    "                         'IN_SINDROME_ASPERGER': 'Asperger',\n",
    "                         'IN_SINDROME_RETT': 'Rett',\n",
    "                         'IN_TRANSTORNO_DI': 'Transtorno_DI',\n",
    "                         'IN_SUPERDOTACAO': 'Superdotacao',\n",
    "                         'TP_ETAPA_ENSINO': 'Etapa_ensino',\n",
    "                         'TP_UNIFICADA': 'Unificada',\n",
    "                         'TP_TIPO_TURMA': 'Tipo_turma',\n",
    "                         'CO_ENTIDADE': 'ID_escola',\n",
    "                         'TP_LOCALIZACAO': 'Localizacao',\n",
    "                         'TP_DEPENDENCIA': 'Administracao'}, inplace=True)"
   ]
  },
  {
   "cell_type": "code",
   "execution_count": 8,
   "metadata": {
    "executionInfo": {
     "elapsed": 632,
     "status": "ok",
     "timestamp": 1624142429238,
     "user": {
      "displayName": "Marcos Pacheco Jr",
      "photoUrl": "",
      "userId": "13463696138139050654"
     },
     "user_tz": 180
    },
    "id": "9qr8dTDpybBK"
   },
   "outputs": [],
   "source": [
    "evasao.Sexo = evasao.Sexo.map({1:'M', 2:'F'})\n",
    "evasao.Etnia = evasao.Etnia.map({0:'Não Declarada', 1:'Branca', 2:'Preta', 3:'Parda', 4:'Amarela', 5:'Indígena'})\n",
    "evasao.Nacionalidade = evasao.Nacionalidade.map({1:'Brasileiro', 2:'Naturalizado', 3:'Extrangeiro'})\n",
    "evasao.Zona_res = evasao.Zona_res.map({1:'Urbana', 2:'Rural'})\n",
    "evasao.Outro_local_aula = evasao.Outro_local_aula.map({1:'Hospital', 2:'Domicilio', 3:'Não recebe'})\n",
    "evasao.Unificada = evasao.Unificada.map({0:'Não', 1:'Unificada', 2:'Multietapa', 3:'Multi', 4:'Correção de fluxo', 5:'Mista'})\n",
    "evasao.Tipo_turma = evasao.Tipo_turma.map({0:'Não se aplica', 1:'Classe Hospitalar', 2:'Unidade Socioeducativa',\n",
    "                                           3:'Unidade prisional', 4:'Atividade complementar', 5:'At educacional especializado'})\n",
    "evasao.Localizacao = evasao.Localizacao.map({1:'Urbana', 2:'Rural'})\n",
    "evasao.Administracao = evasao.Administracao.map({1:'Federal', 2:'Estadual', 3:'Municipal', 4:'Privada'})"
   ]
  },
  {
   "cell_type": "code",
   "execution_count": 9,
   "metadata": {
    "executionInfo": {
     "elapsed": 1563,
     "status": "ok",
     "timestamp": 1624142432415,
     "user": {
      "displayName": "Marcos Pacheco Jr",
      "photoUrl": "",
      "userId": "13463696138139050654"
     },
     "user_tz": 180
    },
    "id": "-zcWDDPqybBM"
   },
   "outputs": [],
   "source": [
    "evasao.drop(columns=['UF_nasc'], inplace=True)\n",
    "evasao.drop(columns=['TP_SEXO_F'], inplace=True)\n",
    "evasao.drop(columns=['TP_SEXO_M'], inplace=True)\n",
    "evasao.drop(columns=['Status_aprovado'], inplace=True)\n",
    "evasao.drop(columns=['Status_repetente'], inplace=True)"
   ]
  },
  {
   "cell_type": "code",
   "execution_count": 10,
   "metadata": {
    "executionInfo": {
     "elapsed": 1178,
     "status": "ok",
     "timestamp": 1624142434724,
     "user": {
      "displayName": "Marcos Pacheco Jr",
      "photoUrl": "",
      "userId": "13463696138139050654"
     },
     "user_tz": 180
    },
    "id": "nsDtOhlMybBN"
   },
   "outputs": [],
   "source": [
    "#neces_esp_dummies = pd.get_dummies(evasao.Necessidade_especial, prefix='Especial')\n",
    "#df = pd.concat([evasao, neces_esp_dummies], axis=1)\n",
    "evasao = pd.get_dummies(evasao, columns=['Necessidade_especial', 'Sexo', 'Etnia', 'Nacionalidade', 'Zona_res', 'Outro_local_aula', 'Unificada','Tipo_turma', 'Localizacao', 'Administracao'], drop_first=True)\n",
    "#pd.get_dummies(evasao)"
   ]
  },
  {
   "cell_type": "code",
   "execution_count": 11,
   "metadata": {
    "colab": {
     "base_uri": "https://localhost:8080/"
    },
    "executionInfo": {
     "elapsed": 242,
     "status": "ok",
     "timestamp": 1624142436545,
     "user": {
      "displayName": "Marcos Pacheco Jr",
      "photoUrl": "",
      "userId": "13463696138139050654"
     },
     "user_tz": 180
    },
    "id": "s-hSOXO_ybBN",
    "outputId": "4e3c8f38-69d8-42ae-83ab-296ab3c00a98",
    "scrolled": true
   },
   "outputs": [
    {
     "data": {
      "text/plain": [
       "['ID',\n",
       " 'Idade',\n",
       " 'Cegueira',\n",
       " 'Baixa_visao',\n",
       " 'Surdez',\n",
       " 'Def_auditiva',\n",
       " 'Surdocegueira',\n",
       " 'Def_fisica',\n",
       " 'Def_intelectual',\n",
       " 'Def_multipla',\n",
       " 'Autismo',\n",
       " 'Asperger',\n",
       " 'Rett',\n",
       " 'Transtorno_DI',\n",
       " 'Superdotacao',\n",
       " 'Etapa_ensino',\n",
       " 'ID_escola',\n",
       " 'Status_evadido',\n",
       " 'Ano',\n",
       " 'Necessidade_especial_1',\n",
       " 'Sexo_M',\n",
       " 'Etnia_Branca',\n",
       " 'Etnia_Indígena',\n",
       " 'Etnia_Não Declarada',\n",
       " 'Etnia_Parda',\n",
       " 'Etnia_Preta',\n",
       " 'Nacionalidade_Extrangeiro',\n",
       " 'Nacionalidade_Naturalizado',\n",
       " 'Zona_res_Urbana',\n",
       " 'Outro_local_aula_Hospital',\n",
       " 'Outro_local_aula_Não recebe',\n",
       " 'Unificada_Multi',\n",
       " 'Unificada_Multietapa',\n",
       " 'Unificada_Não',\n",
       " 'Tipo_turma_Não se aplica',\n",
       " 'Tipo_turma_Unidade prisional',\n",
       " 'Localizacao_Urbana',\n",
       " 'Administracao_Federal',\n",
       " 'Administracao_Municipal',\n",
       " 'Administracao_Privada']"
      ]
     },
     "execution_count": 11,
     "metadata": {},
     "output_type": "execute_result"
    }
   ],
   "source": [
    "evasao.columns.tolist()"
   ]
  },
  {
   "cell_type": "code",
   "execution_count": 12,
   "metadata": {
    "executionInfo": {
     "elapsed": 13746,
     "status": "ok",
     "timestamp": 1624142453218,
     "user": {
      "displayName": "Marcos Pacheco Jr",
      "photoUrl": "",
      "userId": "13463696138139050654"
     },
     "user_tz": 180
    },
    "id": "sHqqA31zybBO"
   },
   "outputs": [],
   "source": [
    "evasao.to_csv('evasao2.csv')"
   ]
  },
  {
   "cell_type": "code",
   "execution_count": 13,
   "metadata": {
    "colab": {
     "base_uri": "https://localhost:8080/",
     "height": 241
    },
    "executionInfo": {
     "elapsed": 14,
     "status": "ok",
     "timestamp": 1624142453225,
     "user": {
      "displayName": "Marcos Pacheco Jr",
      "photoUrl": "",
      "userId": "13463696138139050654"
     },
     "user_tz": 180
    },
    "id": "KkySn5woybBO",
    "outputId": "86c92da4-e207-40da-cd5f-88d63c9a13a4"
   },
   "outputs": [
    {
     "data": {
      "text/html": [
       "<div>\n",
       "<style scoped>\n",
       "    .dataframe tbody tr th:only-of-type {\n",
       "        vertical-align: middle;\n",
       "    }\n",
       "\n",
       "    .dataframe tbody tr th {\n",
       "        vertical-align: top;\n",
       "    }\n",
       "\n",
       "    .dataframe thead th {\n",
       "        text-align: right;\n",
       "    }\n",
       "</style>\n",
       "<table border=\"1\" class=\"dataframe\">\n",
       "  <thead>\n",
       "    <tr style=\"text-align: right;\">\n",
       "      <th></th>\n",
       "      <th>ID</th>\n",
       "      <th>Idade</th>\n",
       "      <th>Cegueira</th>\n",
       "      <th>Baixa_visao</th>\n",
       "      <th>Surdez</th>\n",
       "      <th>Def_auditiva</th>\n",
       "      <th>Surdocegueira</th>\n",
       "      <th>Def_fisica</th>\n",
       "      <th>Def_intelectual</th>\n",
       "      <th>Def_multipla</th>\n",
       "      <th>...</th>\n",
       "      <th>Outro_local_aula_Não recebe</th>\n",
       "      <th>Unificada_Multi</th>\n",
       "      <th>Unificada_Multietapa</th>\n",
       "      <th>Unificada_Não</th>\n",
       "      <th>Tipo_turma_Não se aplica</th>\n",
       "      <th>Tipo_turma_Unidade prisional</th>\n",
       "      <th>Localizacao_Urbana</th>\n",
       "      <th>Administracao_Federal</th>\n",
       "      <th>Administracao_Municipal</th>\n",
       "      <th>Administracao_Privada</th>\n",
       "    </tr>\n",
       "  </thead>\n",
       "  <tbody>\n",
       "    <tr>\n",
       "      <th>0</th>\n",
       "      <td>110003605638</td>\n",
       "      <td>13</td>\n",
       "      <td>0.0</td>\n",
       "      <td>0.0</td>\n",
       "      <td>0.0</td>\n",
       "      <td>0.0</td>\n",
       "      <td>0.0</td>\n",
       "      <td>0.0</td>\n",
       "      <td>0.0</td>\n",
       "      <td>0.0</td>\n",
       "      <td>...</td>\n",
       "      <td>1</td>\n",
       "      <td>0</td>\n",
       "      <td>0</td>\n",
       "      <td>1</td>\n",
       "      <td>1</td>\n",
       "      <td>0</td>\n",
       "      <td>1</td>\n",
       "      <td>0</td>\n",
       "      <td>0</td>\n",
       "      <td>0</td>\n",
       "    </tr>\n",
       "    <tr>\n",
       "      <th>1</th>\n",
       "      <td>110011029594</td>\n",
       "      <td>14</td>\n",
       "      <td>0.0</td>\n",
       "      <td>0.0</td>\n",
       "      <td>0.0</td>\n",
       "      <td>0.0</td>\n",
       "      <td>0.0</td>\n",
       "      <td>0.0</td>\n",
       "      <td>0.0</td>\n",
       "      <td>0.0</td>\n",
       "      <td>...</td>\n",
       "      <td>1</td>\n",
       "      <td>0</td>\n",
       "      <td>0</td>\n",
       "      <td>1</td>\n",
       "      <td>1</td>\n",
       "      <td>0</td>\n",
       "      <td>1</td>\n",
       "      <td>0</td>\n",
       "      <td>0</td>\n",
       "      <td>0</td>\n",
       "    </tr>\n",
       "    <tr>\n",
       "      <th>2</th>\n",
       "      <td>110016658999</td>\n",
       "      <td>12</td>\n",
       "      <td>0.0</td>\n",
       "      <td>0.0</td>\n",
       "      <td>0.0</td>\n",
       "      <td>0.0</td>\n",
       "      <td>0.0</td>\n",
       "      <td>0.0</td>\n",
       "      <td>0.0</td>\n",
       "      <td>0.0</td>\n",
       "      <td>...</td>\n",
       "      <td>1</td>\n",
       "      <td>0</td>\n",
       "      <td>0</td>\n",
       "      <td>1</td>\n",
       "      <td>1</td>\n",
       "      <td>0</td>\n",
       "      <td>1</td>\n",
       "      <td>0</td>\n",
       "      <td>0</td>\n",
       "      <td>0</td>\n",
       "    </tr>\n",
       "    <tr>\n",
       "      <th>3</th>\n",
       "      <td>110017448025</td>\n",
       "      <td>12</td>\n",
       "      <td>0.0</td>\n",
       "      <td>0.0</td>\n",
       "      <td>0.0</td>\n",
       "      <td>0.0</td>\n",
       "      <td>0.0</td>\n",
       "      <td>0.0</td>\n",
       "      <td>0.0</td>\n",
       "      <td>0.0</td>\n",
       "      <td>...</td>\n",
       "      <td>1</td>\n",
       "      <td>0</td>\n",
       "      <td>0</td>\n",
       "      <td>1</td>\n",
       "      <td>1</td>\n",
       "      <td>0</td>\n",
       "      <td>1</td>\n",
       "      <td>0</td>\n",
       "      <td>1</td>\n",
       "      <td>0</td>\n",
       "    </tr>\n",
       "    <tr>\n",
       "      <th>4</th>\n",
       "      <td>110019238206</td>\n",
       "      <td>11</td>\n",
       "      <td>0.0</td>\n",
       "      <td>0.0</td>\n",
       "      <td>0.0</td>\n",
       "      <td>0.0</td>\n",
       "      <td>0.0</td>\n",
       "      <td>0.0</td>\n",
       "      <td>0.0</td>\n",
       "      <td>0.0</td>\n",
       "      <td>...</td>\n",
       "      <td>1</td>\n",
       "      <td>0</td>\n",
       "      <td>0</td>\n",
       "      <td>1</td>\n",
       "      <td>1</td>\n",
       "      <td>0</td>\n",
       "      <td>1</td>\n",
       "      <td>0</td>\n",
       "      <td>0</td>\n",
       "      <td>1</td>\n",
       "    </tr>\n",
       "  </tbody>\n",
       "</table>\n",
       "<p>5 rows × 40 columns</p>\n",
       "</div>"
      ],
      "text/plain": [
       "             ID  Idade  Cegueira  Baixa_visao  Surdez  Def_auditiva  \\\n",
       "0  110003605638     13       0.0          0.0     0.0           0.0   \n",
       "1  110011029594     14       0.0          0.0     0.0           0.0   \n",
       "2  110016658999     12       0.0          0.0     0.0           0.0   \n",
       "3  110017448025     12       0.0          0.0     0.0           0.0   \n",
       "4  110019238206     11       0.0          0.0     0.0           0.0   \n",
       "\n",
       "   Surdocegueira  Def_fisica  Def_intelectual  Def_multipla  ...  \\\n",
       "0            0.0         0.0              0.0           0.0  ...   \n",
       "1            0.0         0.0              0.0           0.0  ...   \n",
       "2            0.0         0.0              0.0           0.0  ...   \n",
       "3            0.0         0.0              0.0           0.0  ...   \n",
       "4            0.0         0.0              0.0           0.0  ...   \n",
       "\n",
       "   Outro_local_aula_Não recebe  Unificada_Multi  Unificada_Multietapa  \\\n",
       "0                            1                0                     0   \n",
       "1                            1                0                     0   \n",
       "2                            1                0                     0   \n",
       "3                            1                0                     0   \n",
       "4                            1                0                     0   \n",
       "\n",
       "   Unificada_Não  Tipo_turma_Não se aplica  Tipo_turma_Unidade prisional  \\\n",
       "0              1                         1                             0   \n",
       "1              1                         1                             0   \n",
       "2              1                         1                             0   \n",
       "3              1                         1                             0   \n",
       "4              1                         1                             0   \n",
       "\n",
       "   Localizacao_Urbana  Administracao_Federal  Administracao_Municipal  \\\n",
       "0                   1                      0                        0   \n",
       "1                   1                      0                        0   \n",
       "2                   1                      0                        0   \n",
       "3                   1                      0                        1   \n",
       "4                   1                      0                        0   \n",
       "\n",
       "   Administracao_Privada  \n",
       "0                      0  \n",
       "1                      0  \n",
       "2                      0  \n",
       "3                      0  \n",
       "4                      1  \n",
       "\n",
       "[5 rows x 40 columns]"
      ]
     },
     "execution_count": 13,
     "metadata": {},
     "output_type": "execute_result"
    }
   ],
   "source": [
    "evasao.head(5)"
   ]
  },
  {
   "cell_type": "code",
   "execution_count": 14,
   "metadata": {
    "executionInfo": {
     "elapsed": 592,
     "status": "ok",
     "timestamp": 1624142459335,
     "user": {
      "displayName": "Marcos Pacheco Jr",
      "photoUrl": "",
      "userId": "13463696138139050654"
     },
     "user_tz": 180
    },
    "id": "1y6nbiKFybBO"
   },
   "outputs": [],
   "source": [
    "evasao = evasao.fillna(0)\n",
    "evasao_features = evasao.drop(columns=['Status_evadido']).values\n",
    "evasao_target = evasao['Status_evadido'].values\n"
   ]
  },
  {
   "cell_type": "code",
   "execution_count": 15,
   "metadata": {
    "colab": {
     "base_uri": "https://localhost:8080/"
    },
    "executionInfo": {
     "elapsed": 255,
     "status": "ok",
     "timestamp": 1624142461706,
     "user": {
      "displayName": "Marcos Pacheco Jr",
      "photoUrl": "",
      "userId": "13463696138139050654"
     },
     "user_tz": 180
    },
    "id": "yJjyh59wybBP",
    "outputId": "42704bc7-119c-49ef-dc41-cb0277518a05"
   },
   "outputs": [
    {
     "data": {
      "text/plain": [
       "0    0.820336\n",
       "1    0.179664\n",
       "Name: Status_evadido, dtype: float64"
      ]
     },
     "execution_count": 15,
     "metadata": {},
     "output_type": "execute_result"
    }
   ],
   "source": [
    "evasao['Status_evadido'].value_counts()/len(evasao)"
   ]
  },
  {
   "cell_type": "code",
   "execution_count": 16,
   "metadata": {
    "executionInfo": {
     "elapsed": 293,
     "status": "ok",
     "timestamp": 1624142463845,
     "user": {
      "displayName": "Marcos Pacheco Jr",
      "photoUrl": "",
      "userId": "13463696138139050654"
     },
     "user_tz": 180
    },
    "id": "_ae7yiLxybBP"
   },
   "outputs": [],
   "source": [
    "#Undersampling\n",
    "y1 = evasao[evasao['Status_evadido']==1]\n",
    "y0 = evasao[evasao['Status_evadido']==0]"
   ]
  },
  {
   "cell_type": "code",
   "execution_count": 17,
   "metadata": {
    "executionInfo": {
     "elapsed": 230,
     "status": "ok",
     "timestamp": 1624142464974,
     "user": {
      "displayName": "Marcos Pacheco Jr",
      "photoUrl": "",
      "userId": "13463696138139050654"
     },
     "user_tz": 180
    },
    "id": "DuHQMOouybBP"
   },
   "outputs": [],
   "source": [
    "y0_novo = y0.sample(n=len(y1))"
   ]
  },
  {
   "cell_type": "code",
   "execution_count": 18,
   "metadata": {
    "colab": {
     "base_uri": "https://localhost:8080/"
    },
    "executionInfo": {
     "elapsed": 388,
     "status": "ok",
     "timestamp": 1624142466118,
     "user": {
      "displayName": "Marcos Pacheco Jr",
      "photoUrl": "",
      "userId": "13463696138139050654"
     },
     "user_tz": 180
    },
    "id": "UOB5A5UjybBP",
    "outputId": "fa631599-3193-4b6d-c28c-c77a200916f3"
   },
   "outputs": [
    {
     "data": {
      "text/plain": [
       "array([1, 0], dtype=int64)"
      ]
     },
     "execution_count": 18,
     "metadata": {},
     "output_type": "execute_result"
    }
   ],
   "source": [
    "y_novo = pd.concat([y1, y0_novo])\n",
    "y_novo['Status_evadido'].unique()"
   ]
  },
  {
   "cell_type": "code",
   "execution_count": 19,
   "metadata": {
    "colab": {
     "base_uri": "https://localhost:8080/"
    },
    "executionInfo": {
     "elapsed": 226,
     "status": "ok",
     "timestamp": 1624142467508,
     "user": {
      "displayName": "Marcos Pacheco Jr",
      "photoUrl": "",
      "userId": "13463696138139050654"
     },
     "user_tz": 180
    },
    "id": "aSzPG3wYybBQ",
    "outputId": "203753b0-4704-4d73-c061-33f1f4587634"
   },
   "outputs": [
    {
     "name": "stdout",
     "output_type": "stream",
     "text": [
      "(339120, 39) (339120,)\n"
     ]
    }
   ],
   "source": [
    "x_novo = y_novo.drop(columns=['Status_evadido']).values\n",
    "y_novo = y_novo['Status_evadido'].values\n",
    "print(x_novo.shape, y_novo.shape)\n"
   ]
  },
  {
   "cell_type": "code",
   "execution_count": 20,
   "metadata": {
    "executionInfo": {
     "elapsed": 387,
     "status": "ok",
     "timestamp": 1624142468911,
     "user": {
      "displayName": "Marcos Pacheco Jr",
      "photoUrl": "",
      "userId": "13463696138139050654"
     },
     "user_tz": 180
    },
    "id": "SQILJxQBybBQ"
   },
   "outputs": [],
   "source": [
    "from sklearn.model_selection import train_test_split\n",
    "evasao_train, evasao_test, status_evadido_train, status_evadido_test = train_test_split(x_novo, y_novo, test_size = 0.2, random_state = 0)"
   ]
  },
  {
   "cell_type": "code",
   "execution_count": 21,
   "metadata": {
    "colab": {
     "base_uri": "https://localhost:8080/"
    },
    "executionInfo": {
     "elapsed": 377,
     "status": "ok",
     "timestamp": 1624142469639,
     "user": {
      "displayName": "Marcos Pacheco Jr",
      "photoUrl": "",
      "userId": "13463696138139050654"
     },
     "user_tz": 180
    },
    "id": "No1ruYwPybBR",
    "outputId": "7e8d4fd7-b5f2-423d-8a08-f861d2542a86"
   },
   "outputs": [
    {
     "data": {
      "text/plain": [
       "ID                              0\n",
       "Idade                           0\n",
       "Cegueira                        0\n",
       "Baixa_visao                     0\n",
       "Surdez                          0\n",
       "Def_auditiva                    0\n",
       "Surdocegueira                   0\n",
       "Def_fisica                      0\n",
       "Def_intelectual                 0\n",
       "Def_multipla                    0\n",
       "Autismo                         0\n",
       "Asperger                        0\n",
       "Rett                            0\n",
       "Transtorno_DI                   0\n",
       "Superdotacao                    0\n",
       "Etapa_ensino                    0\n",
       "ID_escola                       0\n",
       "Status_evadido                  0\n",
       "Ano                             0\n",
       "Necessidade_especial_1          0\n",
       "Sexo_M                          0\n",
       "Etnia_Branca                    0\n",
       "Etnia_Indígena                  0\n",
       "Etnia_Não Declarada             0\n",
       "Etnia_Parda                     0\n",
       "Etnia_Preta                     0\n",
       "Nacionalidade_Extrangeiro       0\n",
       "Nacionalidade_Naturalizado      0\n",
       "Zona_res_Urbana                 0\n",
       "Outro_local_aula_Hospital       0\n",
       "Outro_local_aula_Não recebe     0\n",
       "Unificada_Multi                 0\n",
       "Unificada_Multietapa            0\n",
       "Unificada_Não                   0\n",
       "Tipo_turma_Não se aplica        0\n",
       "Tipo_turma_Unidade prisional    0\n",
       "Localizacao_Urbana              0\n",
       "Administracao_Federal           0\n",
       "Administracao_Municipal         0\n",
       "Administracao_Privada           0\n",
       "dtype: int64"
      ]
     },
     "execution_count": 21,
     "metadata": {},
     "output_type": "execute_result"
    }
   ],
   "source": [
    "evasao.isna().sum()"
   ]
  },
  {
   "cell_type": "code",
   "execution_count": 23,
   "metadata": {
    "colab": {
     "base_uri": "https://localhost:8080/"
    },
    "executionInfo": {
     "elapsed": 837053,
     "status": "ok",
     "timestamp": 1624134021742,
     "user": {
      "displayName": "Marcos Pacheco Jr",
      "photoUrl": "",
      "userId": "13463696138139050654"
     },
     "user_tz": 180
    },
    "id": "380Na0RiybBR",
    "outputId": "87836a11-f8fc-48af-cee6-0b565713c65a"
   },
   "outputs": [
    {
     "name": "stdout",
     "output_type": "stream",
     "text": [
      "0 0 0\n",
      "n_estimators =  10 , criterion =  entropy , min_samples_split =  2\n",
      "Acuracia:  0.8376533380514273\n",
      "Confusion Matrix: \n",
      "[[29692  4023]\n",
      " [ 6988 27121]]\n",
      "\n",
      "0 0 1\n",
      "n_estimators =  10 , criterion =  gini , min_samples_split =  2\n",
      "Acuracia:  0.8381988676574664\n",
      "Confusion Matrix: \n",
      "[[29736  3979]\n",
      " [ 6995 27114]]\n",
      "\n",
      "0 1 0\n",
      "n_estimators =  20 , criterion =  entropy , min_samples_split =  2\n",
      "Acuracia:  0.8396437839112998\n",
      "Confusion Matrix: \n",
      "[[29562  4153]\n",
      " [ 6723 27386]]\n",
      "\n",
      "0 1 1\n",
      "n_estimators =  20 , criterion =  gini , min_samples_split =  2\n",
      "Acuracia:  0.8398649445623968\n",
      "Confusion Matrix: \n",
      "[[29571  4144]\n",
      " [ 6717 27392]]\n",
      "\n",
      "0 2 0\n",
      "n_estimators =  50 , criterion =  entropy , min_samples_split =  2\n",
      "Acuracia:  0.8411476763387591\n",
      "Confusion Matrix: \n",
      "[[29526  4189]\n",
      " [ 6585 27524]]\n",
      "\n",
      "0 2 1\n",
      "n_estimators =  50 , criterion =  gini , min_samples_split =  2\n",
      "Acuracia:  0.8422682236376504\n",
      "Confusion Matrix: \n",
      "[[29548  4167]\n",
      " [ 6531 27578]]\n",
      "\n",
      "0 3 0\n",
      "n_estimators =  100 , criterion =  entropy , min_samples_split =  2\n",
      "Acuracia:  0.8419143665958952\n",
      "Confusion Matrix: \n",
      "[[29518  4197]\n",
      " [ 6525 27584]]\n",
      "\n",
      "0 3 1\n",
      "n_estimators =  100 , criterion =  gini , min_samples_split =  2\n",
      "Acuracia:  0.8428432413305025\n",
      "Confusion Matrix: \n",
      "[[29583  4132]\n",
      " [ 6527 27582]]\n",
      "\n",
      "1 0 0\n",
      "n_estimators =  10 , criterion =  entropy , min_samples_split =  10\n",
      "Acuracia:  0.8510409294644964\n",
      "Confusion Matrix: \n",
      "[[30135  3580]\n",
      " [ 6523 27586]]\n",
      "\n",
      "1 0 1\n",
      "n_estimators =  10 , criterion =  gini , min_samples_split =  10\n",
      "Acuracia:  0.8502152630337344\n",
      "Confusion Matrix: \n",
      "[[30126  3589]\n",
      " [ 6570 27539]]\n",
      "\n",
      "1 1 0\n",
      "n_estimators =  20 , criterion =  entropy , min_samples_split =  10\n"
     ]
    },
    {
     "ename": "KeyboardInterrupt",
     "evalue": "",
     "output_type": "error",
     "traceback": [
      "\u001b[1;31m---------------------------------------------------------------------------\u001b[0m",
      "\u001b[1;31mKeyboardInterrupt\u001b[0m                         Traceback (most recent call last)",
      "\u001b[1;32m<ipython-input-23-0662ff643074>\u001b[0m in \u001b[0;36m<module>\u001b[1;34m\u001b[0m\n\u001b[0;32m     11\u001b[0m       \u001b[0mprint\u001b[0m\u001b[1;33m(\u001b[0m\u001b[1;34m\"n_estimators = \"\u001b[0m\u001b[1;33m,\u001b[0m  \u001b[0mn_est\u001b[0m\u001b[1;33m[\u001b[0m\u001b[0mn\u001b[0m\u001b[1;33m]\u001b[0m\u001b[1;33m,\u001b[0m \u001b[1;34m\", criterion = \"\u001b[0m\u001b[1;33m,\u001b[0m \u001b[0mcrit\u001b[0m\u001b[1;33m[\u001b[0m\u001b[0mc\u001b[0m\u001b[1;33m]\u001b[0m\u001b[1;33m,\u001b[0m \u001b[1;34m\", min_samples_split = \"\u001b[0m\u001b[1;33m,\u001b[0m \u001b[0mmin_samples\u001b[0m\u001b[1;33m[\u001b[0m\u001b[0ms\u001b[0m\u001b[1;33m]\u001b[0m\u001b[1;33m)\u001b[0m\u001b[1;33m\u001b[0m\u001b[1;33m\u001b[0m\u001b[0m\n\u001b[0;32m     12\u001b[0m       \u001b[0mclassifier_RF\u001b[0m \u001b[1;33m=\u001b[0m \u001b[0mRandomForestClassifier\u001b[0m\u001b[1;33m(\u001b[0m\u001b[0mn_estimators\u001b[0m \u001b[1;33m=\u001b[0m \u001b[0mn_est\u001b[0m\u001b[1;33m[\u001b[0m\u001b[0mn\u001b[0m\u001b[1;33m]\u001b[0m\u001b[1;33m,\u001b[0m \u001b[0mcriterion\u001b[0m \u001b[1;33m=\u001b[0m \u001b[0mcrit\u001b[0m\u001b[1;33m[\u001b[0m\u001b[0mc\u001b[0m\u001b[1;33m]\u001b[0m\u001b[1;33m,\u001b[0m \u001b[0mmin_samples_split\u001b[0m \u001b[1;33m=\u001b[0m \u001b[0mmin_samples\u001b[0m\u001b[1;33m[\u001b[0m\u001b[0ms\u001b[0m\u001b[1;33m]\u001b[0m\u001b[1;33m,\u001b[0m \u001b[0mrandom_state\u001b[0m \u001b[1;33m=\u001b[0m \u001b[1;36m0\u001b[0m\u001b[1;33m)\u001b[0m\u001b[1;33m\u001b[0m\u001b[1;33m\u001b[0m\u001b[0m\n\u001b[1;32m---> 13\u001b[1;33m       \u001b[0mclassifier_RF\u001b[0m\u001b[1;33m.\u001b[0m\u001b[0mfit\u001b[0m\u001b[1;33m(\u001b[0m\u001b[0mevasao_train\u001b[0m\u001b[1;33m,\u001b[0m \u001b[0mstatus_evadido_train\u001b[0m\u001b[1;33m)\u001b[0m\u001b[1;33m\u001b[0m\u001b[1;33m\u001b[0m\u001b[0m\n\u001b[0m\u001b[0;32m     14\u001b[0m       \u001b[0mstatus_evadido_pred_RF\u001b[0m \u001b[1;33m=\u001b[0m \u001b[0mclassifier_RF\u001b[0m\u001b[1;33m.\u001b[0m\u001b[0mpredict\u001b[0m\u001b[1;33m(\u001b[0m\u001b[0mevasao_test\u001b[0m\u001b[1;33m)\u001b[0m\u001b[1;33m\u001b[0m\u001b[1;33m\u001b[0m\u001b[0m\n\u001b[0;32m     15\u001b[0m       \u001b[0macuracia_RF\u001b[0m \u001b[1;33m=\u001b[0m \u001b[0maccuracy_score\u001b[0m\u001b[1;33m(\u001b[0m\u001b[0mstatus_evadido_test\u001b[0m\u001b[1;33m,\u001b[0m \u001b[0mstatus_evadido_pred_RF\u001b[0m\u001b[1;33m)\u001b[0m\u001b[1;33m\u001b[0m\u001b[1;33m\u001b[0m\u001b[0m\n",
      "\u001b[1;32m~\\anaconda3\\lib\\site-packages\\sklearn\\ensemble\\_forest.py\u001b[0m in \u001b[0;36mfit\u001b[1;34m(self, X, y, sample_weight)\u001b[0m\n\u001b[0;32m    384\u001b[0m             \u001b[1;31m# parallel_backend contexts set at a higher level,\u001b[0m\u001b[1;33m\u001b[0m\u001b[1;33m\u001b[0m\u001b[1;33m\u001b[0m\u001b[0m\n\u001b[0;32m    385\u001b[0m             \u001b[1;31m# since correctness does not rely on using threads.\u001b[0m\u001b[1;33m\u001b[0m\u001b[1;33m\u001b[0m\u001b[1;33m\u001b[0m\u001b[0m\n\u001b[1;32m--> 386\u001b[1;33m             trees = Parallel(n_jobs=self.n_jobs, verbose=self.verbose,\n\u001b[0m\u001b[0;32m    387\u001b[0m                              \u001b[1;33m**\u001b[0m\u001b[0m_joblib_parallel_args\u001b[0m\u001b[1;33m(\u001b[0m\u001b[0mprefer\u001b[0m\u001b[1;33m=\u001b[0m\u001b[1;34m'threads'\u001b[0m\u001b[1;33m)\u001b[0m\u001b[1;33m)\u001b[0m\u001b[1;33m(\u001b[0m\u001b[1;33m\u001b[0m\u001b[1;33m\u001b[0m\u001b[0m\n\u001b[0;32m    388\u001b[0m                 delayed(_parallel_build_trees)(\n",
      "\u001b[1;32m~\\anaconda3\\lib\\site-packages\\joblib\\parallel.py\u001b[0m in \u001b[0;36m__call__\u001b[1;34m(self, iterable)\u001b[0m\n\u001b[0;32m   1049\u001b[0m                 \u001b[0mself\u001b[0m\u001b[1;33m.\u001b[0m\u001b[0m_iterating\u001b[0m \u001b[1;33m=\u001b[0m \u001b[0mself\u001b[0m\u001b[1;33m.\u001b[0m\u001b[0m_original_iterator\u001b[0m \u001b[1;32mis\u001b[0m \u001b[1;32mnot\u001b[0m \u001b[1;32mNone\u001b[0m\u001b[1;33m\u001b[0m\u001b[1;33m\u001b[0m\u001b[0m\n\u001b[0;32m   1050\u001b[0m \u001b[1;33m\u001b[0m\u001b[0m\n\u001b[1;32m-> 1051\u001b[1;33m             \u001b[1;32mwhile\u001b[0m \u001b[0mself\u001b[0m\u001b[1;33m.\u001b[0m\u001b[0mdispatch_one_batch\u001b[0m\u001b[1;33m(\u001b[0m\u001b[0miterator\u001b[0m\u001b[1;33m)\u001b[0m\u001b[1;33m:\u001b[0m\u001b[1;33m\u001b[0m\u001b[1;33m\u001b[0m\u001b[0m\n\u001b[0m\u001b[0;32m   1052\u001b[0m                 \u001b[1;32mpass\u001b[0m\u001b[1;33m\u001b[0m\u001b[1;33m\u001b[0m\u001b[0m\n\u001b[0;32m   1053\u001b[0m \u001b[1;33m\u001b[0m\u001b[0m\n",
      "\u001b[1;32m~\\anaconda3\\lib\\site-packages\\joblib\\parallel.py\u001b[0m in \u001b[0;36mdispatch_one_batch\u001b[1;34m(self, iterator)\u001b[0m\n\u001b[0;32m    864\u001b[0m                 \u001b[1;32mreturn\u001b[0m \u001b[1;32mFalse\u001b[0m\u001b[1;33m\u001b[0m\u001b[1;33m\u001b[0m\u001b[0m\n\u001b[0;32m    865\u001b[0m             \u001b[1;32melse\u001b[0m\u001b[1;33m:\u001b[0m\u001b[1;33m\u001b[0m\u001b[1;33m\u001b[0m\u001b[0m\n\u001b[1;32m--> 866\u001b[1;33m                 \u001b[0mself\u001b[0m\u001b[1;33m.\u001b[0m\u001b[0m_dispatch\u001b[0m\u001b[1;33m(\u001b[0m\u001b[0mtasks\u001b[0m\u001b[1;33m)\u001b[0m\u001b[1;33m\u001b[0m\u001b[1;33m\u001b[0m\u001b[0m\n\u001b[0m\u001b[0;32m    867\u001b[0m                 \u001b[1;32mreturn\u001b[0m \u001b[1;32mTrue\u001b[0m\u001b[1;33m\u001b[0m\u001b[1;33m\u001b[0m\u001b[0m\n\u001b[0;32m    868\u001b[0m \u001b[1;33m\u001b[0m\u001b[0m\n",
      "\u001b[1;32m~\\anaconda3\\lib\\site-packages\\joblib\\parallel.py\u001b[0m in \u001b[0;36m_dispatch\u001b[1;34m(self, batch)\u001b[0m\n\u001b[0;32m    782\u001b[0m         \u001b[1;32mwith\u001b[0m \u001b[0mself\u001b[0m\u001b[1;33m.\u001b[0m\u001b[0m_lock\u001b[0m\u001b[1;33m:\u001b[0m\u001b[1;33m\u001b[0m\u001b[1;33m\u001b[0m\u001b[0m\n\u001b[0;32m    783\u001b[0m             \u001b[0mjob_idx\u001b[0m \u001b[1;33m=\u001b[0m \u001b[0mlen\u001b[0m\u001b[1;33m(\u001b[0m\u001b[0mself\u001b[0m\u001b[1;33m.\u001b[0m\u001b[0m_jobs\u001b[0m\u001b[1;33m)\u001b[0m\u001b[1;33m\u001b[0m\u001b[1;33m\u001b[0m\u001b[0m\n\u001b[1;32m--> 784\u001b[1;33m             \u001b[0mjob\u001b[0m \u001b[1;33m=\u001b[0m \u001b[0mself\u001b[0m\u001b[1;33m.\u001b[0m\u001b[0m_backend\u001b[0m\u001b[1;33m.\u001b[0m\u001b[0mapply_async\u001b[0m\u001b[1;33m(\u001b[0m\u001b[0mbatch\u001b[0m\u001b[1;33m,\u001b[0m \u001b[0mcallback\u001b[0m\u001b[1;33m=\u001b[0m\u001b[0mcb\u001b[0m\u001b[1;33m)\u001b[0m\u001b[1;33m\u001b[0m\u001b[1;33m\u001b[0m\u001b[0m\n\u001b[0m\u001b[0;32m    785\u001b[0m             \u001b[1;31m# A job can complete so quickly than its callback is\u001b[0m\u001b[1;33m\u001b[0m\u001b[1;33m\u001b[0m\u001b[1;33m\u001b[0m\u001b[0m\n\u001b[0;32m    786\u001b[0m             \u001b[1;31m# called before we get here, causing self._jobs to\u001b[0m\u001b[1;33m\u001b[0m\u001b[1;33m\u001b[0m\u001b[1;33m\u001b[0m\u001b[0m\n",
      "\u001b[1;32m~\\anaconda3\\lib\\site-packages\\joblib\\_parallel_backends.py\u001b[0m in \u001b[0;36mapply_async\u001b[1;34m(self, func, callback)\u001b[0m\n\u001b[0;32m    206\u001b[0m     \u001b[1;32mdef\u001b[0m \u001b[0mapply_async\u001b[0m\u001b[1;33m(\u001b[0m\u001b[0mself\u001b[0m\u001b[1;33m,\u001b[0m \u001b[0mfunc\u001b[0m\u001b[1;33m,\u001b[0m \u001b[0mcallback\u001b[0m\u001b[1;33m=\u001b[0m\u001b[1;32mNone\u001b[0m\u001b[1;33m)\u001b[0m\u001b[1;33m:\u001b[0m\u001b[1;33m\u001b[0m\u001b[1;33m\u001b[0m\u001b[0m\n\u001b[0;32m    207\u001b[0m         \u001b[1;34m\"\"\"Schedule a func to be run\"\"\"\u001b[0m\u001b[1;33m\u001b[0m\u001b[1;33m\u001b[0m\u001b[0m\n\u001b[1;32m--> 208\u001b[1;33m         \u001b[0mresult\u001b[0m \u001b[1;33m=\u001b[0m \u001b[0mImmediateResult\u001b[0m\u001b[1;33m(\u001b[0m\u001b[0mfunc\u001b[0m\u001b[1;33m)\u001b[0m\u001b[1;33m\u001b[0m\u001b[1;33m\u001b[0m\u001b[0m\n\u001b[0m\u001b[0;32m    209\u001b[0m         \u001b[1;32mif\u001b[0m \u001b[0mcallback\u001b[0m\u001b[1;33m:\u001b[0m\u001b[1;33m\u001b[0m\u001b[1;33m\u001b[0m\u001b[0m\n\u001b[0;32m    210\u001b[0m             \u001b[0mcallback\u001b[0m\u001b[1;33m(\u001b[0m\u001b[0mresult\u001b[0m\u001b[1;33m)\u001b[0m\u001b[1;33m\u001b[0m\u001b[1;33m\u001b[0m\u001b[0m\n",
      "\u001b[1;32m~\\anaconda3\\lib\\site-packages\\joblib\\_parallel_backends.py\u001b[0m in \u001b[0;36m__init__\u001b[1;34m(self, batch)\u001b[0m\n\u001b[0;32m    570\u001b[0m         \u001b[1;31m# Don't delay the application, to avoid keeping the input\u001b[0m\u001b[1;33m\u001b[0m\u001b[1;33m\u001b[0m\u001b[1;33m\u001b[0m\u001b[0m\n\u001b[0;32m    571\u001b[0m         \u001b[1;31m# arguments in memory\u001b[0m\u001b[1;33m\u001b[0m\u001b[1;33m\u001b[0m\u001b[1;33m\u001b[0m\u001b[0m\n\u001b[1;32m--> 572\u001b[1;33m         \u001b[0mself\u001b[0m\u001b[1;33m.\u001b[0m\u001b[0mresults\u001b[0m \u001b[1;33m=\u001b[0m \u001b[0mbatch\u001b[0m\u001b[1;33m(\u001b[0m\u001b[1;33m)\u001b[0m\u001b[1;33m\u001b[0m\u001b[1;33m\u001b[0m\u001b[0m\n\u001b[0m\u001b[0;32m    573\u001b[0m \u001b[1;33m\u001b[0m\u001b[0m\n\u001b[0;32m    574\u001b[0m     \u001b[1;32mdef\u001b[0m \u001b[0mget\u001b[0m\u001b[1;33m(\u001b[0m\u001b[0mself\u001b[0m\u001b[1;33m)\u001b[0m\u001b[1;33m:\u001b[0m\u001b[1;33m\u001b[0m\u001b[1;33m\u001b[0m\u001b[0m\n",
      "\u001b[1;32m~\\anaconda3\\lib\\site-packages\\joblib\\parallel.py\u001b[0m in \u001b[0;36m__call__\u001b[1;34m(self)\u001b[0m\n\u001b[0;32m    260\u001b[0m         \u001b[1;31m# change the default number of processes to -1\u001b[0m\u001b[1;33m\u001b[0m\u001b[1;33m\u001b[0m\u001b[1;33m\u001b[0m\u001b[0m\n\u001b[0;32m    261\u001b[0m         \u001b[1;32mwith\u001b[0m \u001b[0mparallel_backend\u001b[0m\u001b[1;33m(\u001b[0m\u001b[0mself\u001b[0m\u001b[1;33m.\u001b[0m\u001b[0m_backend\u001b[0m\u001b[1;33m,\u001b[0m \u001b[0mn_jobs\u001b[0m\u001b[1;33m=\u001b[0m\u001b[0mself\u001b[0m\u001b[1;33m.\u001b[0m\u001b[0m_n_jobs\u001b[0m\u001b[1;33m)\u001b[0m\u001b[1;33m:\u001b[0m\u001b[1;33m\u001b[0m\u001b[1;33m\u001b[0m\u001b[0m\n\u001b[1;32m--> 262\u001b[1;33m             return [func(*args, **kwargs)\n\u001b[0m\u001b[0;32m    263\u001b[0m                     for func, args, kwargs in self.items]\n\u001b[0;32m    264\u001b[0m \u001b[1;33m\u001b[0m\u001b[0m\n",
      "\u001b[1;32m~\\anaconda3\\lib\\site-packages\\joblib\\parallel.py\u001b[0m in \u001b[0;36m<listcomp>\u001b[1;34m(.0)\u001b[0m\n\u001b[0;32m    260\u001b[0m         \u001b[1;31m# change the default number of processes to -1\u001b[0m\u001b[1;33m\u001b[0m\u001b[1;33m\u001b[0m\u001b[1;33m\u001b[0m\u001b[0m\n\u001b[0;32m    261\u001b[0m         \u001b[1;32mwith\u001b[0m \u001b[0mparallel_backend\u001b[0m\u001b[1;33m(\u001b[0m\u001b[0mself\u001b[0m\u001b[1;33m.\u001b[0m\u001b[0m_backend\u001b[0m\u001b[1;33m,\u001b[0m \u001b[0mn_jobs\u001b[0m\u001b[1;33m=\u001b[0m\u001b[0mself\u001b[0m\u001b[1;33m.\u001b[0m\u001b[0m_n_jobs\u001b[0m\u001b[1;33m)\u001b[0m\u001b[1;33m:\u001b[0m\u001b[1;33m\u001b[0m\u001b[1;33m\u001b[0m\u001b[0m\n\u001b[1;32m--> 262\u001b[1;33m             return [func(*args, **kwargs)\n\u001b[0m\u001b[0;32m    263\u001b[0m                     for func, args, kwargs in self.items]\n\u001b[0;32m    264\u001b[0m \u001b[1;33m\u001b[0m\u001b[0m\n",
      "\u001b[1;32m~\\anaconda3\\lib\\site-packages\\sklearn\\ensemble\\_forest.py\u001b[0m in \u001b[0;36m_parallel_build_trees\u001b[1;34m(tree, forest, X, y, sample_weight, tree_idx, n_trees, verbose, class_weight, n_samples_bootstrap)\u001b[0m\n\u001b[0;32m    166\u001b[0m                                                         indices=indices)\n\u001b[0;32m    167\u001b[0m \u001b[1;33m\u001b[0m\u001b[0m\n\u001b[1;32m--> 168\u001b[1;33m         \u001b[0mtree\u001b[0m\u001b[1;33m.\u001b[0m\u001b[0mfit\u001b[0m\u001b[1;33m(\u001b[0m\u001b[0mX\u001b[0m\u001b[1;33m,\u001b[0m \u001b[0my\u001b[0m\u001b[1;33m,\u001b[0m \u001b[0msample_weight\u001b[0m\u001b[1;33m=\u001b[0m\u001b[0mcurr_sample_weight\u001b[0m\u001b[1;33m,\u001b[0m \u001b[0mcheck_input\u001b[0m\u001b[1;33m=\u001b[0m\u001b[1;32mFalse\u001b[0m\u001b[1;33m)\u001b[0m\u001b[1;33m\u001b[0m\u001b[1;33m\u001b[0m\u001b[0m\n\u001b[0m\u001b[0;32m    169\u001b[0m     \u001b[1;32melse\u001b[0m\u001b[1;33m:\u001b[0m\u001b[1;33m\u001b[0m\u001b[1;33m\u001b[0m\u001b[0m\n\u001b[0;32m    170\u001b[0m         \u001b[0mtree\u001b[0m\u001b[1;33m.\u001b[0m\u001b[0mfit\u001b[0m\u001b[1;33m(\u001b[0m\u001b[0mX\u001b[0m\u001b[1;33m,\u001b[0m \u001b[0my\u001b[0m\u001b[1;33m,\u001b[0m \u001b[0msample_weight\u001b[0m\u001b[1;33m=\u001b[0m\u001b[0msample_weight\u001b[0m\u001b[1;33m,\u001b[0m \u001b[0mcheck_input\u001b[0m\u001b[1;33m=\u001b[0m\u001b[1;32mFalse\u001b[0m\u001b[1;33m)\u001b[0m\u001b[1;33m\u001b[0m\u001b[1;33m\u001b[0m\u001b[0m\n",
      "\u001b[1;32m~\\anaconda3\\lib\\site-packages\\sklearn\\tree\\_classes.py\u001b[0m in \u001b[0;36mfit\u001b[1;34m(self, X, y, sample_weight, check_input, X_idx_sorted)\u001b[0m\n\u001b[0;32m    888\u001b[0m         \"\"\"\n\u001b[0;32m    889\u001b[0m \u001b[1;33m\u001b[0m\u001b[0m\n\u001b[1;32m--> 890\u001b[1;33m         super().fit(\n\u001b[0m\u001b[0;32m    891\u001b[0m             \u001b[0mX\u001b[0m\u001b[1;33m,\u001b[0m \u001b[0my\u001b[0m\u001b[1;33m,\u001b[0m\u001b[1;33m\u001b[0m\u001b[1;33m\u001b[0m\u001b[0m\n\u001b[0;32m    892\u001b[0m             \u001b[0msample_weight\u001b[0m\u001b[1;33m=\u001b[0m\u001b[0msample_weight\u001b[0m\u001b[1;33m,\u001b[0m\u001b[1;33m\u001b[0m\u001b[1;33m\u001b[0m\u001b[0m\n",
      "\u001b[1;32m~\\anaconda3\\lib\\site-packages\\sklearn\\tree\\_classes.py\u001b[0m in \u001b[0;36mfit\u001b[1;34m(self, X, y, sample_weight, check_input, X_idx_sorted)\u001b[0m\n\u001b[0;32m    373\u001b[0m                                            min_impurity_split)\n\u001b[0;32m    374\u001b[0m \u001b[1;33m\u001b[0m\u001b[0m\n\u001b[1;32m--> 375\u001b[1;33m         \u001b[0mbuilder\u001b[0m\u001b[1;33m.\u001b[0m\u001b[0mbuild\u001b[0m\u001b[1;33m(\u001b[0m\u001b[0mself\u001b[0m\u001b[1;33m.\u001b[0m\u001b[0mtree_\u001b[0m\u001b[1;33m,\u001b[0m \u001b[0mX\u001b[0m\u001b[1;33m,\u001b[0m \u001b[0my\u001b[0m\u001b[1;33m,\u001b[0m \u001b[0msample_weight\u001b[0m\u001b[1;33m,\u001b[0m \u001b[0mX_idx_sorted\u001b[0m\u001b[1;33m)\u001b[0m\u001b[1;33m\u001b[0m\u001b[1;33m\u001b[0m\u001b[0m\n\u001b[0m\u001b[0;32m    376\u001b[0m \u001b[1;33m\u001b[0m\u001b[0m\n\u001b[0;32m    377\u001b[0m         \u001b[1;32mif\u001b[0m \u001b[0mself\u001b[0m\u001b[1;33m.\u001b[0m\u001b[0mn_outputs_\u001b[0m \u001b[1;33m==\u001b[0m \u001b[1;36m1\u001b[0m \u001b[1;32mand\u001b[0m \u001b[0mis_classifier\u001b[0m\u001b[1;33m(\u001b[0m\u001b[0mself\u001b[0m\u001b[1;33m)\u001b[0m\u001b[1;33m:\u001b[0m\u001b[1;33m\u001b[0m\u001b[1;33m\u001b[0m\u001b[0m\n",
      "\u001b[1;31mKeyboardInterrupt\u001b[0m: "
     ]
    }
   ],
   "source": [
    "#Buscando melhores parâmetros- Random Forest\n",
    "from sklearn.ensemble import RandomForestClassifier\n",
    "from sklearn.metrics import confusion_matrix, accuracy_score\n",
    "min_samples = [2, 10, 50, 200, 1000]\n",
    "n_est = [10, 20, 50, 100]\n",
    "crit = ['entropy', 'gini']\n",
    "for s in range(len(min_samples)):\n",
    "  for n in range(len(n_est)):\n",
    "    for c in range(len(crit)):\n",
    "      print(s, n, c)\n",
    "      print(\"n_estimators = \",  n_est[n], \", criterion = \", crit[c], \", min_samples_split = \", min_samples[s])\n",
    "      classifier_RF = RandomForestClassifier(n_estimators = n_est[n], criterion = crit[c], min_samples_split = min_samples[s], random_state = 0)\n",
    "      classifier_RF.fit(evasao_train, status_evadido_train)\n",
    "      status_evadido_pred_RF = classifier_RF.predict(evasao_test)\n",
    "      acuracia_RF = accuracy_score(status_evadido_test, status_evadido_pred_RF)\n",
    "      print(\"Acuracia: \", acuracia_RF)\n",
    "      cm_RF = confusion_matrix(status_evadido_test, status_evadido_pred_RF)\n",
    "      print(\"Confusion Matrix: \")\n",
    "      print(cm_RF)\n",
    "      print()"
   ]
  },
  {
   "cell_type": "code",
   "execution_count": 22,
   "metadata": {
    "colab": {
     "base_uri": "https://localhost:8080/"
    },
    "executionInfo": {
     "elapsed": 48115,
     "status": "ok",
     "timestamp": 1624142527210,
     "user": {
      "displayName": "Marcos Pacheco Jr",
      "photoUrl": "",
      "userId": "13463696138139050654"
     },
     "user_tz": 180
    },
    "id": "sY8s1OyRBSmo",
    "outputId": "e9a0a2cd-f347-4281-b3f9-88b90e9a5fca"
   },
   "outputs": [
    {
     "name": "stdout",
     "output_type": "stream",
     "text": [
      "Acuracia:  0.858943736730361\n",
      "Confusion Matrix: \n",
      "[[31034  2681]\n",
      " [ 6886 27223]]\n",
      "\n"
     ]
    }
   ],
   "source": [
    "#melhores parâmetros- Random Forest\n",
    "from sklearn.ensemble import RandomForestClassifier\n",
    "from sklearn.metrics import confusion_matrix, accuracy_score\n",
    "classifier_RF = RandomForestClassifier(n_estimators =  100 , criterion =  \"entropy\" , min_samples_split =  50, random_state = 0)\n",
    "classifier_RF.fit(evasao_train, status_evadido_train)\n",
    "status_evadido_pred_RF = classifier_RF.predict(evasao_test)\n",
    "acuracia_RF = accuracy_score(status_evadido_test, status_evadido_pred_RF)\n",
    "print(\"Acuracia: \", acuracia_RF)\n",
    "cm_RF = confusion_matrix(status_evadido_test, status_evadido_pred_RF)\n",
    "print(\"Confusion Matrix: \")\n",
    "print(cm_RF)\n",
    "print()"
   ]
  },
  {
   "cell_type": "code",
   "execution_count": 23,
   "metadata": {
    "colab": {
     "base_uri": "https://localhost:8080/"
    },
    "executionInfo": {
     "elapsed": 384,
     "status": "ok",
     "timestamp": 1624142527586,
     "user": {
      "displayName": "Marcos Pacheco Jr",
      "photoUrl": "",
      "userId": "13463696138139050654"
     },
     "user_tz": 180
    },
    "id": "7oD1HTAdybBS",
    "outputId": "5f62c5c1-07ad-4aa9-8161-9a779d907658"
   },
   "outputs": [
    {
     "name": "stdout",
     "output_type": "stream",
     "text": [
      "Acuracia:  0.5596838877093654\n",
      "Confusion Matrix: \n",
      "[[28893  4822]\n",
      " [25042  9067]]\n"
     ]
    }
   ],
   "source": [
    "from sklearn.naive_bayes import GaussianNB\n",
    "classifier_NB = GaussianNB()\n",
    "classifier_NB.fit(evasao_train, status_evadido_train)\n",
    "status_evadido_pred_NB = classifier_NB.predict(evasao_test)\n",
    "acuracia_NB = accuracy_score(status_evadido_test, status_evadido_pred_NB)\n",
    "print(\"Acuracia: \", acuracia_NB)\n",
    "cm_NB = confusion_matrix(status_evadido_test, status_evadido_pred_NB)\n",
    "print(\"Confusion Matrix: \")\n",
    "print(cm_NB)"
   ]
  },
  {
   "cell_type": "code",
   "execution_count": null,
   "metadata": {
    "id": "rl08UvcrybBS",
    "jupyter": {
     "source_hidden": true
    },
    "scrolled": true
   },
   "outputs": [],
   "source": [
    "from sklearn.svm import SVC\n",
    "classifier_SVM = SVC(kernel=\"rbf\")\n",
    "classifier_SVM.fit(evasao_train, status_evadido_train)\n",
    "status_evadido_pred_SVM = classifier_SVM.predict(evasao_test)\n",
    "acuracia_SVM = accuracy_score(status_evadido_test, status_evadido_pred_SVM)\n",
    "print(\"Acuracia: \", acuracia_SVM)\n",
    "cm_SVM= confusion_matrix(status_evadido_test, status_evadido_pred_SVM)\n",
    "print(\"Confusion Matrix: \")\n",
    "print(cm_SVM)"
   ]
  },
  {
   "cell_type": "code",
   "execution_count": 24,
   "metadata": {
    "colab": {
     "base_uri": "https://localhost:8080/",
     "height": 279
    },
    "executionInfo": {
     "elapsed": 2298,
     "status": "ok",
     "timestamp": 1624142531973,
     "user": {
      "displayName": "Marcos Pacheco Jr",
      "photoUrl": "",
      "userId": "13463696138139050654"
     },
     "user_tz": 180
    },
    "id": "r1l_AB0n7_3V",
    "outputId": "70411f9f-151c-4671-bb3a-e98eaa19511b"
   },
   "outputs": [
    {
     "data": {
      "image/png": "[encoded data removed]",
      "text/plain": [
       "<Figure size 432x288 with 1 Axes>"
      ]
     },
     "metadata": {
      "needs_background": "light"
     },
     "output_type": "display_data"
    }
   ],
   "source": [
    "#ROC AUC\n",
    "from sklearn.metrics import roc_auc_score\n",
    "from sklearn.metrics import roc_curve, auc\n",
    "from sklearn.metrics import plot_roc_curve\n",
    "import matplotlib.pyplot as plt\n",
    "ax = plt.gca()\n",
    "rfc_disp = plot_roc_curve(classifier_RF, evasao_test, status_evadido_test, ax=ax, alpha=0.8, color = 'blue')\n",
    "#svc_disp = plot_roc_curve(classifier_SVM, evasao_test, status_evadido_test, ax=ax, alpha=0.8, color = 'green')\n",
    "nb_disp = plot_roc_curve(classifier_NB, evasao_test, status_evadido_test, ax=ax, alpha=0.8, color = 'red')\n",
    "plt.show()"
   ]
  },
  {
   "cell_type": "code",
   "execution_count": 25,
   "metadata": {
    "colab": {
     "base_uri": "https://localhost:8080/",
     "height": 726
    },
    "executionInfo": {
     "elapsed": 367,
     "status": "ok",
     "timestamp": 1624139433384,
     "user": {
      "displayName": "Marcos Pacheco Jr",
      "photoUrl": "",
      "userId": "13463696138139050654"
     },
     "user_tz": 180
    },
    "id": "Asz-4QB7K6uA",
    "outputId": "cd2dc7f0-30ae-4cb7-83e1-d952e3c53b38"
   },
   "outputs": [
    {
     "data": {
      "text/html": [
       "<h1>Random Forest predict_proba</h1><table border=\"1\" class=\"dataframe\">\n",
       "  <thead>\n",
       "    <tr style=\"text-align: right;\">\n",
       "      <th></th>\n",
       "      <th>0</th>\n",
       "      <th>1</th>\n",
       "    </tr>\n",
       "  </thead>\n",
       "  <tbody>\n",
       "    <tr>\n",
       "      <th>0</th>\n",
       "      <td>0.865342</td>\n",
       "      <td>0.134658</td>\n",
       "    </tr>\n",
       "    <tr>\n",
       "      <th>1</th>\n",
       "      <td>0.898513</td>\n",
       "      <td>0.101487</td>\n",
       "    </tr>\n",
       "    <tr>\n",
       "      <th>2</th>\n",
       "      <td>0.004645</td>\n",
       "      <td>0.995355</td>\n",
       "    </tr>\n",
       "    <tr>\n",
       "      <th>3</th>\n",
       "      <td>0.583029</td>\n",
       "      <td>0.416971</td>\n",
       "    </tr>\n",
       "    <tr>\n",
       "      <th>4</th>\n",
       "      <td>0.006050</td>\n",
       "      <td>0.993950</td>\n",
       "    </tr>\n",
       "    <tr>\n",
       "      <th>5</th>\n",
       "      <td>0.188032</td>\n",
       "      <td>0.811968</td>\n",
       "    </tr>\n",
       "    <tr>\n",
       "      <th>6</th>\n",
       "      <td>0.267823</td>\n",
       "      <td>0.732177</td>\n",
       "    </tr>\n",
       "    <tr>\n",
       "      <th>7</th>\n",
       "      <td>0.970259</td>\n",
       "      <td>0.029741</td>\n",
       "    </tr>\n",
       "    <tr>\n",
       "      <th>8</th>\n",
       "      <td>0.085963</td>\n",
       "      <td>0.914037</td>\n",
       "    </tr>\n",
       "    <tr>\n",
       "      <th>9</th>\n",
       "      <td>0.470506</td>\n",
       "      <td>0.529494</td>\n",
       "    </tr>\n",
       "    <tr>\n",
       "      <th>10</th>\n",
       "      <td>0.073236</td>\n",
       "      <td>0.926764</td>\n",
       "    </tr>\n",
       "    <tr>\n",
       "      <th>11</th>\n",
       "      <td>0.886538</td>\n",
       "      <td>0.113462</td>\n",
       "    </tr>\n",
       "    <tr>\n",
       "      <th>12</th>\n",
       "      <td>0.882812</td>\n",
       "      <td>0.117188</td>\n",
       "    </tr>\n",
       "    <tr>\n",
       "      <th>13</th>\n",
       "      <td>0.657996</td>\n",
       "      <td>0.342004</td>\n",
       "    </tr>\n",
       "    <tr>\n",
       "      <th>14</th>\n",
       "      <td>0.816356</td>\n",
       "      <td>0.183644</td>\n",
       "    </tr>\n",
       "    <tr>\n",
       "      <th>15</th>\n",
       "      <td>0.940277</td>\n",
       "      <td>0.059723</td>\n",
       "    </tr>\n",
       "    <tr>\n",
       "      <th>16</th>\n",
       "      <td>0.944588</td>\n",
       "      <td>0.055412</td>\n",
       "    </tr>\n",
       "    <tr>\n",
       "      <th>17</th>\n",
       "      <td>0.026594</td>\n",
       "      <td>0.973406</td>\n",
       "    </tr>\n",
       "    <tr>\n",
       "      <th>18</th>\n",
       "      <td>0.003868</td>\n",
       "      <td>0.996132</td>\n",
       "    </tr>\n",
       "    <tr>\n",
       "      <th>19</th>\n",
       "      <td>0.864872</td>\n",
       "      <td>0.135128</td>\n",
       "    </tr>\n",
       "  </tbody>\n",
       "</table>"
      ],
      "text/plain": [
       "<IPython.core.display.HTML object>"
      ]
     },
     "execution_count": 25,
     "metadata": {},
     "output_type": "execute_result"
    }
   ],
   "source": [
    "#Predict_proba\n",
    "from pandas import DataFrame\n",
    "from IPython.display import HTML\n",
    "from random import sample\n",
    "sample_evasao_test = sample(list(evasao_test),20)\n",
    "pred_prob_RF = classifier_RF.predict_proba(sample_evasao_test)\n",
    "HTML('<h1>Random Forest predict_proba</h1>'+DataFrame(pred_prob_RF).to_html())"
   ]
  },
  {
   "cell_type": "code",
   "execution_count": 26,
   "metadata": {
    "colab": {
     "base_uri": "https://localhost:8080/",
     "height": 726
    },
    "executionInfo": {
     "elapsed": 230,
     "status": "ok",
     "timestamp": 1624139500582,
     "user": {
      "displayName": "Marcos Pacheco Jr",
      "photoUrl": "",
      "userId": "13463696138139050654"
     },
     "user_tz": 180
    },
    "id": "MvgyTJ2kQTdU",
    "outputId": "28a3137a-3e52-4d63-b20b-7785038de127"
   },
   "outputs": [
    {
     "data": {
      "text/html": [
       "<h1>Naive Bayes predict_proba</h1><table border=\"1\" class=\"dataframe\">\n",
       "  <thead>\n",
       "    <tr style=\"text-align: right;\">\n",
       "      <th></th>\n",
       "      <th>0</th>\n",
       "      <th>1</th>\n",
       "    </tr>\n",
       "  </thead>\n",
       "  <tbody>\n",
       "    <tr>\n",
       "      <th>0</th>\n",
       "      <td>0.635110</td>\n",
       "      <td>0.364890</td>\n",
       "    </tr>\n",
       "    <tr>\n",
       "      <th>1</th>\n",
       "      <td>0.540682</td>\n",
       "      <td>0.459318</td>\n",
       "    </tr>\n",
       "    <tr>\n",
       "      <th>2</th>\n",
       "      <td>0.632469</td>\n",
       "      <td>0.367531</td>\n",
       "    </tr>\n",
       "    <tr>\n",
       "      <th>3</th>\n",
       "      <td>0.550405</td>\n",
       "      <td>0.449595</td>\n",
       "    </tr>\n",
       "    <tr>\n",
       "      <th>4</th>\n",
       "      <td>0.592088</td>\n",
       "      <td>0.407912</td>\n",
       "    </tr>\n",
       "    <tr>\n",
       "      <th>5</th>\n",
       "      <td>0.595316</td>\n",
       "      <td>0.404684</td>\n",
       "    </tr>\n",
       "    <tr>\n",
       "      <th>6</th>\n",
       "      <td>0.539472</td>\n",
       "      <td>0.460528</td>\n",
       "    </tr>\n",
       "    <tr>\n",
       "      <th>7</th>\n",
       "      <td>0.612760</td>\n",
       "      <td>0.387240</td>\n",
       "    </tr>\n",
       "    <tr>\n",
       "      <th>8</th>\n",
       "      <td>0.626374</td>\n",
       "      <td>0.373626</td>\n",
       "    </tr>\n",
       "    <tr>\n",
       "      <th>9</th>\n",
       "      <td>0.577733</td>\n",
       "      <td>0.422267</td>\n",
       "    </tr>\n",
       "    <tr>\n",
       "      <th>10</th>\n",
       "      <td>0.584546</td>\n",
       "      <td>0.415454</td>\n",
       "    </tr>\n",
       "    <tr>\n",
       "      <th>11</th>\n",
       "      <td>0.541211</td>\n",
       "      <td>0.458789</td>\n",
       "    </tr>\n",
       "    <tr>\n",
       "      <th>12</th>\n",
       "      <td>0.542079</td>\n",
       "      <td>0.457921</td>\n",
       "    </tr>\n",
       "    <tr>\n",
       "      <th>13</th>\n",
       "      <td>0.620301</td>\n",
       "      <td>0.379699</td>\n",
       "    </tr>\n",
       "    <tr>\n",
       "      <th>14</th>\n",
       "      <td>0.496860</td>\n",
       "      <td>0.503140</td>\n",
       "    </tr>\n",
       "    <tr>\n",
       "      <th>15</th>\n",
       "      <td>0.622709</td>\n",
       "      <td>0.377291</td>\n",
       "    </tr>\n",
       "    <tr>\n",
       "      <th>16</th>\n",
       "      <td>0.610346</td>\n",
       "      <td>0.389654</td>\n",
       "    </tr>\n",
       "    <tr>\n",
       "      <th>17</th>\n",
       "      <td>0.618899</td>\n",
       "      <td>0.381101</td>\n",
       "    </tr>\n",
       "    <tr>\n",
       "      <th>18</th>\n",
       "      <td>0.541832</td>\n",
       "      <td>0.458168</td>\n",
       "    </tr>\n",
       "    <tr>\n",
       "      <th>19</th>\n",
       "      <td>0.332895</td>\n",
       "      <td>0.667105</td>\n",
       "    </tr>\n",
       "  </tbody>\n",
       "</table>"
      ],
      "text/plain": [
       "<IPython.core.display.HTML object>"
      ]
     },
     "execution_count": 26,
     "metadata": {},
     "output_type": "execute_result"
    }
   ],
   "source": [
    "from pandas import DataFrame\n",
    "from IPython.display import HTML\n",
    "from random import sample\n",
    "sample_evasao_test = sample(list(evasao_test),20)\n",
    "pred_prob_NB = classifier_NB.predict_proba(sample_evasao_test)\n",
    "HTML('<h1>Naive Bayes predict_proba</h1>'+DataFrame(pred_prob_NB).to_html())"
   ]
  },
  {
   "cell_type": "code",
   "execution_count": 27,
   "metadata": {
    "colab": {
     "base_uri": "https://localhost:8080/",
     "height": 333
    },
    "executionInfo": {
     "elapsed": 35353,
     "status": "ok",
     "timestamp": 1624142581024,
     "user": {
      "displayName": "Marcos Pacheco Jr",
      "photoUrl": "",
      "userId": "13463696138139050654"
     },
     "user_tz": 180
    },
    "id": "AzDzsff5Qpfv",
    "outputId": "46b27462-0201-4dc6-ab52-0417db1f447c"
   },
   "outputs": [
    {
     "data": {
      "text/plain": [
       "Status_evadido\n",
       "0    AxesSubplot(0.125,0.125;0.775x0.755)\n",
       "1    AxesSubplot(0.125,0.125;0.775x0.755)\n",
       "Name: predict_proba_RF, dtype: object"
      ]
     },
     "execution_count": 27,
     "metadata": {},
     "output_type": "execute_result"
    },
    {
     "data": {
      "image/png": "[encoded data removed]",
      "text/plain": [
       "<Figure size 432x288 with 1 Axes>"
      ]
     },
     "metadata": {
      "needs_background": "light"
     },
     "output_type": "display_data"
    }
   ],
   "source": [
    "y_predict = classifier_RF.predict(evasao_features)\n",
    "evasao['y_pred'] = y_predict\n",
    "evasao['predict_proba_RF'] = classifier_RF.predict_proba(evasao_features)[:,1]\n",
    "evasao.groupby('Status_evadido')['predict_proba_RF'].hist()"
   ]
  },
  {
   "cell_type": "code",
   "execution_count": 28,
   "metadata": {
    "colab": {
     "base_uri": "https://localhost:8080/",
     "height": 333
    },
    "executionInfo": {
     "elapsed": 1505,
     "status": "ok",
     "timestamp": 1624142588733,
     "user": {
      "displayName": "Marcos Pacheco Jr",
      "photoUrl": "",
      "userId": "13463696138139050654"
     },
     "user_tz": 180
    },
    "id": "fLBeXPe9VGr1",
    "outputId": "9cea8607-e719-4c57-9c5e-52e61c98f678"
   },
   "outputs": [
    {
     "data": {
      "text/plain": [
       "Status_evadido\n",
       "0    AxesSubplot(0.125,0.125;0.775x0.755)\n",
       "1    AxesSubplot(0.125,0.125;0.775x0.755)\n",
       "Name: predict_proba_NB, dtype: object"
      ]
     },
     "execution_count": 28,
     "metadata": {},
     "output_type": "execute_result"
    },
    {
     "data": {
      "image/png": "[encoded data removed]",
      "text/plain": [
       "<Figure size 432x288 with 1 Axes>"
      ]
     },
     "metadata": {
      "needs_background": "light"
     },
     "output_type": "display_data"
    }
   ],
   "source": [
    "y_predict = classifier_NB.predict(evasao_features)\n",
    "evasao['y_pred'] = y_predict\n",
    "evasao['predict_proba_NB'] = classifier_NB.predict_proba(evasao_features)[:,1]\n",
    "evasao.groupby('Status_evadido')['predict_proba_NB'].hist()"
   ]
  },
  {
   "cell_type": "code",
   "execution_count": 29,
   "metadata": {
    "colab": {
     "base_uri": "https://localhost:8080/"
    },
    "executionInfo": {
     "elapsed": 231,
     "status": "ok",
     "timestamp": 1624142868661,
     "user": {
      "displayName": "Marcos Pacheco Jr",
      "photoUrl": "",
      "userId": "13463696138139050654"
     },
     "user_tz": 180
    },
    "id": "wn7Zyz2cWXn7",
    "outputId": "98a82a5c-c42e-4f66-f2f8-ceb8656ac93d"
   },
   "outputs": [
    {
     "data": {
      "text/plain": [
       "0.0    0.000000\n",
       "0.1    0.051693\n",
       "0.2    0.079976\n",
       "0.3    0.109811\n",
       "0.4    0.144348\n",
       "0.5    0.187533\n",
       "0.6    0.247254\n",
       "0.7    0.341961\n",
       "0.8    0.528112\n",
       "0.9    0.954742\n",
       "1.0    1.000000\n",
       "Name: predict_proba_RF, dtype: float64"
      ]
     },
     "execution_count": 29,
     "metadata": {},
     "output_type": "execute_result"
    }
   ],
   "source": [
    "q = evasao['predict_proba_RF'].quantile([0.00, 0.10, 0.20, 0.30, 0.40, 0.50, 0.60, 0.70, 0.80, 0.90, 1.00])\n",
    "q"
   ]
  },
  {
   "cell_type": "code",
   "execution_count": 30,
   "metadata": {
    "colab": {
     "base_uri": "https://localhost:8080/"
    },
    "executionInfo": {
     "elapsed": 235,
     "status": "ok",
     "timestamp": 1624143323325,
     "user": {
      "displayName": "Marcos Pacheco Jr",
      "photoUrl": "",
      "userId": "13463696138139050654"
     },
     "user_tz": 180
    },
    "id": "MK4gVgLAevXS",
    "outputId": "5f96dc7a-09e4-4e7e-fb71-44ed31e3de5d"
   },
   "outputs": [
    {
     "data": {
      "text/plain": [
       "0    0.820336\n",
       "1    0.179664\n",
       "Name: Status_evadido, dtype: float64"
      ]
     },
     "execution_count": 30,
     "metadata": {},
     "output_type": "execute_result"
    }
   ],
   "source": [
    "evasao['Status_evadido'].value_counts()/len(evasao)"
   ]
  },
  {
   "cell_type": "code",
   "execution_count": 31,
   "metadata": {
    "colab": {
     "base_uri": "https://localhost:8080/",
     "height": 173
    },
    "executionInfo": {
     "elapsed": 244,
     "status": "ok",
     "timestamp": 1624145446272,
     "user": {
      "displayName": "Marcos Pacheco Jr",
      "photoUrl": "",
      "userId": "13463696138139050654"
     },
     "user_tz": 180
    },
    "id": "7TEF3rU8a2BL",
    "outputId": "0da06fe4-d4af-4bc5-929f-f63597cd4352"
   },
   "outputs": [
    {
     "data": {
      "text/html": [
       "<div>\n",
       "<style scoped>\n",
       "    .dataframe tbody tr th:only-of-type {\n",
       "        vertical-align: middle;\n",
       "    }\n",
       "\n",
       "    .dataframe tbody tr th {\n",
       "        vertical-align: top;\n",
       "    }\n",
       "\n",
       "    .dataframe thead th {\n",
       "        text-align: right;\n",
       "    }\n",
       "</style>\n",
       "<table border=\"1\" class=\"dataframe\">\n",
       "  <thead>\n",
       "    <tr style=\"text-align: right;\">\n",
       "      <th></th>\n",
       "      <th>prob</th>\n",
       "    </tr>\n",
       "  </thead>\n",
       "  <tbody>\n",
       "    <tr>\n",
       "      <th>0.300</th>\n",
       "      <td>0.109811</td>\n",
       "    </tr>\n",
       "    <tr>\n",
       "      <th>0.600</th>\n",
       "      <td>0.247254</td>\n",
       "    </tr>\n",
       "    <tr>\n",
       "      <th>0.859</th>\n",
       "      <td>0.799303</td>\n",
       "    </tr>\n",
       "    <tr>\n",
       "      <th>1.000</th>\n",
       "      <td>1.000000</td>\n",
       "    </tr>\n",
       "  </tbody>\n",
       "</table>\n",
       "</div>"
      ],
      "text/plain": [
       "           prob\n",
       "0.300  0.109811\n",
       "0.600  0.247254\n",
       "0.859  0.799303\n",
       "1.000  1.000000"
      ]
     },
     "execution_count": 31,
     "metadata": {},
     "output_type": "execute_result"
    }
   ],
   "source": [
    "q = evasao['predict_proba_RF'].quantile([0.30, 0.60, 0.859, 1.00])\n",
    "q = pd.DataFrame(q)\n",
    "q.columns = ['prob']\n",
    "q"
   ]
  },
  {
   "cell_type": "code",
   "execution_count": 32,
   "metadata": {
    "colab": {
     "base_uri": "https://localhost:8080/",
     "height": 173
    },
    "executionInfo": {
     "elapsed": 326,
     "status": "ok",
     "timestamp": 1624145729695,
     "user": {
      "displayName": "Marcos Pacheco Jr",
      "photoUrl": "",
      "userId": "13463696138139050654"
     },
     "user_tz": 180
    },
    "id": "uLoaLmayf534",
    "outputId": "f6ea1353-560e-4520-dc9e-f1b981ad3514"
   },
   "outputs": [
    {
     "data": {
      "text/html": [
       "<div>\n",
       "<style scoped>\n",
       "    .dataframe tbody tr th:only-of-type {\n",
       "        vertical-align: middle;\n",
       "    }\n",
       "\n",
       "    .dataframe tbody tr th {\n",
       "        vertical-align: top;\n",
       "    }\n",
       "\n",
       "    .dataframe thead th {\n",
       "        text-align: right;\n",
       "    }\n",
       "</style>\n",
       "<table border=\"1\" class=\"dataframe\">\n",
       "  <thead>\n",
       "    <tr style=\"text-align: right;\">\n",
       "      <th></th>\n",
       "      <th>Risco de Evasao</th>\n",
       "      <th>Probab. de Evasão</th>\n",
       "      <th>% da população</th>\n",
       "    </tr>\n",
       "  </thead>\n",
       "  <tbody>\n",
       "    <tr>\n",
       "      <th>0</th>\n",
       "      <td>Baixo</td>\n",
       "      <td>Até 11%</td>\n",
       "      <td>30%</td>\n",
       "    </tr>\n",
       "    <tr>\n",
       "      <th>1</th>\n",
       "      <td>Médio-baixo</td>\n",
       "      <td>entre 11% e 24,5%</td>\n",
       "      <td>30%</td>\n",
       "    </tr>\n",
       "    <tr>\n",
       "      <th>2</th>\n",
       "      <td>Médio-alto</td>\n",
       "      <td>entre 24,5% e 80%</td>\n",
       "      <td>25,6%</td>\n",
       "    </tr>\n",
       "    <tr>\n",
       "      <th>3</th>\n",
       "      <td>Alto</td>\n",
       "      <td>entre 80% e 100%</td>\n",
       "      <td>14,4%</td>\n",
       "    </tr>\n",
       "  </tbody>\n",
       "</table>\n",
       "</div>"
      ],
      "text/plain": [
       "  Risco de Evasao  Probab. de Evasão % da população\n",
       "0           Baixo            Até 11%            30%\n",
       "1     Médio-baixo  entre 11% e 24,5%            30%\n",
       "2      Médio-alto  entre 24,5% e 80%          25,6%\n",
       "3            Alto   entre 80% e 100%          14,4%"
      ]
     },
     "execution_count": 32,
     "metadata": {},
     "output_type": "execute_result"
    }
   ],
   "source": [
    "analise_RF = {'Risco de Evasao':[\"Baixo\", \"Médio-baixo\", \"Médio-alto\", \"Alto\"], 'Probab. de Evasão': [\"Até 11%\", \"entre 11% e 24,5%\", \"entre 24,5% e 80%\", \"entre 80% e 100%\"], '% da população': [\"30%\", \"30%\", \"25,6%\", \"14,4%\"]}\n",
    "analise_RF = pd.DataFrame.from_dict(analise_RF, orient='columns')\n",
    "analise_RF\n"
   ]
  },
  {
   "cell_type": "code",
   "execution_count": 35,
   "metadata": {},
   "outputs": [
    {
     "name": "stdout",
     "output_type": "stream",
     "text": [
      "Feature: 0, Score: 0.18202\n",
      "Feature: 1, Score: 0.27912\n",
      "Feature: 2, Score: 0.00007\n",
      "Feature: 3, Score: 0.00020\n",
      "Feature: 4, Score: 0.00017\n",
      "Feature: 5, Score: 0.00014\n",
      "Feature: 6, Score: 0.00000\n",
      "Feature: 7, Score: 0.00030\n",
      "Feature: 8, Score: 0.00176\n",
      "Feature: 9, Score: 0.00012\n",
      "Feature: 10, Score: 0.00022\n",
      "Feature: 11, Score: 0.00008\n",
      "Feature: 12, Score: 0.00000\n",
      "Feature: 13, Score: 0.00033\n",
      "Feature: 14, Score: 0.00020\n",
      "Feature: 15, Score: 0.35366\n",
      "Feature: 16, Score: 0.06826\n",
      "Feature: 17, Score: 0.04722\n",
      "Feature: 18, Score: 0.00188\n",
      "Feature: 19, Score: 0.00333\n",
      "Feature: 20, Score: 0.00240\n",
      "Feature: 21, Score: 0.00030\n",
      "Feature: 22, Score: 0.00234\n",
      "Feature: 23, Score: 0.00157\n",
      "Feature: 24, Score: 0.00090\n",
      "Feature: 25, Score: 0.00209\n",
      "Feature: 26, Score: 0.00096\n",
      "Feature: 27, Score: 0.00092\n",
      "Feature: 28, Score: 0.00005\n",
      "Feature: 29, Score: 0.00027\n",
      "Feature: 30, Score: 0.00004\n",
      "Feature: 31, Score: 0.00000\n",
      "Feature: 32, Score: 0.00038\n",
      "Feature: 33, Score: 0.00003\n",
      "Feature: 34, Score: 0.00001\n",
      "Feature: 35, Score: 0.00043\n",
      "Feature: 36, Score: 0.00065\n",
      "Feature: 37, Score: 0.04022\n",
      "Feature: 38, Score: 0.00737\n"
     ]
    },
    {
     "data": {
      "image/png": "[encoded data removed]",
      "text/plain": [
       "<Figure size 432x288 with 1 Axes>"
      ]
     },
     "metadata": {
      "needs_background": "light"
     },
     "output_type": "display_data"
    }
   ],
   "source": [
    "# random forest for feature importance on a classification problem\n",
    "from sklearn.datasets import make_classification\n",
    "from sklearn.ensemble import RandomForestClassifier\n",
    "from matplotlib import pyplot\n",
    "# get importance\n",
    "importance = classifier_RF.feature_importances_\n",
    "# summarize feature importance\n",
    "for i,v in enumerate(importance):\n",
    "\tprint('Feature: %0d, Score: %.5f' % (i,v))\n",
    "# plot feature importance\n",
    "pyplot.bar([x for x in range(len(importance))], importance)\n",
    "pyplot.show()"
   ]
  },
  {
   "cell_type": "code",
   "execution_count": 46,
   "metadata": {},
   "outputs": [],
   "source": [
    "import numpy as np\n",
    "\n",
    "importances = classifier_RF.feature_importances_\n",
    "std = np.std([\n",
    "    tree.feature_importances_ for tree in classifier_RF.estimators_], axis=0)"
   ]
  },
  {
   "cell_type": "code",
   "execution_count": 54,
   "metadata": {},
   "outputs": [
    {
     "data": {
      "image/png": "[encoded data removed]",
      "text/plain": [
       "<Figure size 432x288 with 1 Axes>"
      ]
     },
     "metadata": {
      "needs_background": "light"
     },
     "output_type": "display_data"
    }
   ],
   "source": [
    "forest_importances = pd.Series(importances, index=evasao.drop(columns=['Status_evadido', 'y_pred', 'predict_proba_RF',\n",
    "                                                                       'predict_proba_NB']).columns.tolist())\n",
    "\n",
    "fig, ax = plt.subplots()\n",
    "forest_importances.plot.bar(yerr=std, ax=ax)\n",
    "ax.set_title(\"Feature importances using MDI\")\n",
    "ax.set_ylabel(\"Mean decrease in impurity\")\n",
    "fig.tight_layout()"
   ]
  },
  {
   "cell_type": "code",
   "execution_count": null,
   "metadata": {
    "id": "taZjrxiwybBS"
   },
   "outputs": [],
   "source": [
    "#curva roc, score probabilidade para todo o dataset classe.predict_proba, estudo de KomogorovSmirnoff (distâncias das classes negativas vs. classes positivas)\n",
    "#histogram das distribuições de cada classe/decis e criar uma label por decis, feature importance, otimizar modelo grid search\n",
    "#MLOPS - ML Operations (operacionalizar o modelo provido pelo cientista de dados)\n",
    "#DataOps - Entrega em estruturas"
   ]
  }
 ],
 "metadata": {
  "colab": {
   "collapsed_sections": [],
   "name": "OHE_2.ipynb",
   "provenance": []
  },
  "kernelspec": {
   "display_name": "Python 3",
   "language": "python",
   "name": "python3"
  },
  "language_info": {
   "codemirror_mode": {
    "name": "ipython",
    "version": 3
   },
   "file_extension": ".py",
   "mimetype": "text/x-python",
   "name": "python",
   "nbconvert_exporter": "python",
   "pygments_lexer": "ipython3",
   "version": "3.8.5"
  }
 },
 "nbformat": 4,
 "nbformat_minor": 5
}

{
 "cells": [
  {
   "cell_type": "code",
   "execution_count": 1,
   "id": "ff0bf6b4",
   "metadata": {
    "colab": {
     "base_uri": "https://localhost:8080/"
    },
    "executionInfo": {
     "elapsed": 233,
     "status": "ok",
     "timestamp": 1624142399031,
     "user": {
      "displayName": "Marcos Pacheco Jr",
      "photoUrl": "",
      "userId": "13463696138139050654"
     },
     "user_tz": 180
    },
    "id": "uxugo9qqybBE",
    "outputId": "7cc6f50b-2423-4f64-faf7-77f5b199e0dd"
   },
   "outputs": [],
   "source": [
    "import pandas as pd"
   ]
  },
  {
   "cell_type": "code",
   "execution_count": 2,
   "id": "9f54d3de",
   "metadata": {
    "id": "AIzm3Kn1yyRB"
   },
   "outputs": [],
   "source": [
    "m12 = pd.read_csv('evasão_12.csv')\n",
    "m13 = pd.read_csv('evasão_13.csv')\n",
    "m14 = pd.read_csv('evasão_14.csv')\n",
    "m15 = pd.read_csv('evasão_15.csv')\n",
    "m16 = pd.read_csv('evasão_16.csv')"
   ]
  },
  {
   "cell_type": "code",
   "execution_count": 4,
   "id": "c603956d",
   "metadata": {
    "id": "O0S8sObaybBH"
   },
   "outputs": [],
   "source": [
    "m12.drop(columns=['Unnamed: 0'], inplace=True)\n",
    "m13.drop(columns=['Unnamed: 0'], inplace=True)\n",
    "m14.drop(columns=['Unnamed: 0'], inplace=True)\n",
    "m15.drop(columns=['Unnamed: 0'], inplace=True)\n",
    "m16.drop(columns=['Unnamed: 0'], inplace=True)"
   ]
  },
  {
   "cell_type": "code",
   "execution_count": 5,
   "id": "ce3dd320",
   "metadata": {
    "executionInfo": {
     "elapsed": 254,
     "status": "ok",
     "timestamp": 1624142419413,
     "user": {
      "displayName": "Marcos Pacheco Jr",
      "photoUrl": "",
      "userId": "13463696138139050654"
     },
     "user_tz": 180
    },
    "id": "RjrygYzdybBI"
   },
   "outputs": [],
   "source": [
    "m12['Ano']=2012\n",
    "m13['Ano']=2013\n",
    "m14['Ano']=2014\n",
    "m15['Ano']=2015\n",
    "m16['Ano']=2016"
   ]
  },
  {
   "cell_type": "code",
   "execution_count": 35,
   "id": "e50bb806",
   "metadata": {
    "executionInfo": {
     "elapsed": 591,
     "status": "ok",
     "timestamp": 1624142422081,
     "user": {
      "displayName": "Marcos Pacheco Jr",
      "photoUrl": "",
      "userId": "13463696138139050654"
     },
     "user_tz": 180
    },
    "id": "7Q1pIRPgybBI"
   },
   "outputs": [],
   "source": [
    "evasao = pd.concat([m12, m13, m14, m15, m16])"
   ]
  },
  {
   "cell_type": "code",
   "execution_count": 36,
   "id": "9daf4def",
   "metadata": {
    "colab": {
     "base_uri": "https://localhost:8080/"
    },
    "executionInfo": {
     "elapsed": 227,
     "status": "ok",
     "timestamp": 1624142423775,
     "user": {
      "displayName": "Marcos Pacheco Jr",
      "photoUrl": "",
      "userId": "13463696138139050654"
     },
     "user_tz": 180
    },
    "id": "dmkegwLaybBJ",
    "outputId": "b623e5dd-ae30-448d-dae1-1f26a483f32b"
   },
   "outputs": [
    {
     "data": {
      "text/plain": [
       "['ID',\n",
       " 'Idade',\n",
       " 'Necessidade_especial',\n",
       " 'Cegueira',\n",
       " 'Baixa_visao',\n",
       " 'Surdez',\n",
       " 'Def_auditiva',\n",
       " 'Surdocegueira',\n",
       " 'Def_fisica',\n",
       " 'Def_intelectual',\n",
       " 'Def_multipla',\n",
       " 'Autismo',\n",
       " 'Asperger',\n",
       " 'Rett',\n",
       " 'Transtorno_DI',\n",
       " 'Superdotacao',\n",
       " 'Etapa_ensino',\n",
       " 'ID_escola',\n",
       " 'Status',\n",
       " 'Etnia_Branca',\n",
       " 'Etnia_Indígena',\n",
       " 'Etnia_Não Declarada',\n",
       " 'Etnia_Parda',\n",
       " 'Etnia_Preta',\n",
       " 'Nacionalidade_Brasileiro',\n",
       " 'Nacionalidade_Extrangeiro',\n",
       " 'Nacionalidade_Naturalizado',\n",
       " 'Zona_res_Urbana',\n",
       " 'Outro_local_aula_Hospital',\n",
       " 'Outro_local_aula_Não recebe',\n",
       " 'Unificada_Multi',\n",
       " 'Unificada_Não',\n",
       " 'Tipo_turma_Classe Hospitalar',\n",
       " 'Tipo_turma_Não se aplica',\n",
       " 'Tipo_turma_Unidade prisional',\n",
       " 'Localizacao_Rural',\n",
       " 'Localizacao_Urbana',\n",
       " 'Administracao_Federal',\n",
       " 'Administracao_Municipal',\n",
       " 'Administracao_Privada',\n",
       " 'Ano',\n",
       " 'Sexo_M',\n",
       " 'Unificada_Multietapa']"
      ]
     },
     "execution_count": 36,
     "metadata": {},
     "output_type": "execute_result"
    }
   ],
   "source": [
    "evasao.columns.tolist()"
   ]
  },
  {
   "cell_type": "code",
   "execution_count": 37,
   "id": "cf50dfaa",
   "metadata": {},
   "outputs": [],
   "source": [
    "evasao = pd.get_dummies(evasao, columns=['Status'])"
   ]
  },
  {
   "cell_type": "code",
   "execution_count": 38,
   "id": "4e911358",
   "metadata": {
    "executionInfo": {
     "elapsed": 1563,
     "status": "ok",
     "timestamp": 1624142432415,
     "user": {
      "displayName": "Marcos Pacheco Jr",
      "photoUrl": "",
      "userId": "13463696138139050654"
     },
     "user_tz": 180
    },
    "id": "-zcWDDPqybBM"
   },
   "outputs": [],
   "source": [
    "evasao.drop(columns=['Status_aprovado', 'Status_repetente', 'ID', 'Ano', 'ID_escola'], inplace=True)"
   ]
  },
  {
   "cell_type": "code",
   "execution_count": 39,
   "id": "f9255511",
   "metadata": {
    "executionInfo": {
     "elapsed": 13746,
     "status": "ok",
     "timestamp": 1624142453218,
     "user": {
      "displayName": "Marcos Pacheco Jr",
      "photoUrl": "",
      "userId": "13463696138139050654"
     },
     "user_tz": 180
    },
    "id": "sHqqA31zybBO"
   },
   "outputs": [],
   "source": [
    "evasao.to_csv('evasao2.csv')"
   ]
  },
  {
   "cell_type": "code",
   "execution_count": 40,
   "id": "493320da",
   "metadata": {
    "executionInfo": {
     "elapsed": 592,
     "status": "ok",
     "timestamp": 1624142459335,
     "user": {
      "displayName": "Marcos Pacheco Jr",
      "photoUrl": "",
      "userId": "13463696138139050654"
     },
     "user_tz": 180
    },
    "id": "1y6nbiKFybBO"
   },
   "outputs": [],
   "source": [
    "evasao = evasao.fillna(0)\n",
    "evasao_features = evasao.drop(columns=['Status_evadido']).values\n",
    "evasao_target = evasao['Status_evadido'].values"
   ]
  },
  {
   "cell_type": "code",
   "execution_count": 41,
   "id": "c6f88903",
   "metadata": {
    "colab": {
     "base_uri": "https://localhost:8080/"
    },
    "executionInfo": {
     "elapsed": 255,
     "status": "ok",
     "timestamp": 1624142461706,
     "user": {
      "displayName": "Marcos Pacheco Jr",
      "photoUrl": "",
      "userId": "13463696138139050654"
     },
     "user_tz": 180
    },
    "id": "yJjyh59wybBP",
    "outputId": "42704bc7-119c-49ef-dc41-cb0277518a05"
   },
   "outputs": [
    {
     "data": {
      "text/plain": [
       "0    0.918226\n",
       "1    0.081774\n",
       "Name: Status_evadido, dtype: float64"
      ]
     },
     "execution_count": 41,
     "metadata": {},
     "output_type": "execute_result"
    }
   ],
   "source": [
    "evasao['Status_evadido'].value_counts()/len(evasao)"
   ]
  },
  {
   "cell_type": "code",
   "execution_count": 42,
   "id": "c5374ad4",
   "metadata": {
    "executionInfo": {
     "elapsed": 293,
     "status": "ok",
     "timestamp": 1624142463845,
     "user": {
      "displayName": "Marcos Pacheco Jr",
      "photoUrl": "",
      "userId": "13463696138139050654"
     },
     "user_tz": 180
    },
    "id": "_ae7yiLxybBP"
   },
   "outputs": [],
   "source": [
    "#Undersampling\n",
    "y1 = evasao[evasao['Status_evadido']==1]\n",
    "y0 = evasao[evasao['Status_evadido']==0]"
   ]
  },
  {
   "cell_type": "code",
   "execution_count": 43,
   "id": "b5c5e82d",
   "metadata": {
    "executionInfo": {
     "elapsed": 230,
     "status": "ok",
     "timestamp": 1624142464974,
     "user": {
      "displayName": "Marcos Pacheco Jr",
      "photoUrl": "",
      "userId": "13463696138139050654"
     },
     "user_tz": 180
    },
    "id": "DuHQMOouybBP"
   },
   "outputs": [],
   "source": [
    "y0_novo = y0.sample(n=len(y1))"
   ]
  },
  {
   "cell_type": "code",
   "execution_count": 44,
   "id": "d1dead58",
   "metadata": {
    "colab": {
     "base_uri": "https://localhost:8080/"
    },
    "executionInfo": {
     "elapsed": 388,
     "status": "ok",
     "timestamp": 1624142466118,
     "user": {
      "displayName": "Marcos Pacheco Jr",
      "photoUrl": "",
      "userId": "13463696138139050654"
     },
     "user_tz": 180
    },
    "id": "UOB5A5UjybBP",
    "outputId": "fa631599-3193-4b6d-c28c-c77a200916f3"
   },
   "outputs": [
    {
     "data": {
      "text/plain": [
       "array([1, 0], dtype=uint8)"
      ]
     },
     "execution_count": 44,
     "metadata": {},
     "output_type": "execute_result"
    }
   ],
   "source": [
    "y_novo = pd.concat([y1, y0_novo])\n",
    "y_novo['Status_evadido'].unique()"
   ]
  },
  {
   "cell_type": "code",
   "execution_count": 45,
   "id": "6efa1337",
   "metadata": {
    "colab": {
     "base_uri": "https://localhost:8080/"
    },
    "executionInfo": {
     "elapsed": 226,
     "status": "ok",
     "timestamp": 1624142467508,
     "user": {
      "displayName": "Marcos Pacheco Jr",
      "photoUrl": "",
      "userId": "13463696138139050654"
     },
     "user_tz": 180
    },
    "id": "aSzPG3wYybBQ",
    "outputId": "203753b0-4704-4d73-c061-33f1f4587634"
   },
   "outputs": [
    {
     "name": "stdout",
     "output_type": "stream",
     "text": [
      "(135698, 39) (135698,)\n"
     ]
    }
   ],
   "source": [
    "x_novo = y_novo.drop(columns=['Status_evadido']).values\n",
    "y_novo = y_novo['Status_evadido'].values\n",
    "print(x_novo.shape, y_novo.shape)\n"
   ]
  },
  {
   "cell_type": "code",
   "execution_count": 46,
   "id": "519e6ea6",
   "metadata": {
    "executionInfo": {
     "elapsed": 387,
     "status": "ok",
     "timestamp": 1624142468911,
     "user": {
      "displayName": "Marcos Pacheco Jr",
      "photoUrl": "",
      "userId": "13463696138139050654"
     },
     "user_tz": 180
    },
    "id": "SQILJxQBybBQ"
   },
   "outputs": [],
   "source": [
    "from sklearn.model_selection import train_test_split\n",
    "evasao_train, evasao_test, status_evadido_train, status_evadido_test = train_test_split(x_novo, y_novo, test_size = 0.2, random_state = 0)"
   ]
  },
  {
   "cell_type": "code",
   "execution_count": 20,
   "id": "7512c645",
   "metadata": {
    "colab": {
     "base_uri": "https://localhost:8080/"
    },
    "executionInfo": {
     "elapsed": 837053,
     "status": "ok",
     "timestamp": 1624134021742,
     "user": {
      "displayName": "Marcos Pacheco Jr",
      "photoUrl": "",
      "userId": "13463696138139050654"
     },
     "user_tz": 180
    },
    "id": "380Na0RiybBR",
    "outputId": "87836a11-f8fc-48af-cee6-0b565713c65a"
   },
   "outputs": [
    {
     "name": "stdout",
     "output_type": "stream",
     "text": [
      "0 0 0\n",
      "n_estimators =  10 , criterion =  entropy , min_samples_split =  2\n",
      "Acuracia:  0.7173544583640383\n",
      "Confusion Matrix: \n",
      "[[10325  3190]\n",
      " [ 4481  9144]]\n",
      "\n",
      "0 0 1\n",
      "n_estimators =  10 , criterion =  gini , min_samples_split =  2\n",
      "Acuracia:  0.7150700073691968\n",
      "Confusion Matrix: \n",
      "[[10254  3261]\n",
      " [ 4472  9153]]\n",
      "\n",
      "0 1 0\n",
      "n_estimators =  20 , criterion =  entropy , min_samples_split =  2\n",
      "Acuracia:  0.7225865880619012\n",
      "Confusion Matrix: \n",
      "[[10217  3298]\n",
      " [ 4231  9394]]\n",
      "\n",
      "0 1 1\n",
      "n_estimators =  20 , criterion =  gini , min_samples_split =  2\n",
      "Acuracia:  0.7192704495210022\n",
      "Confusion Matrix: \n",
      "[[10149  3366]\n",
      " [ 4253  9372]]\n",
      "\n",
      "0 2 0\n",
      "n_estimators =  50 , criterion =  entropy , min_samples_split =  2\n",
      "Acuracia:  0.7245762711864406\n",
      "Confusion Matrix: \n",
      "[[10131  3384]\n",
      " [ 4091  9534]]\n",
      "\n",
      "0 2 1\n",
      "n_estimators =  50 , criterion =  gini , min_samples_split =  2\n",
      "Acuracia:  0.7227708179808401\n",
      "Confusion Matrix: \n",
      "[[10090  3425]\n",
      " [ 4099  9526]]\n",
      "\n",
      "0 3 0\n",
      "n_estimators =  100 , criterion =  entropy , min_samples_split =  2\n",
      "Acuracia:  0.7256079587324982\n",
      "Confusion Matrix: \n",
      "[[10128  3387]\n",
      " [ 4060  9565]]\n",
      "\n",
      "0 3 1\n",
      "n_estimators =  100 , criterion =  gini , min_samples_split =  2\n",
      "Acuracia:  0.7240235814296242\n",
      "Confusion Matrix: \n",
      "[[10085  3430]\n",
      " [ 4060  9565]]\n",
      "\n",
      "1 0 0\n",
      "n_estimators =  10 , criterion =  entropy , min_samples_split =  10\n",
      "Acuracia:  0.733382461311717\n",
      "Confusion Matrix: \n",
      "[[10252  3263]\n",
      " [ 3973  9652]]\n",
      "\n",
      "1 0 1\n",
      "n_estimators =  10 , criterion =  gini , min_samples_split =  10\n",
      "Acuracia:  0.7347089167280766\n",
      "Confusion Matrix: \n",
      "[[10252  3263]\n",
      " [ 3937  9688]]\n",
      "\n",
      "1 1 0\n",
      "n_estimators =  20 , criterion =  entropy , min_samples_split =  10\n",
      "Acuracia:  0.7389830508474576\n",
      "Confusion Matrix: \n",
      "[[10346  3169]\n",
      " [ 3915  9710]]\n",
      "\n",
      "1 1 1\n",
      "n_estimators =  20 , criterion =  gini , min_samples_split =  10\n"
     ]
    },
    {
     "ename": "KeyboardInterrupt",
     "evalue": "",
     "output_type": "error",
     "traceback": [
      "\u001b[1;31m---------------------------------------------------------------------------\u001b[0m",
      "\u001b[1;31mKeyboardInterrupt\u001b[0m                         Traceback (most recent call last)",
      "\u001b[1;32m<ipython-input-20-0662ff643074>\u001b[0m in \u001b[0;36m<module>\u001b[1;34m\u001b[0m\n\u001b[0;32m     11\u001b[0m       \u001b[0mprint\u001b[0m\u001b[1;33m(\u001b[0m\u001b[1;34m\"n_estimators = \"\u001b[0m\u001b[1;33m,\u001b[0m  \u001b[0mn_est\u001b[0m\u001b[1;33m[\u001b[0m\u001b[0mn\u001b[0m\u001b[1;33m]\u001b[0m\u001b[1;33m,\u001b[0m \u001b[1;34m\", criterion = \"\u001b[0m\u001b[1;33m,\u001b[0m \u001b[0mcrit\u001b[0m\u001b[1;33m[\u001b[0m\u001b[0mc\u001b[0m\u001b[1;33m]\u001b[0m\u001b[1;33m,\u001b[0m \u001b[1;34m\", min_samples_split = \"\u001b[0m\u001b[1;33m,\u001b[0m \u001b[0mmin_samples\u001b[0m\u001b[1;33m[\u001b[0m\u001b[0ms\u001b[0m\u001b[1;33m]\u001b[0m\u001b[1;33m)\u001b[0m\u001b[1;33m\u001b[0m\u001b[1;33m\u001b[0m\u001b[0m\n\u001b[0;32m     12\u001b[0m       \u001b[0mclassifier_RF\u001b[0m \u001b[1;33m=\u001b[0m \u001b[0mRandomForestClassifier\u001b[0m\u001b[1;33m(\u001b[0m\u001b[0mn_estimators\u001b[0m \u001b[1;33m=\u001b[0m \u001b[0mn_est\u001b[0m\u001b[1;33m[\u001b[0m\u001b[0mn\u001b[0m\u001b[1;33m]\u001b[0m\u001b[1;33m,\u001b[0m \u001b[0mcriterion\u001b[0m \u001b[1;33m=\u001b[0m \u001b[0mcrit\u001b[0m\u001b[1;33m[\u001b[0m\u001b[0mc\u001b[0m\u001b[1;33m]\u001b[0m\u001b[1;33m,\u001b[0m \u001b[0mmin_samples_split\u001b[0m \u001b[1;33m=\u001b[0m \u001b[0mmin_samples\u001b[0m\u001b[1;33m[\u001b[0m\u001b[0ms\u001b[0m\u001b[1;33m]\u001b[0m\u001b[1;33m,\u001b[0m \u001b[0mrandom_state\u001b[0m \u001b[1;33m=\u001b[0m \u001b[1;36m0\u001b[0m\u001b[1;33m)\u001b[0m\u001b[1;33m\u001b[0m\u001b[1;33m\u001b[0m\u001b[0m\n\u001b[1;32m---> 13\u001b[1;33m       \u001b[0mclassifier_RF\u001b[0m\u001b[1;33m.\u001b[0m\u001b[0mfit\u001b[0m\u001b[1;33m(\u001b[0m\u001b[0mevasao_train\u001b[0m\u001b[1;33m,\u001b[0m \u001b[0mstatus_evadido_train\u001b[0m\u001b[1;33m)\u001b[0m\u001b[1;33m\u001b[0m\u001b[1;33m\u001b[0m\u001b[0m\n\u001b[0m\u001b[0;32m     14\u001b[0m       \u001b[0mstatus_evadido_pred_RF\u001b[0m \u001b[1;33m=\u001b[0m \u001b[0mclassifier_RF\u001b[0m\u001b[1;33m.\u001b[0m\u001b[0mpredict\u001b[0m\u001b[1;33m(\u001b[0m\u001b[0mevasao_test\u001b[0m\u001b[1;33m)\u001b[0m\u001b[1;33m\u001b[0m\u001b[1;33m\u001b[0m\u001b[0m\n\u001b[0;32m     15\u001b[0m       \u001b[0macuracia_RF\u001b[0m \u001b[1;33m=\u001b[0m \u001b[0maccuracy_score\u001b[0m\u001b[1;33m(\u001b[0m\u001b[0mstatus_evadido_test\u001b[0m\u001b[1;33m,\u001b[0m \u001b[0mstatus_evadido_pred_RF\u001b[0m\u001b[1;33m)\u001b[0m\u001b[1;33m\u001b[0m\u001b[1;33m\u001b[0m\u001b[0m\n",
      "\u001b[1;32m~\\anaconda3\\lib\\site-packages\\sklearn\\ensemble\\_forest.py\u001b[0m in \u001b[0;36mfit\u001b[1;34m(self, X, y, sample_weight)\u001b[0m\n\u001b[0;32m    384\u001b[0m             \u001b[1;31m# parallel_backend contexts set at a higher level,\u001b[0m\u001b[1;33m\u001b[0m\u001b[1;33m\u001b[0m\u001b[1;33m\u001b[0m\u001b[0m\n\u001b[0;32m    385\u001b[0m             \u001b[1;31m# since correctness does not rely on using threads.\u001b[0m\u001b[1;33m\u001b[0m\u001b[1;33m\u001b[0m\u001b[1;33m\u001b[0m\u001b[0m\n\u001b[1;32m--> 386\u001b[1;33m             trees = Parallel(n_jobs=self.n_jobs, verbose=self.verbose,\n\u001b[0m\u001b[0;32m    387\u001b[0m                              \u001b[1;33m**\u001b[0m\u001b[0m_joblib_parallel_args\u001b[0m\u001b[1;33m(\u001b[0m\u001b[0mprefer\u001b[0m\u001b[1;33m=\u001b[0m\u001b[1;34m'threads'\u001b[0m\u001b[1;33m)\u001b[0m\u001b[1;33m)\u001b[0m\u001b[1;33m(\u001b[0m\u001b[1;33m\u001b[0m\u001b[1;33m\u001b[0m\u001b[0m\n\u001b[0;32m    388\u001b[0m                 delayed(_parallel_build_trees)(\n",
      "\u001b[1;32m~\\anaconda3\\lib\\site-packages\\joblib\\parallel.py\u001b[0m in \u001b[0;36m__call__\u001b[1;34m(self, iterable)\u001b[0m\n\u001b[0;32m   1049\u001b[0m                 \u001b[0mself\u001b[0m\u001b[1;33m.\u001b[0m\u001b[0m_iterating\u001b[0m \u001b[1;33m=\u001b[0m \u001b[0mself\u001b[0m\u001b[1;33m.\u001b[0m\u001b[0m_original_iterator\u001b[0m \u001b[1;32mis\u001b[0m \u001b[1;32mnot\u001b[0m \u001b[1;32mNone\u001b[0m\u001b[1;33m\u001b[0m\u001b[1;33m\u001b[0m\u001b[0m\n\u001b[0;32m   1050\u001b[0m \u001b[1;33m\u001b[0m\u001b[0m\n\u001b[1;32m-> 1051\u001b[1;33m             \u001b[1;32mwhile\u001b[0m \u001b[0mself\u001b[0m\u001b[1;33m.\u001b[0m\u001b[0mdispatch_one_batch\u001b[0m\u001b[1;33m(\u001b[0m\u001b[0miterator\u001b[0m\u001b[1;33m)\u001b[0m\u001b[1;33m:\u001b[0m\u001b[1;33m\u001b[0m\u001b[1;33m\u001b[0m\u001b[0m\n\u001b[0m\u001b[0;32m   1052\u001b[0m                 \u001b[1;32mpass\u001b[0m\u001b[1;33m\u001b[0m\u001b[1;33m\u001b[0m\u001b[0m\n\u001b[0;32m   1053\u001b[0m \u001b[1;33m\u001b[0m\u001b[0m\n",
      "\u001b[1;32m~\\anaconda3\\lib\\site-packages\\joblib\\parallel.py\u001b[0m in \u001b[0;36mdispatch_one_batch\u001b[1;34m(self, iterator)\u001b[0m\n\u001b[0;32m    864\u001b[0m                 \u001b[1;32mreturn\u001b[0m \u001b[1;32mFalse\u001b[0m\u001b[1;33m\u001b[0m\u001b[1;33m\u001b[0m\u001b[0m\n\u001b[0;32m    865\u001b[0m             \u001b[1;32melse\u001b[0m\u001b[1;33m:\u001b[0m\u001b[1;33m\u001b[0m\u001b[1;33m\u001b[0m\u001b[0m\n\u001b[1;32m--> 866\u001b[1;33m                 \u001b[0mself\u001b[0m\u001b[1;33m.\u001b[0m\u001b[0m_dispatch\u001b[0m\u001b[1;33m(\u001b[0m\u001b[0mtasks\u001b[0m\u001b[1;33m)\u001b[0m\u001b[1;33m\u001b[0m\u001b[1;33m\u001b[0m\u001b[0m\n\u001b[0m\u001b[0;32m    867\u001b[0m                 \u001b[1;32mreturn\u001b[0m \u001b[1;32mTrue\u001b[0m\u001b[1;33m\u001b[0m\u001b[1;33m\u001b[0m\u001b[0m\n\u001b[0;32m    868\u001b[0m \u001b[1;33m\u001b[0m\u001b[0m\n",
      "\u001b[1;32m~\\anaconda3\\lib\\site-packages\\joblib\\parallel.py\u001b[0m in \u001b[0;36m_dispatch\u001b[1;34m(self, batch)\u001b[0m\n\u001b[0;32m    782\u001b[0m         \u001b[1;32mwith\u001b[0m \u001b[0mself\u001b[0m\u001b[1;33m.\u001b[0m\u001b[0m_lock\u001b[0m\u001b[1;33m:\u001b[0m\u001b[1;33m\u001b[0m\u001b[1;33m\u001b[0m\u001b[0m\n\u001b[0;32m    783\u001b[0m             \u001b[0mjob_idx\u001b[0m \u001b[1;33m=\u001b[0m \u001b[0mlen\u001b[0m\u001b[1;33m(\u001b[0m\u001b[0mself\u001b[0m\u001b[1;33m.\u001b[0m\u001b[0m_jobs\u001b[0m\u001b[1;33m)\u001b[0m\u001b[1;33m\u001b[0m\u001b[1;33m\u001b[0m\u001b[0m\n\u001b[1;32m--> 784\u001b[1;33m             \u001b[0mjob\u001b[0m \u001b[1;33m=\u001b[0m \u001b[0mself\u001b[0m\u001b[1;33m.\u001b[0m\u001b[0m_backend\u001b[0m\u001b[1;33m.\u001b[0m\u001b[0mapply_async\u001b[0m\u001b[1;33m(\u001b[0m\u001b[0mbatch\u001b[0m\u001b[1;33m,\u001b[0m \u001b[0mcallback\u001b[0m\u001b[1;33m=\u001b[0m\u001b[0mcb\u001b[0m\u001b[1;33m)\u001b[0m\u001b[1;33m\u001b[0m\u001b[1;33m\u001b[0m\u001b[0m\n\u001b[0m\u001b[0;32m    785\u001b[0m             \u001b[1;31m# A job can complete so quickly than its callback is\u001b[0m\u001b[1;33m\u001b[0m\u001b[1;33m\u001b[0m\u001b[1;33m\u001b[0m\u001b[0m\n\u001b[0;32m    786\u001b[0m             \u001b[1;31m# called before we get here, causing self._jobs to\u001b[0m\u001b[1;33m\u001b[0m\u001b[1;33m\u001b[0m\u001b[1;33m\u001b[0m\u001b[0m\n",
      "\u001b[1;32m~\\anaconda3\\lib\\site-packages\\joblib\\_parallel_backends.py\u001b[0m in \u001b[0;36mapply_async\u001b[1;34m(self, func, callback)\u001b[0m\n\u001b[0;32m    206\u001b[0m     \u001b[1;32mdef\u001b[0m \u001b[0mapply_async\u001b[0m\u001b[1;33m(\u001b[0m\u001b[0mself\u001b[0m\u001b[1;33m,\u001b[0m \u001b[0mfunc\u001b[0m\u001b[1;33m,\u001b[0m \u001b[0mcallback\u001b[0m\u001b[1;33m=\u001b[0m\u001b[1;32mNone\u001b[0m\u001b[1;33m)\u001b[0m\u001b[1;33m:\u001b[0m\u001b[1;33m\u001b[0m\u001b[1;33m\u001b[0m\u001b[0m\n\u001b[0;32m    207\u001b[0m         \u001b[1;34m\"\"\"Schedule a func to be run\"\"\"\u001b[0m\u001b[1;33m\u001b[0m\u001b[1;33m\u001b[0m\u001b[0m\n\u001b[1;32m--> 208\u001b[1;33m         \u001b[0mresult\u001b[0m \u001b[1;33m=\u001b[0m \u001b[0mImmediateResult\u001b[0m\u001b[1;33m(\u001b[0m\u001b[0mfunc\u001b[0m\u001b[1;33m)\u001b[0m\u001b[1;33m\u001b[0m\u001b[1;33m\u001b[0m\u001b[0m\n\u001b[0m\u001b[0;32m    209\u001b[0m         \u001b[1;32mif\u001b[0m \u001b[0mcallback\u001b[0m\u001b[1;33m:\u001b[0m\u001b[1;33m\u001b[0m\u001b[1;33m\u001b[0m\u001b[0m\n\u001b[0;32m    210\u001b[0m             \u001b[0mcallback\u001b[0m\u001b[1;33m(\u001b[0m\u001b[0mresult\u001b[0m\u001b[1;33m)\u001b[0m\u001b[1;33m\u001b[0m\u001b[1;33m\u001b[0m\u001b[0m\n",
      "\u001b[1;32m~\\anaconda3\\lib\\site-packages\\joblib\\_parallel_backends.py\u001b[0m in \u001b[0;36m__init__\u001b[1;34m(self, batch)\u001b[0m\n\u001b[0;32m    570\u001b[0m         \u001b[1;31m# Don't delay the application, to avoid keeping the input\u001b[0m\u001b[1;33m\u001b[0m\u001b[1;33m\u001b[0m\u001b[1;33m\u001b[0m\u001b[0m\n\u001b[0;32m    571\u001b[0m         \u001b[1;31m# arguments in memory\u001b[0m\u001b[1;33m\u001b[0m\u001b[1;33m\u001b[0m\u001b[1;33m\u001b[0m\u001b[0m\n\u001b[1;32m--> 572\u001b[1;33m         \u001b[0mself\u001b[0m\u001b[1;33m.\u001b[0m\u001b[0mresults\u001b[0m \u001b[1;33m=\u001b[0m \u001b[0mbatch\u001b[0m\u001b[1;33m(\u001b[0m\u001b[1;33m)\u001b[0m\u001b[1;33m\u001b[0m\u001b[1;33m\u001b[0m\u001b[0m\n\u001b[0m\u001b[0;32m    573\u001b[0m \u001b[1;33m\u001b[0m\u001b[0m\n\u001b[0;32m    574\u001b[0m     \u001b[1;32mdef\u001b[0m \u001b[0mget\u001b[0m\u001b[1;33m(\u001b[0m\u001b[0mself\u001b[0m\u001b[1;33m)\u001b[0m\u001b[1;33m:\u001b[0m\u001b[1;33m\u001b[0m\u001b[1;33m\u001b[0m\u001b[0m\n",
      "\u001b[1;32m~\\anaconda3\\lib\\site-packages\\joblib\\parallel.py\u001b[0m in \u001b[0;36m__call__\u001b[1;34m(self)\u001b[0m\n\u001b[0;32m    260\u001b[0m         \u001b[1;31m# change the default number of processes to -1\u001b[0m\u001b[1;33m\u001b[0m\u001b[1;33m\u001b[0m\u001b[1;33m\u001b[0m\u001b[0m\n\u001b[0;32m    261\u001b[0m         \u001b[1;32mwith\u001b[0m \u001b[0mparallel_backend\u001b[0m\u001b[1;33m(\u001b[0m\u001b[0mself\u001b[0m\u001b[1;33m.\u001b[0m\u001b[0m_backend\u001b[0m\u001b[1;33m,\u001b[0m \u001b[0mn_jobs\u001b[0m\u001b[1;33m=\u001b[0m\u001b[0mself\u001b[0m\u001b[1;33m.\u001b[0m\u001b[0m_n_jobs\u001b[0m\u001b[1;33m)\u001b[0m\u001b[1;33m:\u001b[0m\u001b[1;33m\u001b[0m\u001b[1;33m\u001b[0m\u001b[0m\n\u001b[1;32m--> 262\u001b[1;33m             return [func(*args, **kwargs)\n\u001b[0m\u001b[0;32m    263\u001b[0m                     for func, args, kwargs in self.items]\n\u001b[0;32m    264\u001b[0m \u001b[1;33m\u001b[0m\u001b[0m\n",
      "\u001b[1;32m~\\anaconda3\\lib\\site-packages\\joblib\\parallel.py\u001b[0m in \u001b[0;36m<listcomp>\u001b[1;34m(.0)\u001b[0m\n\u001b[0;32m    260\u001b[0m         \u001b[1;31m# change the default number of processes to -1\u001b[0m\u001b[1;33m\u001b[0m\u001b[1;33m\u001b[0m\u001b[1;33m\u001b[0m\u001b[0m\n\u001b[0;32m    261\u001b[0m         \u001b[1;32mwith\u001b[0m \u001b[0mparallel_backend\u001b[0m\u001b[1;33m(\u001b[0m\u001b[0mself\u001b[0m\u001b[1;33m.\u001b[0m\u001b[0m_backend\u001b[0m\u001b[1;33m,\u001b[0m \u001b[0mn_jobs\u001b[0m\u001b[1;33m=\u001b[0m\u001b[0mself\u001b[0m\u001b[1;33m.\u001b[0m\u001b[0m_n_jobs\u001b[0m\u001b[1;33m)\u001b[0m\u001b[1;33m:\u001b[0m\u001b[1;33m\u001b[0m\u001b[1;33m\u001b[0m\u001b[0m\n\u001b[1;32m--> 262\u001b[1;33m             return [func(*args, **kwargs)\n\u001b[0m\u001b[0;32m    263\u001b[0m                     for func, args, kwargs in self.items]\n\u001b[0;32m    264\u001b[0m \u001b[1;33m\u001b[0m\u001b[0m\n",
      "\u001b[1;32m~\\anaconda3\\lib\\site-packages\\sklearn\\ensemble\\_forest.py\u001b[0m in \u001b[0;36m_parallel_build_trees\u001b[1;34m(tree, forest, X, y, sample_weight, tree_idx, n_trees, verbose, class_weight, n_samples_bootstrap)\u001b[0m\n\u001b[0;32m    166\u001b[0m                                                         indices=indices)\n\u001b[0;32m    167\u001b[0m \u001b[1;33m\u001b[0m\u001b[0m\n\u001b[1;32m--> 168\u001b[1;33m         \u001b[0mtree\u001b[0m\u001b[1;33m.\u001b[0m\u001b[0mfit\u001b[0m\u001b[1;33m(\u001b[0m\u001b[0mX\u001b[0m\u001b[1;33m,\u001b[0m \u001b[0my\u001b[0m\u001b[1;33m,\u001b[0m \u001b[0msample_weight\u001b[0m\u001b[1;33m=\u001b[0m\u001b[0mcurr_sample_weight\u001b[0m\u001b[1;33m,\u001b[0m \u001b[0mcheck_input\u001b[0m\u001b[1;33m=\u001b[0m\u001b[1;32mFalse\u001b[0m\u001b[1;33m)\u001b[0m\u001b[1;33m\u001b[0m\u001b[1;33m\u001b[0m\u001b[0m\n\u001b[0m\u001b[0;32m    169\u001b[0m     \u001b[1;32melse\u001b[0m\u001b[1;33m:\u001b[0m\u001b[1;33m\u001b[0m\u001b[1;33m\u001b[0m\u001b[0m\n\u001b[0;32m    170\u001b[0m         \u001b[0mtree\u001b[0m\u001b[1;33m.\u001b[0m\u001b[0mfit\u001b[0m\u001b[1;33m(\u001b[0m\u001b[0mX\u001b[0m\u001b[1;33m,\u001b[0m \u001b[0my\u001b[0m\u001b[1;33m,\u001b[0m \u001b[0msample_weight\u001b[0m\u001b[1;33m=\u001b[0m\u001b[0msample_weight\u001b[0m\u001b[1;33m,\u001b[0m \u001b[0mcheck_input\u001b[0m\u001b[1;33m=\u001b[0m\u001b[1;32mFalse\u001b[0m\u001b[1;33m)\u001b[0m\u001b[1;33m\u001b[0m\u001b[1;33m\u001b[0m\u001b[0m\n",
      "\u001b[1;32m~\\anaconda3\\lib\\site-packages\\sklearn\\tree\\_classes.py\u001b[0m in \u001b[0;36mfit\u001b[1;34m(self, X, y, sample_weight, check_input, X_idx_sorted)\u001b[0m\n\u001b[0;32m    888\u001b[0m         \"\"\"\n\u001b[0;32m    889\u001b[0m \u001b[1;33m\u001b[0m\u001b[0m\n\u001b[1;32m--> 890\u001b[1;33m         super().fit(\n\u001b[0m\u001b[0;32m    891\u001b[0m             \u001b[0mX\u001b[0m\u001b[1;33m,\u001b[0m \u001b[0my\u001b[0m\u001b[1;33m,\u001b[0m\u001b[1;33m\u001b[0m\u001b[1;33m\u001b[0m\u001b[0m\n\u001b[0;32m    892\u001b[0m             \u001b[0msample_weight\u001b[0m\u001b[1;33m=\u001b[0m\u001b[0msample_weight\u001b[0m\u001b[1;33m,\u001b[0m\u001b[1;33m\u001b[0m\u001b[1;33m\u001b[0m\u001b[0m\n",
      "\u001b[1;32m~\\anaconda3\\lib\\site-packages\\sklearn\\tree\\_classes.py\u001b[0m in \u001b[0;36mfit\u001b[1;34m(self, X, y, sample_weight, check_input, X_idx_sorted)\u001b[0m\n\u001b[0;32m    373\u001b[0m                                            min_impurity_split)\n\u001b[0;32m    374\u001b[0m \u001b[1;33m\u001b[0m\u001b[0m\n\u001b[1;32m--> 375\u001b[1;33m         \u001b[0mbuilder\u001b[0m\u001b[1;33m.\u001b[0m\u001b[0mbuild\u001b[0m\u001b[1;33m(\u001b[0m\u001b[0mself\u001b[0m\u001b[1;33m.\u001b[0m\u001b[0mtree_\u001b[0m\u001b[1;33m,\u001b[0m \u001b[0mX\u001b[0m\u001b[1;33m,\u001b[0m \u001b[0my\u001b[0m\u001b[1;33m,\u001b[0m \u001b[0msample_weight\u001b[0m\u001b[1;33m,\u001b[0m \u001b[0mX_idx_sorted\u001b[0m\u001b[1;33m)\u001b[0m\u001b[1;33m\u001b[0m\u001b[1;33m\u001b[0m\u001b[0m\n\u001b[0m\u001b[0;32m    376\u001b[0m \u001b[1;33m\u001b[0m\u001b[0m\n\u001b[0;32m    377\u001b[0m         \u001b[1;32mif\u001b[0m \u001b[0mself\u001b[0m\u001b[1;33m.\u001b[0m\u001b[0mn_outputs_\u001b[0m \u001b[1;33m==\u001b[0m \u001b[1;36m1\u001b[0m \u001b[1;32mand\u001b[0m \u001b[0mis_classifier\u001b[0m\u001b[1;33m(\u001b[0m\u001b[0mself\u001b[0m\u001b[1;33m)\u001b[0m\u001b[1;33m:\u001b[0m\u001b[1;33m\u001b[0m\u001b[1;33m\u001b[0m\u001b[0m\n",
      "\u001b[1;31mKeyboardInterrupt\u001b[0m: "
     ]
    }
   ],
   "source": [
    "#Buscando melhores parâmetros- Random Forest\n",
    "from sklearn.ensemble import RandomForestClassifier\n",
    "from sklearn.metrics import confusion_matrix, accuracy_score\n",
    "min_samples = [2, 10, 50, 200, 1000]\n",
    "n_est = [10, 20, 50, 100]\n",
    "crit = ['entropy', 'gini']\n",
    "for s in range(len(min_samples)):\n",
    "  for n in range(len(n_est)):\n",
    "    for c in range(len(crit)):\n",
    "      print(s, n, c)\n",
    "      print(\"n_estimators = \",  n_est[n], \", criterion = \", crit[c], \", min_samples_split = \", min_samples[s])\n",
    "      classifier_RF = RandomForestClassifier(n_estimators = n_est[n], criterion = crit[c], min_samples_split = min_samples[s], random_state = 0)\n",
    "      classifier_RF.fit(evasao_train, status_evadido_train)\n",
    "      status_evadido_pred_RF = classifier_RF.predict(evasao_test)\n",
    "      acuracia_RF = accuracy_score(status_evadido_test, status_evadido_pred_RF)\n",
    "      print(\"Acuracia: \", acuracia_RF)\n",
    "      cm_RF = confusion_matrix(status_evadido_test, status_evadido_pred_RF)\n",
    "      print(\"Confusion Matrix: \")\n",
    "      print(cm_RF)\n",
    "      print()"
   ]
  },
  {
   "cell_type": "code",
   "execution_count": 47,
   "id": "4c0fd6bb",
   "metadata": {
    "colab": {
     "base_uri": "https://localhost:8080/"
    },
    "executionInfo": {
     "elapsed": 48115,
     "status": "ok",
     "timestamp": 1624142527210,
     "user": {
      "displayName": "Marcos Pacheco Jr",
      "photoUrl": "",
      "userId": "13463696138139050654"
     },
     "user_tz": 180
    },
    "id": "sY8s1OyRBSmo",
    "outputId": "e9a0a2cd-f347-4281-b3f9-88b90e9a5fca"
   },
   "outputs": [
    {
     "name": "stdout",
     "output_type": "stream",
     "text": [
      "Acuracia:  0.6487103905674282\n",
      "Confusion Matrix: \n",
      "[[9118 4397]\n",
      " [5137 8488]]\n",
      "\n"
     ]
    }
   ],
   "source": [
    "#melhores parâmetros- Random Forest\n",
    "from sklearn.ensemble import RandomForestClassifier\n",
    "from sklearn.metrics import confusion_matrix, accuracy_score\n",
    "classifier_RF = RandomForestClassifier(n_estimators =  100 , criterion =  \"entropy\" , min_samples_split =  50, random_state = 0)\n",
    "classifier_RF.fit(evasao_train, status_evadido_train)\n",
    "status_evadido_pred_RF = classifier_RF.predict(evasao_test)\n",
    "acuracia_RF = accuracy_score(status_evadido_test, status_evadido_pred_RF)\n",
    "print(\"Acuracia: \", acuracia_RF)\n",
    "cm_RF = confusion_matrix(status_evadido_test, status_evadido_pred_RF)\n",
    "print(\"Confusion Matrix: \")\n",
    "print(cm_RF)\n",
    "print()"
   ]
  },
  {
   "cell_type": "code",
   "execution_count": 48,
   "id": "7ce87add",
   "metadata": {
    "colab": {
     "base_uri": "https://localhost:8080/",
     "height": 279
    },
    "executionInfo": {
     "elapsed": 2298,
     "status": "ok",
     "timestamp": 1624142531973,
     "user": {
      "displayName": "Marcos Pacheco Jr",
      "photoUrl": "",
      "userId": "13463696138139050654"
     },
     "user_tz": 180
    },
    "id": "r1l_AB0n7_3V",
    "outputId": "70411f9f-151c-4671-bb3a-e98eaa19511b"
   },
   "outputs": [
    {
     "data": {
      "image/png": "[encoded data removed]",
      "text/plain": [
       "<Figure size 432x288 with 1 Axes>"
      ]
     },
     "metadata": {
      "needs_background": "light"
     },
     "output_type": "display_data"
    }
   ],
   "source": [
    "#ROC AUC\n",
    "from sklearn.metrics import roc_auc_score\n",
    "from sklearn.metrics import roc_curve, auc\n",
    "from sklearn.metrics import plot_roc_curve\n",
    "import matplotlib.pyplot as plt\n",
    "ax = plt.gca()\n",
    "rfc_disp = plot_roc_curve(classifier_RF, evasao_test, status_evadido_test, ax=ax, alpha=0.8, color = 'blue')\n",
    "#svc_disp = plot_roc_curve(classifier_SVM, evasao_test, status_evadido_test, ax=ax, alpha=0.8, color = 'green')\n",
    "plt.show()"
   ]
  },
  {
   "cell_type": "code",
   "execution_count": 49,
   "id": "b2abfbd2",
   "metadata": {
    "colab": {
     "base_uri": "https://localhost:8080/",
     "height": 726
    },
    "executionInfo": {
     "elapsed": 367,
     "status": "ok",
     "timestamp": 1624139433384,
     "user": {
      "displayName": "Marcos Pacheco Jr",
      "photoUrl": "",
      "userId": "13463696138139050654"
     },
     "user_tz": 180
    },
    "id": "Asz-4QB7K6uA",
    "outputId": "cd2dc7f0-30ae-4cb7-83e1-d952e3c53b38"
   },
   "outputs": [
    {
     "data": {
      "text/html": [
       "<h1>Random Forest predict_proba</h1><table border=\"1\" class=\"dataframe\">\n",
       "  <thead>\n",
       "    <tr style=\"text-align: right;\">\n",
       "      <th></th>\n",
       "      <th>0</th>\n",
       "      <th>1</th>\n",
       "    </tr>\n",
       "  </thead>\n",
       "  <tbody>\n",
       "    <tr>\n",
       "      <th>0</th>\n",
       "      <td>0.414348</td>\n",
       "      <td>0.585652</td>\n",
       "    </tr>\n",
       "    <tr>\n",
       "      <th>1</th>\n",
       "      <td>0.532135</td>\n",
       "      <td>0.467865</td>\n",
       "    </tr>\n",
       "    <tr>\n",
       "      <th>2</th>\n",
       "      <td>0.506571</td>\n",
       "      <td>0.493429</td>\n",
       "    </tr>\n",
       "    <tr>\n",
       "      <th>3</th>\n",
       "      <td>0.229502</td>\n",
       "      <td>0.770498</td>\n",
       "    </tr>\n",
       "    <tr>\n",
       "      <th>4</th>\n",
       "      <td>0.331459</td>\n",
       "      <td>0.668541</td>\n",
       "    </tr>\n",
       "    <tr>\n",
       "      <th>5</th>\n",
       "      <td>0.397548</td>\n",
       "      <td>0.602452</td>\n",
       "    </tr>\n",
       "    <tr>\n",
       "      <th>6</th>\n",
       "      <td>0.425563</td>\n",
       "      <td>0.574437</td>\n",
       "    </tr>\n",
       "    <tr>\n",
       "      <th>7</th>\n",
       "      <td>0.811678</td>\n",
       "      <td>0.188322</td>\n",
       "    </tr>\n",
       "    <tr>\n",
       "      <th>8</th>\n",
       "      <td>0.315536</td>\n",
       "      <td>0.684464</td>\n",
       "    </tr>\n",
       "    <tr>\n",
       "      <th>9</th>\n",
       "      <td>0.632836</td>\n",
       "      <td>0.367164</td>\n",
       "    </tr>\n",
       "    <tr>\n",
       "      <th>10</th>\n",
       "      <td>0.460180</td>\n",
       "      <td>0.539820</td>\n",
       "    </tr>\n",
       "    <tr>\n",
       "      <th>11</th>\n",
       "      <td>0.462504</td>\n",
       "      <td>0.537496</td>\n",
       "    </tr>\n",
       "    <tr>\n",
       "      <th>12</th>\n",
       "      <td>0.508179</td>\n",
       "      <td>0.491821</td>\n",
       "    </tr>\n",
       "    <tr>\n",
       "      <th>13</th>\n",
       "      <td>0.700892</td>\n",
       "      <td>0.299108</td>\n",
       "    </tr>\n",
       "    <tr>\n",
       "      <th>14</th>\n",
       "      <td>0.518825</td>\n",
       "      <td>0.481175</td>\n",
       "    </tr>\n",
       "    <tr>\n",
       "      <th>15</th>\n",
       "      <td>0.155978</td>\n",
       "      <td>0.844022</td>\n",
       "    </tr>\n",
       "    <tr>\n",
       "      <th>16</th>\n",
       "      <td>0.578988</td>\n",
       "      <td>0.421012</td>\n",
       "    </tr>\n",
       "    <tr>\n",
       "      <th>17</th>\n",
       "      <td>0.091270</td>\n",
       "      <td>0.908730</td>\n",
       "    </tr>\n",
       "    <tr>\n",
       "      <th>18</th>\n",
       "      <td>0.698695</td>\n",
       "      <td>0.301305</td>\n",
       "    </tr>\n",
       "    <tr>\n",
       "      <th>19</th>\n",
       "      <td>0.522344</td>\n",
       "      <td>0.477656</td>\n",
       "    </tr>\n",
       "  </tbody>\n",
       "</table>"
      ],
      "text/plain": [
       "<IPython.core.display.HTML object>"
      ]
     },
     "execution_count": 49,
     "metadata": {},
     "output_type": "execute_result"
    }
   ],
   "source": [
    "#Predict_proba\n",
    "from pandas import DataFrame\n",
    "from IPython.display import HTML\n",
    "from random import sample\n",
    "sample_evasao_test = sample(list(evasao_test),20)\n",
    "pred_prob_RF = classifier_RF.predict_proba(sample_evasao_test)\n",
    "HTML('<h1>Random Forest predict_proba</h1>'+DataFrame(pred_prob_RF).to_html())"
   ]
  },
  {
   "cell_type": "code",
   "execution_count": 50,
   "id": "e7d43c99",
   "metadata": {
    "colab": {
     "base_uri": "https://localhost:8080/",
     "height": 333
    },
    "executionInfo": {
     "elapsed": 35353,
     "status": "ok",
     "timestamp": 1624142581024,
     "user": {
      "displayName": "Marcos Pacheco Jr",
      "photoUrl": "",
      "userId": "13463696138139050654"
     },
     "user_tz": 180
    },
    "id": "AzDzsff5Qpfv",
    "outputId": "46b27462-0201-4dc6-ab52-0417db1f447c"
   },
   "outputs": [
    {
     "data": {
      "text/plain": [
       "Status_evadido\n",
       "0    AxesSubplot(0.125,0.125;0.775x0.755)\n",
       "1    AxesSubplot(0.125,0.125;0.775x0.755)\n",
       "Name: predict_proba_RF, dtype: object"
      ]
     },
     "execution_count": 50,
     "metadata": {},
     "output_type": "execute_result"
    },
    {
     "data": {
      "image/png": "[encoded data removed]",
      "text/plain": [
       "<Figure size 432x288 with 1 Axes>"
      ]
     },
     "metadata": {
      "needs_background": "light"
     },
     "output_type": "display_data"
    }
   ],
   "source": [
    "y_predict = classifier_RF.predict(evasao_features)\n",
    "evasao['y_pred'] = y_predict\n",
    "evasao['predict_proba_RF'] = classifier_RF.predict_proba(evasao_features)[:,1]\n",
    "evasao.groupby('Status_evadido')['predict_proba_RF'].hist()"
   ]
  },
  {
   "cell_type": "code",
   "execution_count": 51,
   "id": "0aa31961",
   "metadata": {
    "colab": {
     "base_uri": "https://localhost:8080/"
    },
    "executionInfo": {
     "elapsed": 231,
     "status": "ok",
     "timestamp": 1624142868661,
     "user": {
      "displayName": "Marcos Pacheco Jr",
      "photoUrl": "",
      "userId": "13463696138139050654"
     },
     "user_tz": 180
    },
    "id": "wn7Zyz2cWXn7",
    "outputId": "98a82a5c-c42e-4f66-f2f8-ceb8656ac93d"
   },
   "outputs": [
    {
     "data": {
      "text/plain": [
       "0.0    0.014335\n",
       "0.1    0.247998\n",
       "0.2    0.301374\n",
       "0.3    0.325277\n",
       "0.4    0.367358\n",
       "0.5    0.420191\n",
       "0.6    0.482645\n",
       "0.7    0.534739\n",
       "0.8    0.573499\n",
       "0.9    0.629221\n",
       "1.0    1.000000\n",
       "Name: predict_proba_RF, dtype: float64"
      ]
     },
     "execution_count": 51,
     "metadata": {},
     "output_type": "execute_result"
    }
   ],
   "source": [
    "q = evasao['predict_proba_RF'].quantile([0.00, 0.10, 0.20, 0.30, 0.40, 0.50, 0.60, 0.70, 0.80, 0.90, 1.00])\n",
    "q"
   ]
  },
  {
   "cell_type": "code",
   "execution_count": 52,
   "id": "63f74e0d",
   "metadata": {
    "colab": {
     "base_uri": "https://localhost:8080/"
    },
    "executionInfo": {
     "elapsed": 235,
     "status": "ok",
     "timestamp": 1624143323325,
     "user": {
      "displayName": "Marcos Pacheco Jr",
      "photoUrl": "",
      "userId": "13463696138139050654"
     },
     "user_tz": 180
    },
    "id": "MK4gVgLAevXS",
    "outputId": "5f96dc7a-09e4-4e7e-fb71-44ed31e3de5d"
   },
   "outputs": [
    {
     "data": {
      "text/plain": [
       "0    0.918226\n",
       "1    0.081774\n",
       "Name: Status_evadido, dtype: float64"
      ]
     },
     "execution_count": 52,
     "metadata": {},
     "output_type": "execute_result"
    }
   ],
   "source": [
    "evasao['Status_evadido'].value_counts()/len(evasao)"
   ]
  },
  {
   "cell_type": "code",
   "execution_count": 53,
   "id": "181921e1",
   "metadata": {
    "colab": {
     "base_uri": "https://localhost:8080/",
     "height": 173
    },
    "executionInfo": {
     "elapsed": 244,
     "status": "ok",
     "timestamp": 1624145446272,
     "user": {
      "displayName": "Marcos Pacheco Jr",
      "photoUrl": "",
      "userId": "13463696138139050654"
     },
     "user_tz": 180
    },
    "id": "7TEF3rU8a2BL",
    "outputId": "0da06fe4-d4af-4bc5-929f-f63597cd4352"
   },
   "outputs": [
    {
     "data": {
      "text/html": [
       "<div>\n",
       "<style scoped>\n",
       "    .dataframe tbody tr th:only-of-type {\n",
       "        vertical-align: middle;\n",
       "    }\n",
       "\n",
       "    .dataframe tbody tr th {\n",
       "        vertical-align: top;\n",
       "    }\n",
       "\n",
       "    .dataframe thead th {\n",
       "        text-align: right;\n",
       "    }\n",
       "</style>\n",
       "<table border=\"1\" class=\"dataframe\">\n",
       "  <thead>\n",
       "    <tr style=\"text-align: right;\">\n",
       "      <th></th>\n",
       "      <th>prob</th>\n",
       "    </tr>\n",
       "  </thead>\n",
       "  <tbody>\n",
       "    <tr>\n",
       "      <th>0.300</th>\n",
       "      <td>0.325277</td>\n",
       "    </tr>\n",
       "    <tr>\n",
       "      <th>0.600</th>\n",
       "      <td>0.482645</td>\n",
       "    </tr>\n",
       "    <tr>\n",
       "      <th>0.859</th>\n",
       "      <td>0.598534</td>\n",
       "    </tr>\n",
       "    <tr>\n",
       "      <th>1.000</th>\n",
       "      <td>1.000000</td>\n",
       "    </tr>\n",
       "  </tbody>\n",
       "</table>\n",
       "</div>"
      ],
      "text/plain": [
       "           prob\n",
       "0.300  0.325277\n",
       "0.600  0.482645\n",
       "0.859  0.598534\n",
       "1.000  1.000000"
      ]
     },
     "execution_count": 53,
     "metadata": {},
     "output_type": "execute_result"
    }
   ],
   "source": [
    "q = evasao['predict_proba_RF'].quantile([0.30, 0.60, 0.859, 1.00])\n",
    "q = pd.DataFrame(q)\n",
    "q.columns = ['prob']\n",
    "q"
   ]
  },
  {
   "cell_type": "code",
   "execution_count": 54,
   "id": "348dafee",
   "metadata": {
    "colab": {
     "base_uri": "https://localhost:8080/",
     "height": 173
    },
    "executionInfo": {
     "elapsed": 326,
     "status": "ok",
     "timestamp": 1624145729695,
     "user": {
      "displayName": "Marcos Pacheco Jr",
      "photoUrl": "",
      "userId": "13463696138139050654"
     },
     "user_tz": 180
    },
    "id": "uLoaLmayf534",
    "outputId": "f6ea1353-560e-4520-dc9e-f1b981ad3514"
   },
   "outputs": [
    {
     "data": {
      "text/html": [
       "<div>\n",
       "<style scoped>\n",
       "    .dataframe tbody tr th:only-of-type {\n",
       "        vertical-align: middle;\n",
       "    }\n",
       "\n",
       "    .dataframe tbody tr th {\n",
       "        vertical-align: top;\n",
       "    }\n",
       "\n",
       "    .dataframe thead th {\n",
       "        text-align: right;\n",
       "    }\n",
       "</style>\n",
       "<table border=\"1\" class=\"dataframe\">\n",
       "  <thead>\n",
       "    <tr style=\"text-align: right;\">\n",
       "      <th></th>\n",
       "      <th>Risco de Evasao</th>\n",
       "      <th>Probab. de Evasão</th>\n",
       "      <th>% da população</th>\n",
       "    </tr>\n",
       "  </thead>\n",
       "  <tbody>\n",
       "    <tr>\n",
       "      <th>0</th>\n",
       "      <td>Baixo</td>\n",
       "      <td>Até 11%</td>\n",
       "      <td>30%</td>\n",
       "    </tr>\n",
       "    <tr>\n",
       "      <th>1</th>\n",
       "      <td>Médio-baixo</td>\n",
       "      <td>entre 11% e 24,5%</td>\n",
       "      <td>30%</td>\n",
       "    </tr>\n",
       "    <tr>\n",
       "      <th>2</th>\n",
       "      <td>Médio-alto</td>\n",
       "      <td>entre 24,5% e 80%</td>\n",
       "      <td>25,6%</td>\n",
       "    </tr>\n",
       "    <tr>\n",
       "      <th>3</th>\n",
       "      <td>Alto</td>\n",
       "      <td>entre 80% e 100%</td>\n",
       "      <td>14,4%</td>\n",
       "    </tr>\n",
       "  </tbody>\n",
       "</table>\n",
       "</div>"
      ],
      "text/plain": [
       "  Risco de Evasao  Probab. de Evasão % da população\n",
       "0           Baixo            Até 11%            30%\n",
       "1     Médio-baixo  entre 11% e 24,5%            30%\n",
       "2      Médio-alto  entre 24,5% e 80%          25,6%\n",
       "3            Alto   entre 80% e 100%          14,4%"
      ]
     },
     "execution_count": 54,
     "metadata": {},
     "output_type": "execute_result"
    }
   ],
   "source": [
    "analise_RF = {'Risco de Evasao':[\"Baixo\", \"Médio-baixo\", \"Médio-alto\", \"Alto\"], 'Probab. de Evasão': [\"Até 11%\", \"entre 11% e 24,5%\", \"entre 24,5% e 80%\", \"entre 80% e 100%\"], '% da população': [\"30%\", \"30%\", \"25,6%\", \"14,4%\"]}\n",
    "analise_RF = pd.DataFrame.from_dict(analise_RF, orient='columns')\n",
    "analise_RF"
   ]
  },
  {
   "cell_type": "code",
   "execution_count": 55,
   "id": "f590e1dc",
   "metadata": {},
   "outputs": [
    {
     "name": "stdout",
     "output_type": "stream",
     "text": [
      "Feature: 0, Score: 0.54319\n",
      "Feature: 1, Score: 0.01396\n",
      "Feature: 2, Score: 0.00041\n",
      "Feature: 3, Score: 0.00138\n",
      "Feature: 4, Score: 0.00140\n",
      "Feature: 5, Score: 0.00101\n",
      "Feature: 6, Score: 0.00000\n",
      "Feature: 7, Score: 0.00217\n",
      "Feature: 8, Score: 0.01250\n",
      "Feature: 9, Score: 0.00131\n",
      "Feature: 10, Score: 0.00133\n",
      "Feature: 11, Score: 0.00066\n",
      "Feature: 12, Score: 0.00002\n",
      "Feature: 13, Score: 0.00226\n",
      "Feature: 14, Score: 0.00089\n",
      "Feature: 15, Score: 0.13483\n",
      "Feature: 16, Score: 0.01139\n",
      "Feature: 17, Score: 0.00160\n",
      "Feature: 18, Score: 0.00987\n",
      "Feature: 19, Score: 0.00668\n",
      "Feature: 20, Score: 0.00321\n",
      "Feature: 21, Score: 0.02667\n",
      "Feature: 22, Score: 0.01532\n",
      "Feature: 23, Score: 0.00621\n",
      "Feature: 24, Score: 0.00645\n",
      "Feature: 25, Score: 0.00032\n",
      "Feature: 26, Score: 0.00171\n",
      "Feature: 27, Score: 0.00027\n",
      "Feature: 28, Score: 0.00330\n",
      "Feature: 29, Score: 0.00009\n",
      "Feature: 30, Score: 0.07425\n",
      "Feature: 31, Score: 0.00007\n",
      "Feature: 32, Score: 0.00016\n",
      "Feature: 33, Score: 0.00283\n",
      "Feature: 34, Score: 0.00430\n",
      "Feature: 35, Score: 0.06275\n",
      "Feature: 36, Score: 0.03240\n",
      "Feature: 37, Score: 0.01284\n",
      "Feature: 38, Score: 0.00000\n"
     ]
    },
    {
     "data": {
      "image/png": "[encoded data removed]",
      "text/plain": [
       "<Figure size 432x288 with 1 Axes>"
      ]
     },
     "metadata": {
      "needs_background": "light"
     },
     "output_type": "display_data"
    }
   ],
   "source": [
    "# random forest for feature importance on a classification problem\n",
    "from sklearn.datasets import make_classification\n",
    "from sklearn.ensemble import RandomForestClassifier\n",
    "from matplotlib import pyplot\n",
    "# get importance\n",
    "importance = classifier_RF.feature_importances_\n",
    "# summarize feature importance\n",
    "for i,v in enumerate(importance):\n",
    "\tprint('Feature: %0d, Score: %.5f' % (i,v))\n",
    "# plot feature importance\n",
    "pyplot.bar([x for x in range(len(importance))], importance)\n",
    "pyplot.show()"
   ]
  },
  {
   "cell_type": "code",
   "execution_count": 56,
   "id": "e71b7b9e",
   "metadata": {},
   "outputs": [],
   "source": [
    "import numpy as np\n",
    "\n",
    "importances = classifier_RF.feature_importances_\n",
    "std = np.std([\n",
    "    tree.feature_importances_ for tree in classifier_RF.estimators_], axis=0)"
   ]
  },
  {
   "cell_type": "code",
   "execution_count": 57,
   "id": "88a53ed9",
   "metadata": {},
   "outputs": [
    {
     "data": {
      "image/png": "[encoded data removed]",
      "text/plain": [
       "<Figure size 432x288 with 1 Axes>"
      ]
     },
     "metadata": {
      "needs_background": "light"
     },
     "output_type": "display_data"
    }
   ],
   "source": [
    "forest_importances = pd.Series(importances, index=evasao.drop(columns=['Status_evadido', 'y_pred', 'predict_proba_RF',\n",
    "                                                                       ]).columns.tolist())\n",
    "\n",
    "fig, ax = plt.subplots()\n",
    "forest_importances.plot.bar(yerr=std, ax=ax)\n",
    "ax.set_title(\"Feature importances using MDI\")\n",
    "ax.set_ylabel(\"Mean decrease in impurity\")\n",
    "fig.tight_layout()"
   ]
  },
  {
   "cell_type": "code",
   "execution_count": null,
   "id": "51052ad7",
   "metadata": {
    "id": "taZjrxiwybBS"
   },
   "outputs": [],
   "source": [
    "#curva roc, score probabilidade para todo o dataset classe.predict_proba, estudo de KomogorovSmirnoff (distâncias das classes negativas vs. classes positivas)\n",
    "#histogram das distribuições de cada classe/decis e criar uma label por decis, feature importance, otimizar modelo grid search\n",
    "#MLOPS - ML Operations (operacionalizar o modelo provido pelo cientista de dados)\n",
    "#DataOps - Entrega em estruturas"
   ]
  }
 ],
 "metadata": {
  "colab": {
   "collapsed_sections": [],
   "name": "OHE_2.ipynb",
   "provenance": []
  },
  "kernelspec": {
   "display_name": "Python 3",
   "language": "python",
   "name": "python3"
  },
  "language_info": {
   "codemirror_mode": {
    "name": "ipython",
    "version": 3
   },
   "file_extension": ".py",
   "mimetype": "text/x-python",
   "name": "python",
   "nbconvert_exporter": "python",
   "pygments_lexer": "ipython3",
   "version": "3.8.8"
  }
 },
 "nbformat": 4,
 "nbformat_minor": 5
}
